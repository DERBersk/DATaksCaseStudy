{
 "cells": [
  {
   "cell_type": "markdown",
   "id": "6d2a0d47",
   "metadata": {},
   "source": [
    "### Documentation and Notes"
   ]
  },
  {
   "cell_type": "markdown",
   "id": "91b7a237",
   "metadata": {},
   "source": [
    "\n",
    "**Data Analytics Case Study - Task 1 - Group 11**\n",
    "\n",
    "In the following, we will describe the development of a dataset generator. We decided on creating a dataset for social media account information containing 9 different features: in addition to an ID to keep track, we create the following information: Username, Age, Country, CreationDate, Description, FollowerCount, PostCount, and Language. We tried to incorporate several numerical features with different distributions and characteristics to be analyzed, as well as some textual data for text analysis.\n",
    "\n",
    "\n",
    "**Parameters:**\n",
    "\n",
    "There are several parameters that can be set in the creation in order to design the data. While the parameters can be set in the following cell of the Notebook, they namely include:\n",
    "\n",
    "- Output Count: the number of output entries to generate\n",
    "- Noise: a factor between 0 and 1 describing how noisy the created data should be \n",
    "- Bots: the percentage (between 0 and 1) of output results that are created as bot-accounts (creation-probability later follows uniform distribution)\n",
    "- Companies: the percentage (between 0 and 1) of output results that are created as company-accounts (creation-probability later follows uniform distribution)\n",
    "- NA probability: the percentage (between 0 and 1) of NA-entries in the output results (creation-probability later follows uniform distribution)\n",
    "\n",
    "note: the creation of a dataset with a reasonable number of entries may take a while. Reason for that is mainly the generation of the text description using an AI-generator. It is timely to replicate, which is why we added an exemplary dataset in the submission as well. However, Chat-GPT text generator does not allow to set a seed for creation for replication.\n",
    "\n",
    "\n",
    "**Setup:**\n",
    "\n",
    "In addition to the variable parameters to be set prior to the execution, there are several setup variables for the creation of the final output. These include a list of topics that is further used to create prompts for the text description generator. There is a list of topics for each type of account, i.e., bot, company or 'normal' accounts. We tried to collect topics that are typical for the types, respectively. In addition, we listed multiple languages and countries to use in the creation.\n",
    "\n",
    "- Set possible description topics.\n",
    "- Set bot description topics.\n",
    "- Set company description topics.\n",
    "- Set possible countries and languages.\n",
    "\n",
    "\n",
    "**Process and Features:**\n",
    "\n",
    "In the following, the general procedure of our dataset generator is briefly described with exemplary values to facilitate the understanding of the code. In addition, more information about the created features is given including for example correlations and distributions of the data.\n",
    "\n",
    "Please set the input parameters in the first cell, the setup lists in the second one can be kept without changing. Then, execute the following cells.\n",
    "\n",
    "For each entry:\n",
    "1. **First:** Classification as Bot or Not (e.g. Probability: 0.05)\n",
    "2. **Second:** Private company classification (e.g. Probability: 0.1 company):\n",
    "\n",
    "// create Age (follows normal distribution)\n",
    "- If company:\n",
    "  - Age = NA\n",
    "- Else:\n",
    "  - Age = Random (NA possible).\n",
    "\n",
    "// create CreationDate\n",
    "- If Bot:\n",
    "  - CreationDate set as more recent.\n",
    "- If not Bot:\n",
    "  - CreationDate set as completely random.\n",
    "\n",
    "// create Language and Country\n",
    "- Languages set as random (NA possible).\n",
    "- Location and Language can correlate (NA possible).\n",
    "\n",
    "// create PostCount (correlated with CreationDate)\n",
    "- If Bot:\n",
    "  - Post Count high.\n",
    "- If not Bot:\n",
    "  - Random post count.\n",
    "  \n",
    "// create FollowerCount (correlated with CreationDate)\n",
    "- If Bot:\n",
    "  - Follower count low.\n",
    "- If not Bot:\n",
    "  - Follower count random but minimal, correlated with creation date.\n",
    "  \n",
    "\n",
    "// create Description and Username (using Chat-GPT, as the creation of the descriptions is based on the pre-specified lists of topics, the resulting data could potentially be clustered by topic)\n",
    "- If Bot:\n",
    "  - Description based on bot topics.\n",
    "  - Name generated with description topics.\n",
    "- If not Bot:\n",
    "  - If company:\n",
    "    - Use company topics.\n",
    "    - Name generated with description topics.\n",
    "  - If not company:\n",
    "    - Description based on 'normal' topics.\n",
    "    - Name generated with description topics.\n"
   ]
  },
  {
   "cell_type": "markdown",
   "id": "8a4cd881",
   "metadata": {},
   "source": [
    "## Generator"
   ]
  },
  {
   "cell_type": "markdown",
   "id": "163132b5",
   "metadata": {},
   "source": [
    "### Inputs:"
   ]
  },
  {
   "cell_type": "code",
   "execution_count": 1,
   "id": "94b0983c",
   "metadata": {},
   "outputs": [],
   "source": [
    "# Parameters to be set\n",
    "OutputCount = 500 # Number of output Results\n",
    "Noise = 1 # Factor between 0 and 1\n",
    "Bots = 0.05 # Percentage of Bots\n",
    "Company = 0.1 # Percentage of Company accounts\n",
    "NA_Prob = 0.05 # Percentage of NAs"
   ]
  },
  {
   "cell_type": "code",
   "execution_count": 2,
   "id": "d1cbe7c7",
   "metadata": {},
   "outputs": [],
   "source": [
    "# Setup\n",
    "# Description Topics\n",
    "BotDesc = [\"Ukraine war\",\"Vote\",\"Republican\",\"Follow me\",\"Trump\",\"Democracy\",\"Bad\",\"Hate\",\"Dumb\",\"Covid\"]\n",
    "CompanyDesc = [\"Profit\",\"Business\",\"Fiscal year\",\"2023\",\"Expansion\",\"Success\",\"Job offer\",\"Event\",\"Margin\",\"Good vibes\"]\n",
    "NormalDesc = [\"Animals\",\"Sport\",\"Gaming\",\"2023\",\"Travel\",\"Fun\",\":)\",\"Event\",\"Job\",\"taking Images\",\"Politics\",\"Republicans\"]\n",
    "\n",
    "# Possible Countries and Languages\n",
    "Countries = [\"Germany\",\"France\",\"USA\",\"UK\",\"China\",\"Japan\",\"Russia\",\"Italy\",\"Netherlands\",\"Switzerland\"]\n",
    "Languages = [\"GER\",\"FRE\",\"ENG\",\"ENG\",\"MAN\",\"JAP\",\"RUS\",\"ITA\",\"NED\",\"GER\"]"
   ]
  },
  {
   "cell_type": "markdown",
   "id": "4ef8e6d5",
   "metadata": {},
   "source": [
    "### Code"
   ]
  },
  {
   "cell_type": "code",
   "execution_count": 3,
   "id": "67a4de74",
   "metadata": {},
   "outputs": [
    {
     "name": "stderr",
     "output_type": "stream",
     "text": [
      "C:\\Users\\domin\\anaconda3\\envs\\DA1\\Lib\\site-packages\\tqdm\\auto.py:21: TqdmWarning: IProgress not found. Please update jupyter and ipywidgets. See https://ipywidgets.readthedocs.io/en/stable/user_install.html\n",
      "  from .autonotebook import tqdm as notebook_tqdm\n"
     ]
    }
   ],
   "source": [
    "# All these installations should be done.\n",
    "# !pip install pandas\n",
    "# !pip install numpy\n",
    "# !pip install random\n",
    "# !pip install faker\n",
    "# !pip install torchvision\n",
    "# !pip install warnings\n",
    "# Imports\n",
    "import pandas as pd\n",
    "import numpy as np\n",
    "from datetime import datetime,timedelta\n",
    "import random\n",
    "import time\n",
    "from transformers import AutoModelForCausalLM, AutoTokenizer\n",
    "import faker\n",
    "import warnings\n",
    "warnings.filterwarnings(\"ignore\")"
   ]
  },
  {
   "cell_type": "code",
   "execution_count": 4,
   "id": "6927ad5d",
   "metadata": {},
   "outputs": [],
   "source": [
    "# create empty panda DF\n",
    "data = {\n",
    "    'ID': [],\n",
    "    'Username': [],\n",
    "    'Age': [],\n",
    "    'Country': [],\n",
    "    'CreationDate': [],\n",
    "    'Description': [],\n",
    "    'FollowerCount': [],\n",
    "    'PostCount': [],\n",
    "    'Language': []\n",
    "}\n",
    "\n",
    "df = pd.DataFrame(data)\n",
    "\n",
    "row = {'ID':'','Username': '','Age': '','Country': '','CreationDate': '','Description': '','FollowerCount': '','PostCount': '','Language': ''}"
   ]
  },
  {
   "cell_type": "code",
   "execution_count": 5,
   "id": "98d2b58d",
   "metadata": {},
   "outputs": [],
   "source": [
    "# create dates\n",
    "def str_time_prop(start, end, time_format, prop):\n",
    "    \"\"\"Get a time at a proportion of a range of two formatted times.\n",
    "\n",
    "    start and end should be strings specifying times formatted in the\n",
    "    given format (strftime-style), giving an interval [start, end].\n",
    "    prop specifies how a proportion of the interval to be taken after\n",
    "    start.  The returned time will be in the specified format.\n",
    "    \"\"\"\n",
    "\n",
    "    stime = time.mktime(time.strptime(start, time_format))\n",
    "    etime = time.mktime(time.strptime(end, time_format))\n",
    "\n",
    "    ptime = stime + prop * (etime - stime)\n",
    "\n",
    "    return time.strftime(time_format, time.localtime(ptime))\n",
    "\n",
    "\n",
    "def random_date(start, end, prop):\n",
    "    return str_time_prop(start, end, '%m/%d/%Y %I:%M %p', prop)"
   ]
  },
  {
   "cell_type": "code",
   "execution_count": 6,
   "id": "24301a16",
   "metadata": {},
   "outputs": [],
   "source": [
    "# instantiate the AI-model for text generation\n",
    "\n",
    "rng = np.random.default_rng(1)\n",
    "fake = faker.Faker()\n",
    "model_name = \"EleutherAI/gpt-neo-1.3B\"\n",
    "model = AutoModelForCausalLM.from_pretrained(model_name)\n",
    "tokenizer = AutoTokenizer.from_pretrained(model_name)\n",
    "\n",
    "# model_name = \"meta-llama/Llama-2-7b-chat-hf\"\n",
    "# model = AutoModelForCausalLM.from_pretrained(model_name)\n",
    "# tokenizer = AutoTokenizer.from_pretrained(model_name)"
   ]
  },
  {
   "cell_type": "code",
   "execution_count": 7,
   "id": "68fadbcb",
   "metadata": {},
   "outputs": [],
   "source": [
    "# function-creation for the features following the characteristics as described in the introductory documentation\n",
    "\n",
    "def decide_account_type(bot, company, Topicslist):\n",
    "    bot = False\n",
    "    company = False\n",
    "    Topicslist = []\n",
    "\n",
    "    def append_topics(desc_list, count):\n",
    "        for _ in range(count):\n",
    "            n = random.randint(0, len(desc_list) - 1)\n",
    "            Topicslist.append(n)\n",
    "\n",
    "    # Setting whether the account is a bot account\n",
    "    if rng.uniform() < Bots:\n",
    "        bot = True\n",
    "        append_topics(BotDesc, 3)\n",
    "\n",
    "    # Setting whether the account is a company account\n",
    "    elif rng.uniform() < Company:\n",
    "        company = True\n",
    "        append_topics(CompanyDesc, 3)\n",
    "\n",
    "    # Setting the topiclist-IDs, when the account is a normal account\n",
    "    else:\n",
    "        append_topics(NormalDesc, 3)\n",
    "\n",
    "    return bot, company, Topicslist\n",
    "\n",
    "\n",
    "# Setting the age\n",
    "def set_age(company):\n",
    "    if company or rng.uniform() < NA_Prob:\n",
    "        return \"\"  # or return None\n",
    "\n",
    "    age = np.random.normal(loc=30, scale=25, size=None)\n",
    "    while age < 16:\n",
    "        age = np.random.normal(loc=30, scale=25, size=None)\n",
    "\n",
    "    return round(age)\n",
    "\n",
    "\n",
    "# Setting the creation date\n",
    "def set_creation_date(bot):\n",
    "    if bot:\n",
    "        return random_date(\"1/1/2020 1:30 PM\", \"1/24/2024 11:59 PM\", random.random())\n",
    "    else:\n",
    "        return random_date(\"1/1/2008 1:30 PM\", \"1/24/2024 11:59 PM\", random.random())\n",
    "\n",
    "\n",
    "# setting the country and language\n",
    "def set_country_language():\n",
    "    rand_country = round(random.randrange(0, 9))\n",
    "    if rng.uniform() < NA_Prob:\n",
    "        country = \"\"\n",
    "    else:\n",
    "        country = Countries[rand_country]\n",
    "\n",
    "    if rng.uniform() < 0.4:\n",
    "        rand_language = round(random.randrange(0, 9))\n",
    "        language = Languages[rand_language]\n",
    "    else:\n",
    "        language = Languages[rand_country]\n",
    "    return country, language\n",
    "\n",
    "\n",
    "# Calculating the age of the account\n",
    "def calculate_account_age(creation_date):\n",
    "    account_date_difference = datetime.strptime(\n",
    "        \"1/24/2024 11:59 PM\", \"%m/%d/%Y %I:%M %p\"\n",
    "    ) - datetime.strptime(creation_date, \"%m/%d/%Y %I:%M %p\")\n",
    "    return abs(account_date_difference.days)\n",
    "\n",
    "\n",
    "# Calculating the FollowerCount & PostCount based on the account age\n",
    "def calculate_followers_posts(bot, account_age):\n",
    "    if bot:\n",
    "        f_multiplier = 0.5\n",
    "        p_multiplier = random.randrange(10, 30)\n",
    "        f_loc = 0.1*Noise\n",
    "        f_scale = 0.2*Noise\n",
    "        p_loc = 0.1*Noise\n",
    "        p_scale = 0.5*Noise\n",
    "    else:\n",
    "        f_multiplier = 1*Noise\n",
    "        p_multiplier = 0.1*Noise\n",
    "        f_loc = 0.4*Noise\n",
    "        f_scale = 2*Noise\n",
    "        p_loc = 0.05*Noise\n",
    "        p_scale = 0.1*Noise\n",
    "\n",
    "    follower_count = (\n",
    "        np.random.normal(loc=f_loc, scale=f_scale, size=None)\n",
    "        * account_age\n",
    "        * f_multiplier\n",
    "    )\n",
    "\n",
    "    post_count = (\n",
    "        np.random.normal(loc=p_loc, scale=p_scale, size=None)\n",
    "        * account_age\n",
    "        * p_multiplier\n",
    "    )\n",
    "\n",
    "    return abs(round(follower_count)), abs(round(post_count))\n",
    "\n",
    "\n",
    "# Define the random username of the user\n",
    "def generate_username():\n",
    "    if random.uniform(0, 1) < 0.5:\n",
    "        return fake.user_name()\n",
    "    else:\n",
    "        if random.uniform(0, 1) < 0.5:\n",
    "            return (\n",
    "                str(random.randrange(1950, 2005)) + \"_\" + fake.user_name()\n",
    "            )\n",
    "        else:\n",
    "            return fake.user_name() + \"_\" + str(random.randrange(1950, 2005))\n",
    "\n",
    "        \n",
    "# generate the text description\n",
    "def generate_description(\n",
    "    bot,\n",
    "    company,\n",
    "    Topicslist,\n",
    "    username,\n",
    "    BotDesc,\n",
    "    CompanyDesc,\n",
    "    NormalDesc,\n",
    "    model,\n",
    "    tokenizer,\n",
    "):\n",
    "    def construct_prompt(entity_type, desc_list):\n",
    "        topics = \", \".join(str(desc_list[topic]) for topic in Topicslist[:3])\n",
    "        return f\"{username}, topics: {topics}, short profile description:\"\n",
    "\n",
    "    def clean_generated_text(text, prompt):\n",
    "        text = text.replace(prompt, \"\").strip()  # Remove prompt if present in the result\n",
    "        for char in [\"\\n\", \")\", '\"']:\n",
    "            text = text.replace(char, \"\")\n",
    "        return text\n",
    "\n",
    "    if bot:\n",
    "        prompt = construct_prompt(\"bot\", BotDesc)\n",
    "    elif company:\n",
    "        prompt = construct_prompt(\"company\", CompanyDesc)\n",
    "    else:\n",
    "        prompt = construct_prompt(\"user\", NormalDesc)\n",
    "\n",
    "    input_ids = tokenizer.encode(prompt, return_tensors=\"pt\")\n",
    "\n",
    "    output = model.generate(input_ids, max_new_tokens=15, num_return_sequences=1)\n",
    "    generated_text = tokenizer.decode(output[0], skip_special_tokens=True)\n",
    "    result = clean_generated_text(generated_text, prompt)\n",
    "\n",
    "    return result"
   ]
  },
  {
   "cell_type": "code",
   "execution_count": 8,
   "id": "3e741c9a",
   "metadata": {},
   "outputs": [
    {
     "name": "stderr",
     "output_type": "stream",
     "text": [
      "The attention mask and the pad token id were not set. As a consequence, you may observe unexpected behavior. Please pass your input's `attention_mask` to obtain reliable results.\n",
      "Setting `pad_token_id` to `eos_token_id`:50256 for open-end generation.\n",
      "The attention mask and the pad token id were not set. As a consequence, you may observe unexpected behavior. Please pass your input's `attention_mask` to obtain reliable results.\n"
     ]
    },
    {
     "name": "stdout",
     "output_type": "stream",
     "text": [
      "Finished: row 1 of 500\n",
      "{'ID': 1, 'Username': 'mark51', 'Age': 39, 'Country': 'Germany', 'CreationDate': '02/29/2016 06:00 PM', 'Description': 'I am a gamer, and I am a gamer for a reason', 'FollowerCount': 2673, 'PostCount': 24, 'Language': 'GER'}\n"
     ]
    },
    {
     "name": "stderr",
     "output_type": "stream",
     "text": [
      "Setting `pad_token_id` to `eos_token_id`:50256 for open-end generation.\n",
      "The attention mask and the pad token id were not set. As a consequence, you may observe unexpected behavior. Please pass your input's `attention_mask` to obtain reliable results.\n",
      "Setting `pad_token_id` to `eos_token_id`:50256 for open-end generation.\n"
     ]
    },
    {
     "name": "stdout",
     "output_type": "stream",
     "text": [
      "Finished: row 2 of 500\n",
      "{'ID': 2, 'Username': 'lucerocarol_1981', 'Age': 27, 'Country': 'China', 'CreationDate': '12/13/2023 07:50 AM', 'Description': 'The first of the two species of the genus _Lucerocarol', 'FollowerCount': 161, 'PostCount': 1, 'Language': 'GER'}\n"
     ]
    },
    {
     "name": "stderr",
     "output_type": "stream",
     "text": [
      "The attention mask and the pad token id were not set. As a consequence, you may observe unexpected behavior. Please pass your input's `attention_mask` to obtain reliable results.\n",
      "Setting `pad_token_id` to `eos_token_id`:50256 for open-end generation.\n"
     ]
    },
    {
     "name": "stdout",
     "output_type": "stream",
     "text": [
      "Finished: row 3 of 500\n",
      "{'ID': 3, 'Username': 'mbrewer', 'Age': 65, 'Country': 'China', 'CreationDate': '06/04/2018 01:02 AM', 'Description': 'The most important thing is to have a good time.', 'FollowerCount': 1275, 'PostCount': 11, 'Language': 'ENG'}\n"
     ]
    },
    {
     "name": "stderr",
     "output_type": "stream",
     "text": [
      "The attention mask and the pad token id were not set. As a consequence, you may observe unexpected behavior. Please pass your input's `attention_mask` to obtain reliable results.\n",
      "Setting `pad_token_id` to `eos_token_id`:50256 for open-end generation.\n"
     ]
    },
    {
     "name": "stdout",
     "output_type": "stream",
     "text": [
      "Finished: row 4 of 500\n",
      "{'ID': 4, 'Username': 'vchang', 'Age': 25, 'Country': 'Japan', 'CreationDate': '09/06/2018 08:33 PM', 'Description': ', :, :, :, :, :, :, :', 'FollowerCount': 497, 'PostCount': 5, 'Language': 'NED'}\n"
     ]
    },
    {
     "name": "stderr",
     "output_type": "stream",
     "text": [
      "The attention mask and the pad token id were not set. As a consequence, you may observe unexpected behavior. Please pass your input's `attention_mask` to obtain reliable results.\n",
      "Setting `pad_token_id` to `eos_token_id`:50256 for open-end generation.\n"
     ]
    },
    {
     "name": "stdout",
     "output_type": "stream",
     "text": [
      "Finished: row 5 of 500\n",
      "{'ID': 5, 'Username': 'ahall', 'Age': 54, 'Country': 'France', 'CreationDate': '08/03/2023 02:49 PM', 'Description': \"'A travel writer and photographer, who has been writing about travel for more\", 'FollowerCount': 56, 'PostCount': 3, 'Language': 'FRE'}\n"
     ]
    },
    {
     "name": "stderr",
     "output_type": "stream",
     "text": [
      "The attention mask and the pad token id were not set. As a consequence, you may observe unexpected behavior. Please pass your input's `attention_mask` to obtain reliable results.\n",
      "Setting `pad_token_id` to `eos_token_id`:50256 for open-end generation.\n"
     ]
    },
    {
     "name": "stdout",
     "output_type": "stream",
     "text": [
      "Finished: row 6 of 500\n",
      "{'ID': 6, 'Username': 'christina45', 'Age': 52, 'Country': 'Italy', 'CreationDate': '01/11/2008 06:31 PM', 'Description': 'I am a very passionate and enthusiastic person who loves to play games. I', 'FollowerCount': 2037, 'PostCount': 98, 'Language': 'ITA'}\n"
     ]
    },
    {
     "name": "stderr",
     "output_type": "stream",
     "text": [
      "The attention mask and the pad token id were not set. As a consequence, you may observe unexpected behavior. Please pass your input's `attention_mask` to obtain reliable results.\n",
      "Setting `pad_token_id` to `eos_token_id`:50256 for open-end generation.\n"
     ]
    },
    {
     "name": "stdout",
     "output_type": "stream",
     "text": [
      "Finished: row 7 of 500\n",
      "{'ID': 7, 'Username': '1962_collierdylan', 'Age': 26, 'Country': 'France', 'CreationDate': '01/20/2021 11:07 AM', 'Description': 'The Republican Party is the party of the people, the party of the people', 'FollowerCount': 1323, 'PostCount': 15, 'Language': 'FRE'}\n"
     ]
    },
    {
     "name": "stderr",
     "output_type": "stream",
     "text": [
      "The attention mask and the pad token id were not set. As a consequence, you may observe unexpected behavior. Please pass your input's `attention_mask` to obtain reliable results.\n",
      "Setting `pad_token_id` to `eos_token_id`:50256 for open-end generation.\n"
     ]
    },
    {
     "name": "stdout",
     "output_type": "stream",
     "text": [
      "Finished: row 8 of 500\n",
      "{'ID': 8, 'Username': 'hector57', 'Age': '', 'Country': 'China', 'CreationDate': '09/06/2016 01:33 PM', 'Description': 'The purpose of this course is to provide students with the knowledge and skills necessary', 'FollowerCount': 876, 'PostCount': 15, 'Language': 'MAN'}\n"
     ]
    },
    {
     "name": "stderr",
     "output_type": "stream",
     "text": [
      "The attention mask and the pad token id were not set. As a consequence, you may observe unexpected behavior. Please pass your input's `attention_mask` to obtain reliable results.\n",
      "Setting `pad_token_id` to `eos_token_id`:50256 for open-end generation.\n"
     ]
    },
    {
     "name": "stdout",
     "output_type": "stream",
     "text": [
      "Finished: row 9 of 500\n",
      "{'ID': 9, 'Username': '1981_robert55', 'Age': 42, 'Country': 'Russia', 'CreationDate': '06/23/2019 06:30 AM', 'Description': 'The first of the two new series of the _New York Times_', 'FollowerCount': 348, 'PostCount': 8, 'Language': 'ENG'}\n"
     ]
    },
    {
     "name": "stderr",
     "output_type": "stream",
     "text": [
      "The attention mask and the pad token id were not set. As a consequence, you may observe unexpected behavior. Please pass your input's `attention_mask` to obtain reliable results.\n",
      "Setting `pad_token_id` to `eos_token_id`:50256 for open-end generation.\n"
     ]
    },
    {
     "name": "stdout",
     "output_type": "stream",
     "text": [
      "Finished: row 10 of 500\n",
      "{'ID': 10, 'Username': 'robert93', 'Age': 20, 'Country': 'Italy', 'CreationDate': '06/27/2017 10:03 AM', 'Description': 'I am a professional athlete, I am a professional athlete, I am a', 'FollowerCount': 2735, 'PostCount': 3, 'Language': 'NED'}\n"
     ]
    },
    {
     "name": "stderr",
     "output_type": "stream",
     "text": [
      "The attention mask and the pad token id were not set. As a consequence, you may observe unexpected behavior. Please pass your input's `attention_mask` to obtain reliable results.\n",
      "Setting `pad_token_id` to `eos_token_id`:50256 for open-end generation.\n"
     ]
    },
    {
     "name": "stdout",
     "output_type": "stream",
     "text": [
      "Finished: row 11 of 500\n",
      "{'ID': 11, 'Username': 'terrifox_1950', 'Age': 40, 'Country': 'Netherlands', 'CreationDate': '05/16/2023 07:45 PM', 'Description': 'The first thing that strikes you about this man is his height.', 'FollowerCount': 22, 'PostCount': 0, 'Language': 'NED'}\n"
     ]
    },
    {
     "name": "stderr",
     "output_type": "stream",
     "text": [
      "The attention mask and the pad token id were not set. As a consequence, you may observe unexpected behavior. Please pass your input's `attention_mask` to obtain reliable results.\n",
      "Setting `pad_token_id` to `eos_token_id`:50256 for open-end generation.\n"
     ]
    },
    {
     "name": "stdout",
     "output_type": "stream",
     "text": [
      "Finished: row 12 of 500\n",
      "{'ID': 12, 'Username': 'simmonsmatthew_1951', 'Age': '', 'Country': 'Italy', 'CreationDate': '02/15/2008 09:41 AM', 'Description': 'The author is a professor of English at the University of North Carolina at Chapel', 'FollowerCount': 7953, 'PostCount': 27, 'Language': 'ITA'}\n"
     ]
    },
    {
     "name": "stderr",
     "output_type": "stream",
     "text": [
      "The attention mask and the pad token id were not set. As a consequence, you may observe unexpected behavior. Please pass your input's `attention_mask` to obtain reliable results.\n",
      "Setting `pad_token_id` to `eos_token_id`:50256 for open-end generation.\n"
     ]
    },
    {
     "name": "stdout",
     "output_type": "stream",
     "text": [
      "Finished: row 13 of 500\n",
      "{'ID': 13, 'Username': 'stoneautumn', 'Age': 30, 'Country': '', 'CreationDate': '09/28/2018 02:50 AM', 'Description': 'The author is a freelance writer and editor. He has written for a variety', 'FollowerCount': 1044, 'PostCount': 16, 'Language': 'ENG'}\n"
     ]
    },
    {
     "name": "stderr",
     "output_type": "stream",
     "text": [
      "The attention mask and the pad token id were not set. As a consequence, you may observe unexpected behavior. Please pass your input's `attention_mask` to obtain reliable results.\n",
      "Setting `pad_token_id` to `eos_token_id`:50256 for open-end generation.\n"
     ]
    },
    {
     "name": "stdout",
     "output_type": "stream",
     "text": [
      "Finished: row 14 of 500\n",
      "{'ID': 14, 'Username': 'christine49', 'Age': 49, 'Country': 'UK', 'CreationDate': '09/15/2009 12:56 PM', 'Description': 'The author is a retired veterinarian and has been a volunteer with the Humane', 'FollowerCount': 3223, 'PostCount': 46, 'Language': 'ENG'}\n"
     ]
    },
    {
     "name": "stderr",
     "output_type": "stream",
     "text": [
      "The attention mask and the pad token id were not set. As a consequence, you may observe unexpected behavior. Please pass your input's `attention_mask` to obtain reliable results.\n",
      "Setting `pad_token_id` to `eos_token_id`:50256 for open-end generation.\n"
     ]
    },
    {
     "name": "stdout",
     "output_type": "stream",
     "text": [
      "Finished: row 15 of 500\n",
      "{'ID': 15, 'Username': '1998_edwardsashley', 'Age': 53, 'Country': 'China', 'CreationDate': '10/19/2021 05:56 AM', 'Description': 'The Republican Party is the party of the rich and the powerful. It is', 'FollowerCount': 21, 'PostCount': 11, 'Language': 'MAN'}\n"
     ]
    },
    {
     "name": "stderr",
     "output_type": "stream",
     "text": [
      "The attention mask and the pad token id were not set. As a consequence, you may observe unexpected behavior. Please pass your input's `attention_mask` to obtain reliable results.\n",
      "Setting `pad_token_id` to `eos_token_id`:50256 for open-end generation.\n"
     ]
    },
    {
     "name": "stdout",
     "output_type": "stream",
     "text": [
      "Finished: row 16 of 500\n",
      "{'ID': 16, 'Username': '1985_astewart', 'Age': '', 'Country': 'USA', 'CreationDate': '08/14/2018 03:50 AM', 'Description': 'The author is a former member of the United States Air Force and', 'FollowerCount': 304, 'PostCount': 34, 'Language': 'ENG'}\n"
     ]
    },
    {
     "name": "stderr",
     "output_type": "stream",
     "text": [
      "The attention mask and the pad token id were not set. As a consequence, you may observe unexpected behavior. Please pass your input's `attention_mask` to obtain reliable results.\n",
      "Setting `pad_token_id` to `eos_token_id`:50256 for open-end generation.\n"
     ]
    },
    {
     "name": "stdout",
     "output_type": "stream",
     "text": [
      "Finished: row 17 of 500\n",
      "{'ID': 17, 'Username': '1987_danielnicholson', 'Age': 21, 'Country': 'USA', 'CreationDate': '07/21/2019 02:59 PM', 'Description': 'The Republican Party is the party of the people, the party of the people', 'FollowerCount': 739, 'PostCount': 9, 'Language': 'ENG'}\n"
     ]
    },
    {
     "name": "stderr",
     "output_type": "stream",
     "text": [
      "The attention mask and the pad token id were not set. As a consequence, you may observe unexpected behavior. Please pass your input's `attention_mask` to obtain reliable results.\n",
      "Setting `pad_token_id` to `eos_token_id`:50256 for open-end generation.\n"
     ]
    },
    {
     "name": "stdout",
     "output_type": "stream",
     "text": [
      "Finished: row 18 of 500\n",
      "{'ID': 18, 'Username': 'mhoward_1970', 'Age': 52, 'Country': 'USA', 'CreationDate': '04/12/2011 09:05 PM', 'Description': 'The first time I saw the movie, I was a little bit', 'FollowerCount': 1305, 'PostCount': 2, 'Language': 'ENG'}\n"
     ]
    },
    {
     "name": "stderr",
     "output_type": "stream",
     "text": [
      "The attention mask and the pad token id were not set. As a consequence, you may observe unexpected behavior. Please pass your input's `attention_mask` to obtain reliable results.\n",
      "Setting `pad_token_id` to `eos_token_id`:50256 for open-end generation.\n"
     ]
    },
    {
     "name": "stdout",
     "output_type": "stream",
     "text": [
      "Finished: row 19 of 500\n",
      "{'ID': 19, 'Username': 'renee69_1952', 'Age': 69, 'Country': 'Germany', 'CreationDate': '09/09/2021 06:00 PM', 'Description': 'The Republican Party is the party of the people. It is the party of', 'FollowerCount': 1984, 'PostCount': 2, 'Language': 'ENG'}\n",
      "Finished: row 20 of 500\n",
      "{'ID': 20, 'Username': '2004_davidlarson', 'Age': 43, 'Country': 'USA', 'CreationDate': '11/05/2021 01:32 AM', 'Description': 'The Republican Party is the party of hate. It is the party of', 'FollowerCount': 23, 'PostCount': 6973, 'Language': 'ENG'}\n"
     ]
    },
    {
     "name": "stderr",
     "output_type": "stream",
     "text": [
      "The attention mask and the pad token id were not set. As a consequence, you may observe unexpected behavior. Please pass your input's `attention_mask` to obtain reliable results.\n",
      "Setting `pad_token_id` to `eos_token_id`:50256 for open-end generation.\n",
      "The attention mask and the pad token id were not set. As a consequence, you may observe unexpected behavior. Please pass your input's `attention_mask` to obtain reliable results.\n",
      "Setting `pad_token_id` to `eos_token_id`:50256 for open-end generation.\n"
     ]
    },
    {
     "name": "stdout",
     "output_type": "stream",
     "text": [
      "Finished: row 21 of 500\n",
      "{'ID': 21, 'Username': 'hlester', 'Age': 35, 'Country': 'Japan', 'CreationDate': '06/04/2008 08:14 PM', 'Description': 'The author is a veterinarian and a writer.The author is a', 'FollowerCount': 6120, 'PostCount': 69, 'Language': 'JAP'}\n"
     ]
    },
    {
     "name": "stderr",
     "output_type": "stream",
     "text": [
      "The attention mask and the pad token id were not set. As a consequence, you may observe unexpected behavior. Please pass your input's `attention_mask` to obtain reliable results.\n",
      "Setting `pad_token_id` to `eos_token_id`:50256 for open-end generation.\n"
     ]
    },
    {
     "name": "stdout",
     "output_type": "stream",
     "text": [
      "Finished: row 22 of 500\n",
      "{'ID': 22, 'Username': '1987_larsonronald', 'Age': 57, 'Country': 'France', 'CreationDate': '03/13/2011 08:18 AM', 'Description': 'The Republican Party is the party of the people, the party of the', 'FollowerCount': 5918, 'PostCount': 80, 'Language': 'FRE'}\n"
     ]
    },
    {
     "name": "stderr",
     "output_type": "stream",
     "text": [
      "The attention mask and the pad token id were not set. As a consequence, you may observe unexpected behavior. Please pass your input's `attention_mask` to obtain reliable results.\n",
      "Setting `pad_token_id` to `eos_token_id`:50256 for open-end generation.\n"
     ]
    },
    {
     "name": "stdout",
     "output_type": "stream",
     "text": [
      "Finished: row 23 of 500\n",
      "{'ID': 23, 'Username': '1966_idunlap', 'Age': 54, 'Country': 'France', 'CreationDate': '06/13/2011 05:36 AM', 'Description': 'The event is a meeting of the European Parliament and the European Council', 'FollowerCount': 8797, 'PostCount': 42, 'Language': 'ENG'}\n"
     ]
    },
    {
     "name": "stderr",
     "output_type": "stream",
     "text": [
      "The attention mask and the pad token id were not set. As a consequence, you may observe unexpected behavior. Please pass your input's `attention_mask` to obtain reliable results.\n",
      "Setting `pad_token_id` to `eos_token_id`:50256 for open-end generation.\n"
     ]
    },
    {
     "name": "stdout",
     "output_type": "stream",
     "text": [
      "Finished: row 24 of 500\n",
      "{'ID': 24, 'Username': '1958_stephaniesmith', 'Age': 33, 'Country': 'Russia', 'CreationDate': '09/02/2019 08:18 PM', 'Description': 'The animals are a very important part of the world. They are', 'FollowerCount': 1338, 'PostCount': 33, 'Language': 'JAP'}\n"
     ]
    },
    {
     "name": "stderr",
     "output_type": "stream",
     "text": [
      "The attention mask and the pad token id were not set. As a consequence, you may observe unexpected behavior. Please pass your input's `attention_mask` to obtain reliable results.\n",
      "Setting `pad_token_id` to `eos_token_id`:50256 for open-end generation.\n"
     ]
    },
    {
     "name": "stdout",
     "output_type": "stream",
     "text": [
      "Finished: row 25 of 500\n",
      "{'ID': 25, 'Username': 'jerrypatrick', 'Age': 30, 'Country': 'USA', 'CreationDate': '10/14/2015 02:22 AM', 'Description': \"I'm a big fan of the game, and I'm a\", 'FollowerCount': 1366, 'PostCount': 67, 'Language': 'ENG'}\n"
     ]
    },
    {
     "name": "stderr",
     "output_type": "stream",
     "text": [
      "The attention mask and the pad token id were not set. As a consequence, you may observe unexpected behavior. Please pass your input's `attention_mask` to obtain reliable results.\n"
     ]
    },
    {
     "name": "stdout",
     "output_type": "stream",
     "text": [
      "Finished: row 26 of 500\n",
      "{'ID': 26, 'Username': '1973_nelsonlori', 'Age': 41, 'Country': 'USA', 'CreationDate': '08/18/2009 10:24 PM', 'Description': 'The author is a retired veterinarian. He is a member of the American Veterinary', 'FollowerCount': 15284, 'PostCount': 26, 'Language': 'GER'}\n"
     ]
    },
    {
     "name": "stderr",
     "output_type": "stream",
     "text": [
      "Setting `pad_token_id` to `eos_token_id`:50256 for open-end generation.\n",
      "The attention mask and the pad token id were not set. As a consequence, you may observe unexpected behavior. Please pass your input's `attention_mask` to obtain reliable results.\n",
      "Setting `pad_token_id` to `eos_token_id`:50256 for open-end generation.\n"
     ]
    },
    {
     "name": "stdout",
     "output_type": "stream",
     "text": [
      "Finished: row 27 of 500\n",
      "{'ID': 27, 'Username': 'cortezandrea', 'Age': 36, 'Country': 'China', 'CreationDate': '01/25/2017 09:05 PM', 'Description': 'The author is a biologist and a professor of biology at the University', 'FollowerCount': 419, 'PostCount': 15, 'Language': 'MAN'}\n"
     ]
    },
    {
     "name": "stderr",
     "output_type": "stream",
     "text": [
      "The attention mask and the pad token id were not set. As a consequence, you may observe unexpected behavior. Please pass your input's `attention_mask` to obtain reliable results.\n",
      "Setting `pad_token_id` to `eos_token_id`:50256 for open-end generation.\n"
     ]
    },
    {
     "name": "stdout",
     "output_type": "stream",
     "text": [
      "Finished: row 28 of 500\n",
      "{'ID': 28, 'Username': 'robertswesley', 'Age': 61, 'Country': 'France', 'CreationDate': '12/09/2008 11:59 PM', 'Description': 'The author is a freelance writer and a member of the editorial board of the', 'FollowerCount': 18509, 'PostCount': 64, 'Language': 'FRE'}\n"
     ]
    },
    {
     "name": "stderr",
     "output_type": "stream",
     "text": [
      "The attention mask and the pad token id were not set. As a consequence, you may observe unexpected behavior. Please pass your input's `attention_mask` to obtain reliable results.\n",
      "Setting `pad_token_id` to `eos_token_id`:50256 for open-end generation.\n"
     ]
    },
    {
     "name": "stdout",
     "output_type": "stream",
     "text": [
      "Finished: row 29 of 500\n",
      "{'ID': 29, 'Username': 'james54', 'Age': 88, 'Country': 'UK', 'CreationDate': '02/01/2009 04:30 AM', 'Description': 'I am a full time student at the University of California, Berkeley. I', 'FollowerCount': 667, 'PostCount': 59, 'Language': 'ENG'}\n"
     ]
    },
    {
     "name": "stderr",
     "output_type": "stream",
     "text": [
      "The attention mask and the pad token id were not set. As a consequence, you may observe unexpected behavior. Please pass your input's `attention_mask` to obtain reliable results.\n",
      "Setting `pad_token_id` to `eos_token_id`:50256 for open-end generation.\n"
     ]
    },
    {
     "name": "stdout",
     "output_type": "stream",
     "text": [
      "Finished: row 30 of 500\n",
      "{'ID': 30, 'Username': 'ofleming', 'Age': 17, 'Country': 'UK', 'CreationDate': '07/08/2012 01:27 PM', 'Description': 'The author is a journalist and a political analyst. He is a contributor to', 'FollowerCount': 4976, 'PostCount': 85, 'Language': 'JAP'}\n"
     ]
    },
    {
     "name": "stderr",
     "output_type": "stream",
     "text": [
      "The attention mask and the pad token id were not set. As a consequence, you may observe unexpected behavior. Please pass your input's `attention_mask` to obtain reliable results.\n",
      "Setting `pad_token_id` to `eos_token_id`:50256 for open-end generation.\n"
     ]
    },
    {
     "name": "stdout",
     "output_type": "stream",
     "text": [
      "Finished: row 31 of 500\n",
      "{'ID': 31, 'Username': '1975_jonessarah', 'Age': 42, 'Country': 'Germany', 'CreationDate': '04/08/2008 08:41 PM', 'Description': 'I am a very active and enthusiastic person. I love to play', 'FollowerCount': 11323, 'PostCount': 109, 'Language': 'GER'}\n"
     ]
    },
    {
     "name": "stderr",
     "output_type": "stream",
     "text": [
      "The attention mask and the pad token id were not set. As a consequence, you may observe unexpected behavior. Please pass your input's `attention_mask` to obtain reliable results.\n",
      "Setting `pad_token_id` to `eos_token_id`:50256 for open-end generation.\n"
     ]
    },
    {
     "name": "stdout",
     "output_type": "stream",
     "text": [
      "Finished: row 32 of 500\n",
      "{'ID': 32, 'Username': '1968_james36', 'Age': 49, 'Country': 'Germany', 'CreationDate': '02/08/2021 06:33 PM', 'Description': 'The Republican Party is the party of the people, the party of the', 'FollowerCount': 445, 'PostCount': 11, 'Language': 'FRE'}\n"
     ]
    },
    {
     "name": "stderr",
     "output_type": "stream",
     "text": [
      "The attention mask and the pad token id were not set. As a consequence, you may observe unexpected behavior. Please pass your input's `attention_mask` to obtain reliable results.\n",
      "Setting `pad_token_id` to `eos_token_id`:50256 for open-end generation.\n"
     ]
    },
    {
     "name": "stdout",
     "output_type": "stream",
     "text": [
      "Finished: row 33 of 500\n",
      "{'ID': 33, 'Username': 'dawnstrong', 'Age': 27, 'Country': 'France', 'CreationDate': '08/01/2012 02:21 PM', 'Description': 'I am a very passionate person, I love to travel, I love to', 'FollowerCount': 14902, 'PostCount': 24, 'Language': 'FRE'}\n"
     ]
    },
    {
     "name": "stderr",
     "output_type": "stream",
     "text": [
      "The attention mask and the pad token id were not set. As a consequence, you may observe unexpected behavior. Please pass your input's `attention_mask` to obtain reliable results.\n",
      "Setting `pad_token_id` to `eos_token_id`:50256 for open-end generation.\n"
     ]
    },
    {
     "name": "stdout",
     "output_type": "stream",
     "text": [
      "Finished: row 34 of 500\n",
      "{'ID': 34, 'Username': '1984_jasminenelson', 'Age': 29, 'Country': 'China', 'CreationDate': '04/06/2008 12:18 AM', 'Description': 'The first image-based AI system to be trained on a large-', 'FollowerCount': 7604, 'PostCount': 43, 'Language': 'GER'}\n"
     ]
    },
    {
     "name": "stderr",
     "output_type": "stream",
     "text": [
      "The attention mask and the pad token id were not set. As a consequence, you may observe unexpected behavior. Please pass your input's `attention_mask` to obtain reliable results.\n",
      "Setting `pad_token_id` to `eos_token_id`:50256 for open-end generation.\n"
     ]
    },
    {
     "name": "stdout",
     "output_type": "stream",
     "text": [
      "Finished: row 35 of 500\n",
      "{'ID': 35, 'Username': '1988_wcarney', 'Age': 71, 'Country': 'France', 'CreationDate': '05/11/2020 06:38 AM', 'Description': 'The World Cup is the most important sporting event in the world. It is', 'FollowerCount': 1074, 'PostCount': 2, 'Language': 'JAP'}\n"
     ]
    },
    {
     "name": "stderr",
     "output_type": "stream",
     "text": [
      "The attention mask and the pad token id were not set. As a consequence, you may observe unexpected behavior. Please pass your input's `attention_mask` to obtain reliable results.\n",
      "Setting `pad_token_id` to `eos_token_id`:50256 for open-end generation.\n"
     ]
    },
    {
     "name": "stdout",
     "output_type": "stream",
     "text": [
      "Finished: row 36 of 500\n",
      "{'ID': 36, 'Username': 'jennifermeadows', 'Age': 49, 'Country': 'Germany', 'CreationDate': '09/26/2013 07:36 PM', 'Description': 'I am a young, energetic, and adventurous woman who loves to', 'FollowerCount': 4872, 'PostCount': 20, 'Language': 'ENG'}\n"
     ]
    },
    {
     "name": "stderr",
     "output_type": "stream",
     "text": [
      "The attention mask and the pad token id were not set. As a consequence, you may observe unexpected behavior. Please pass your input's `attention_mask` to obtain reliable results.\n",
      "Setting `pad_token_id` to `eos_token_id`:50256 for open-end generation.\n"
     ]
    },
    {
     "name": "stdout",
     "output_type": "stream",
     "text": [
      "Finished: row 37 of 500\n",
      "{'ID': 37, 'Username': 'vwagner', 'Age': 38, 'Country': 'Russia', 'CreationDate': '06/08/2023 06:51 PM', 'Description': 'The first ever event for the new breed of animal lovers.The', 'FollowerCount': 157, 'PostCount': 3, 'Language': 'RUS'}\n"
     ]
    },
    {
     "name": "stderr",
     "output_type": "stream",
     "text": [
      "The attention mask and the pad token id were not set. As a consequence, you may observe unexpected behavior. Please pass your input's `attention_mask` to obtain reliable results.\n"
     ]
    },
    {
     "name": "stdout",
     "output_type": "stream",
     "text": [
      "Finished: row 38 of 500\n",
      "{'ID': 38, 'Username': 'kimberly95_1962', 'Age': '', 'Country': 'Japan', 'CreationDate': '09/17/2018 01:58 PM', 'Description': \"The first ever international women's football tournament was held in the city of K\", 'FollowerCount': 559, 'PostCount': 37, 'Language': 'JAP'}\n"
     ]
    },
    {
     "name": "stderr",
     "output_type": "stream",
     "text": [
      "Setting `pad_token_id` to `eos_token_id`:50256 for open-end generation.\n",
      "The attention mask and the pad token id were not set. As a consequence, you may observe unexpected behavior. Please pass your input's `attention_mask` to obtain reliable results.\n",
      "Setting `pad_token_id` to `eos_token_id`:50256 for open-end generation.\n"
     ]
    },
    {
     "name": "stdout",
     "output_type": "stream",
     "text": [
      "Finished: row 39 of 500\n",
      "{'ID': 39, 'Username': 'michaelnelson', 'Age': 67, 'Country': 'Russia', 'CreationDate': '03/11/2013 08:08 AM', 'Description': 'The first thing I did when I got back to the office was to', 'FollowerCount': 10333, 'PostCount': 25, 'Language': 'RUS'}\n",
      "Finished: row 40 of 500\n",
      "{'ID': 40, 'Username': 'hailey73', 'Age': '', 'Country': 'USA', 'CreationDate': '02/10/2021 07:41 AM', 'Description': 'The event is a great opportunity to meet other people who share your interests and', 'FollowerCount': 2208, 'PostCount': 27, 'Language': 'FRE'}\n"
     ]
    },
    {
     "name": "stderr",
     "output_type": "stream",
     "text": [
      "The attention mask and the pad token id were not set. As a consequence, you may observe unexpected behavior. Please pass your input's `attention_mask` to obtain reliable results.\n",
      "Setting `pad_token_id` to `eos_token_id`:50256 for open-end generation.\n",
      "The attention mask and the pad token id were not set. As a consequence, you may observe unexpected behavior. Please pass your input's `attention_mask` to obtain reliable results.\n",
      "Setting `pad_token_id` to `eos_token_id`:50256 for open-end generation.\n"
     ]
    },
    {
     "name": "stdout",
     "output_type": "stream",
     "text": [
      "Finished: row 41 of 500\n",
      "{'ID': 41, 'Username': 'twilliams', 'Age': 56, 'Country': 'China', 'CreationDate': '01/18/2020 05:08 PM', 'Description': 'I am a gamer, a sports fan, and a lover of all things', 'FollowerCount': 355, 'PostCount': 9, 'Language': 'NED'}\n"
     ]
    },
    {
     "name": "stderr",
     "output_type": "stream",
     "text": [
      "The attention mask and the pad token id were not set. As a consequence, you may observe unexpected behavior. Please pass your input's `attention_mask` to obtain reliable results.\n",
      "Setting `pad_token_id` to `eos_token_id`:50256 for open-end generation.\n"
     ]
    },
    {
     "name": "stdout",
     "output_type": "stream",
     "text": [
      "Finished: row 42 of 500\n",
      "{'ID': 42, 'Username': 'urusso', 'Age': 30, 'Country': 'UK', 'CreationDate': '12/07/2016 02:53 AM', 'Description': 'The most important thing is that you have to be able to play', 'FollowerCount': 3289, 'PostCount': 5, 'Language': 'ENG'}\n"
     ]
    },
    {
     "name": "stderr",
     "output_type": "stream",
     "text": [
      "The attention mask and the pad token id were not set. As a consequence, you may observe unexpected behavior. Please pass your input's `attention_mask` to obtain reliable results.\n",
      "Setting `pad_token_id` to `eos_token_id`:50256 for open-end generation.\n"
     ]
    },
    {
     "name": "stdout",
     "output_type": "stream",
     "text": [
      "Finished: row 43 of 500\n",
      "{'ID': 43, 'Username': 'gwashington_1954', 'Age': 68, 'Country': 'USA', 'CreationDate': '10/31/2009 05:37 AM', 'Description': 'The first of the two men to be killed in the World Series,', 'FollowerCount': 4731, 'PostCount': 155, 'Language': 'ENG'}\n"
     ]
    },
    {
     "name": "stderr",
     "output_type": "stream",
     "text": [
      "The attention mask and the pad token id were not set. As a consequence, you may observe unexpected behavior. Please pass your input's `attention_mask` to obtain reliable results.\n",
      "Setting `pad_token_id` to `eos_token_id`:50256 for open-end generation.\n"
     ]
    },
    {
     "name": "stdout",
     "output_type": "stream",
     "text": [
      "Finished: row 44 of 500\n",
      "{'ID': 44, 'Username': 'tracylopez_2001', 'Age': 20, 'Country': 'Italy', 'CreationDate': '09/21/2023 02:50 AM', 'Description': 'A Republican who is a member of the House of Representatives from the state', 'FollowerCount': 276, 'PostCount': 1, 'Language': 'RUS'}\n"
     ]
    },
    {
     "name": "stderr",
     "output_type": "stream",
     "text": [
      "The attention mask and the pad token id were not set. As a consequence, you may observe unexpected behavior. Please pass your input's `attention_mask` to obtain reliable results.\n",
      "Setting `pad_token_id` to `eos_token_id`:50256 for open-end generation.\n"
     ]
    },
    {
     "name": "stdout",
     "output_type": "stream",
     "text": [
      "Finished: row 45 of 500\n",
      "{'ID': 45, 'Username': 'daniel29', 'Age': 48, 'Country': 'Italy', 'CreationDate': '10/02/2015 10:20 AM', 'Description': 'The first thing I noticed about this animal was its size. It', 'FollowerCount': 4056, 'PostCount': 39, 'Language': 'ITA'}\n"
     ]
    },
    {
     "name": "stderr",
     "output_type": "stream",
     "text": [
      "The attention mask and the pad token id were not set. As a consequence, you may observe unexpected behavior. Please pass your input's `attention_mask` to obtain reliable results.\n",
      "Setting `pad_token_id` to `eos_token_id`:50256 for open-end generation.\n"
     ]
    },
    {
     "name": "stdout",
     "output_type": "stream",
     "text": [
      "Finished: row 46 of 500\n",
      "{'ID': 46, 'Username': '1990_mary74', 'Age': 53, 'Country': 'Russia', 'CreationDate': '11/23/2015 01:37 AM', 'Description': 'The first part of this article is a short profile of the author,', 'FollowerCount': 1873, 'PostCount': 37, 'Language': 'FRE'}\n"
     ]
    },
    {
     "name": "stderr",
     "output_type": "stream",
     "text": [
      "The attention mask and the pad token id were not set. As a consequence, you may observe unexpected behavior. Please pass your input's `attention_mask` to obtain reliable results.\n",
      "Setting `pad_token_id` to `eos_token_id`:50256 for open-end generation.\n"
     ]
    },
    {
     "name": "stdout",
     "output_type": "stream",
     "text": [
      "Finished: row 47 of 500\n",
      "{'ID': 47, 'Username': 'danamartin', 'Age': '', 'Country': 'USA', 'CreationDate': '05/23/2011 02:26 AM', 'Description': 'The company is a leading provider of pharmaceuticals and medical devices. The company', 'FollowerCount': 13042, 'PostCount': 44, 'Language': 'ENG'}\n"
     ]
    },
    {
     "name": "stderr",
     "output_type": "stream",
     "text": [
      "The attention mask and the pad token id were not set. As a consequence, you may observe unexpected behavior. Please pass your input's `attention_mask` to obtain reliable results.\n",
      "Setting `pad_token_id` to `eos_token_id`:50256 for open-end generation.\n"
     ]
    },
    {
     "name": "stdout",
     "output_type": "stream",
     "text": [
      "Finished: row 48 of 500\n",
      "{'ID': 48, 'Username': 'paige88', 'Age': 50, 'Country': 'UK', 'CreationDate': '09/05/2008 03:04 AM', 'Description': 'I am a very active person, I love to play sports,', 'FollowerCount': 9609, 'PostCount': 91, 'Language': 'ENG'}\n"
     ]
    },
    {
     "name": "stderr",
     "output_type": "stream",
     "text": [
      "The attention mask and the pad token id were not set. As a consequence, you may observe unexpected behavior. Please pass your input's `attention_mask` to obtain reliable results.\n",
      "Setting `pad_token_id` to `eos_token_id`:50256 for open-end generation.\n"
     ]
    },
    {
     "name": "stdout",
     "output_type": "stream",
     "text": [
      "Finished: row 49 of 500\n",
      "{'ID': 49, 'Username': 'stonemark', 'Age': 39, 'Country': '', 'CreationDate': '07/17/2009 09:40 PM', 'Description': \"The game is a game of the future, and it's called \", 'FollowerCount': 1516, 'PostCount': 43, 'Language': 'NED'}\n"
     ]
    },
    {
     "name": "stderr",
     "output_type": "stream",
     "text": [
      "The attention mask and the pad token id were not set. As a consequence, you may observe unexpected behavior. Please pass your input's `attention_mask` to obtain reliable results.\n",
      "Setting `pad_token_id` to `eos_token_id`:50256 for open-end generation.\n"
     ]
    },
    {
     "name": "stdout",
     "output_type": "stream",
     "text": [
      "Finished: row 50 of 500\n",
      "{'ID': 50, 'Username': '1977_bradshawglenn', 'Age': '', 'Country': 'Russia', 'CreationDate': '09/29/2019 09:43 AM', 'Description': 'The author is a senior executive in the financial services industry. He is a', 'FollowerCount': 3202, 'PostCount': 3, 'Language': 'ITA'}\n"
     ]
    },
    {
     "name": "stderr",
     "output_type": "stream",
     "text": [
      "The attention mask and the pad token id were not set. As a consequence, you may observe unexpected behavior. Please pass your input's `attention_mask` to obtain reliable results.\n",
      "Setting `pad_token_id` to `eos_token_id`:50256 for open-end generation.\n"
     ]
    },
    {
     "name": "stdout",
     "output_type": "stream",
     "text": [
      "Finished: row 51 of 500\n",
      "{'ID': 51, 'Username': 'graylindsay', 'Age': 17, 'Country': 'France', 'CreationDate': '12/03/2009 04:26 PM', 'Description': 'The author is a political scientist and a former Republican. She is currently a', 'FollowerCount': 13918, 'PostCount': 40, 'Language': 'FRE'}\n"
     ]
    },
    {
     "name": "stderr",
     "output_type": "stream",
     "text": [
      "The attention mask and the pad token id were not set. As a consequence, you may observe unexpected behavior. Please pass your input's `attention_mask` to obtain reliable results.\n",
      "Setting `pad_token_id` to `eos_token_id`:50256 for open-end generation.\n"
     ]
    },
    {
     "name": "stdout",
     "output_type": "stream",
     "text": [
      "Finished: row 52 of 500\n",
      "{'ID': 52, 'Username': 'eric60_1954', 'Age': '', 'Country': 'France', 'CreationDate': '02/18/2015 07:05 PM', 'Description': 'The company is a leading provider of integrated solutions for the global energy', 'FollowerCount': 3943, 'PostCount': 6, 'Language': 'FRE'}\n"
     ]
    },
    {
     "name": "stderr",
     "output_type": "stream",
     "text": [
      "The attention mask and the pad token id were not set. As a consequence, you may observe unexpected behavior. Please pass your input's `attention_mask` to obtain reliable results.\n",
      "Setting `pad_token_id` to `eos_token_id`:50256 for open-end generation.\n"
     ]
    },
    {
     "name": "stdout",
     "output_type": "stream",
     "text": [
      "Finished: row 53 of 500\n",
      "{'ID': 53, 'Username': 'matthew31', 'Age': '', 'Country': 'Italy', 'CreationDate': '09/29/2010 07:12 PM', 'Description': 'I am a professional photographer and I am also a gamer. I love to', 'FollowerCount': 3032, 'PostCount': 112, 'Language': 'RUS'}\n"
     ]
    },
    {
     "name": "stderr",
     "output_type": "stream",
     "text": [
      "The attention mask and the pad token id were not set. As a consequence, you may observe unexpected behavior. Please pass your input's `attention_mask` to obtain reliable results.\n",
      "Setting `pad_token_id` to `eos_token_id`:50256 for open-end generation.\n"
     ]
    },
    {
     "name": "stdout",
     "output_type": "stream",
     "text": [
      "Finished: row 54 of 500\n",
      "{'ID': 54, 'Username': '1998_christophersmith', 'Age': 58, 'Country': 'Russia', 'CreationDate': '08/24/2020 05:48 AM', 'Description': \"The first ever meeting of the European Parliament's Committee on Civil Liberties, Justice\", 'FollowerCount': 441, 'PostCount': 0, 'Language': 'JAP'}\n"
     ]
    },
    {
     "name": "stderr",
     "output_type": "stream",
     "text": [
      "The attention mask and the pad token id were not set. As a consequence, you may observe unexpected behavior. Please pass your input's `attention_mask` to obtain reliable results.\n",
      "Setting `pad_token_id` to `eos_token_id`:50256 for open-end generation.\n"
     ]
    },
    {
     "name": "stdout",
     "output_type": "stream",
     "text": [
      "Finished: row 55 of 500\n",
      "{'ID': 55, 'Username': 'alexandragarrison', 'Age': '', 'Country': 'USA', 'CreationDate': '05/20/2017 12:21 PM', 'Description': 'The Business section of the site provides a comprehensive listing of the business activities of', 'FollowerCount': 5850, 'PostCount': 15, 'Language': 'ENG'}\n"
     ]
    },
    {
     "name": "stderr",
     "output_type": "stream",
     "text": [
      "The attention mask and the pad token id were not set. As a consequence, you may observe unexpected behavior. Please pass your input's `attention_mask` to obtain reliable results.\n",
      "Setting `pad_token_id` to `eos_token_id`:50256 for open-end generation.\n"
     ]
    },
    {
     "name": "stdout",
     "output_type": "stream",
     "text": [
      "Finished: row 56 of 500\n",
      "{'ID': 56, 'Username': '1988_christopherharrison', 'Age': 56, 'Country': 'Germany', 'CreationDate': '05/19/2021 02:28 PM', 'Description': 'The author of this article is a professional photographer and has been working in the', 'FollowerCount': 1532, 'PostCount': 5, 'Language': 'MAN'}\n"
     ]
    },
    {
     "name": "stderr",
     "output_type": "stream",
     "text": [
      "The attention mask and the pad token id were not set. As a consequence, you may observe unexpected behavior. Please pass your input's `attention_mask` to obtain reliable results.\n",
      "Setting `pad_token_id` to `eos_token_id`:50256 for open-end generation.\n"
     ]
    },
    {
     "name": "stdout",
     "output_type": "stream",
     "text": [
      "Finished: row 57 of 500\n",
      "{'ID': 57, 'Username': '1989_anthonybrady', 'Age': 44, 'Country': 'Italy', 'CreationDate': '11/26/2017 07:45 AM', 'Description': 'The Republican Party is the party of the people, the party of the', 'FollowerCount': 1921, 'PostCount': 47, 'Language': 'ITA'}\n"
     ]
    },
    {
     "name": "stderr",
     "output_type": "stream",
     "text": [
      "The attention mask and the pad token id were not set. As a consequence, you may observe unexpected behavior. Please pass your input's `attention_mask` to obtain reliable results.\n",
      "Setting `pad_token_id` to `eos_token_id`:50256 for open-end generation.\n"
     ]
    },
    {
     "name": "stdout",
     "output_type": "stream",
     "text": [
      "Finished: row 58 of 500\n",
      "{'ID': 58, 'Username': '1992_katelyn58', 'Age': 34, 'Country': 'Russia', 'CreationDate': '11/11/2021 01:33 AM', 'Description': 'Katelyn is a writer, editor, and producer. She is', 'FollowerCount': 697, 'PostCount': 5, 'Language': 'RUS'}\n"
     ]
    },
    {
     "name": "stderr",
     "output_type": "stream",
     "text": [
      "The attention mask and the pad token id were not set. As a consequence, you may observe unexpected behavior. Please pass your input's `attention_mask` to obtain reliable results.\n",
      "Setting `pad_token_id` to `eos_token_id`:50256 for open-end generation.\n"
     ]
    },
    {
     "name": "stdout",
     "output_type": "stream",
     "text": [
      "Finished: row 59 of 500\n",
      "{'ID': 59, 'Username': 'nicholasperez', 'Age': '', 'Country': 'USA', 'CreationDate': '08/11/2020 03:09 PM', 'Description': 'The author is a writer, a teacher, a blogger, a blogger,', 'FollowerCount': 3961, 'PostCount': 17, 'Language': 'ENG'}\n"
     ]
    },
    {
     "name": "stderr",
     "output_type": "stream",
     "text": [
      "The attention mask and the pad token id were not set. As a consequence, you may observe unexpected behavior. Please pass your input's `attention_mask` to obtain reliable results.\n",
      "Setting `pad_token_id` to `eos_token_id`:50256 for open-end generation.\n"
     ]
    },
    {
     "name": "stdout",
     "output_type": "stream",
     "text": [
      "Finished: row 60 of 500\n",
      "{'ID': 60, 'Username': 'flemingjeffrey', 'Age': 57, 'Country': 'Italy', 'CreationDate': '12/23/2016 07:53 PM', 'Description': 'The first ever event for the new game, The Game Awards, is', 'FollowerCount': 3370, 'PostCount': 4, 'Language': 'MAN'}\n"
     ]
    },
    {
     "name": "stderr",
     "output_type": "stream",
     "text": [
      "The attention mask and the pad token id were not set. As a consequence, you may observe unexpected behavior. Please pass your input's `attention_mask` to obtain reliable results.\n",
      "Setting `pad_token_id` to `eos_token_id`:50256 for open-end generation.\n"
     ]
    },
    {
     "name": "stdout",
     "output_type": "stream",
     "text": [
      "Finished: row 61 of 500\n",
      "{'ID': 61, 'Username': 'amorales', 'Age': 66, 'Country': 'Japan', 'CreationDate': '02/06/2018 11:18 AM', 'Description': \"The first thing you should know about the new game is that it's\", 'FollowerCount': 5707, 'PostCount': 32, 'Language': 'ENG'}\n"
     ]
    },
    {
     "name": "stderr",
     "output_type": "stream",
     "text": [
      "The attention mask and the pad token id were not set. As a consequence, you may observe unexpected behavior. Please pass your input's `attention_mask` to obtain reliable results.\n",
      "Setting `pad_token_id` to `eos_token_id`:50256 for open-end generation.\n"
     ]
    },
    {
     "name": "stdout",
     "output_type": "stream",
     "text": [
      "Finished: row 62 of 500\n",
      "{'ID': 62, 'Username': 'spencertheodore', 'Age': '', 'Country': 'Russia', 'CreationDate': '03/31/2016 09:20 AM', 'Description': 'The author is a successful entrepreneur and a successful speaker. He has been a', 'FollowerCount': 596, 'PostCount': 22, 'Language': 'RUS'}\n"
     ]
    },
    {
     "name": "stderr",
     "output_type": "stream",
     "text": [
      "The attention mask and the pad token id were not set. As a consequence, you may observe unexpected behavior. Please pass your input's `attention_mask` to obtain reliable results.\n",
      "Setting `pad_token_id` to `eos_token_id`:50256 for open-end generation.\n"
     ]
    },
    {
     "name": "stdout",
     "output_type": "stream",
     "text": [
      "Finished: row 63 of 500\n",
      "{'ID': 63, 'Username': 'rayrobert', 'Age': 43, 'Country': 'USA', 'CreationDate': '08/18/2023 08:48 AM', 'Description': 'The first ever football match between the two teams from the same city, the', 'FollowerCount': 173, 'PostCount': 1, 'Language': 'ENG'}\n"
     ]
    },
    {
     "name": "stderr",
     "output_type": "stream",
     "text": [
      "The attention mask and the pad token id were not set. As a consequence, you may observe unexpected behavior. Please pass your input's `attention_mask` to obtain reliable results.\n",
      "Setting `pad_token_id` to `eos_token_id`:50256 for open-end generation.\n"
     ]
    },
    {
     "name": "stdout",
     "output_type": "stream",
     "text": [
      "Finished: row 64 of 500\n",
      "{'ID': 64, 'Username': 'mbrown', 'Age': 30, 'Country': 'China', 'CreationDate': '11/10/2021 08:30 PM', 'Description': 'The first of the two new species of the genus *Pseudop', 'FollowerCount': 1031, 'PostCount': 6, 'Language': 'JAP'}\n"
     ]
    },
    {
     "name": "stderr",
     "output_type": "stream",
     "text": [
      "The attention mask and the pad token id were not set. As a consequence, you may observe unexpected behavior. Please pass your input's `attention_mask` to obtain reliable results.\n",
      "Setting `pad_token_id` to `eos_token_id`:50256 for open-end generation.\n"
     ]
    },
    {
     "name": "stdout",
     "output_type": "stream",
     "text": [
      "Finished: row 65 of 500\n",
      "{'ID': 65, 'Username': 'raymond32_1995', 'Age': 17, 'Country': 'Netherlands', 'CreationDate': '03/06/2009 03:55 AM', 'Description': 'The Republican Party is the party of the people, the party of the', 'FollowerCount': 14634, 'PostCount': 43, 'Language': 'NED'}\n"
     ]
    },
    {
     "name": "stderr",
     "output_type": "stream",
     "text": [
      "The attention mask and the pad token id were not set. As a consequence, you may observe unexpected behavior. Please pass your input's `attention_mask` to obtain reliable results.\n",
      "Setting `pad_token_id` to `eos_token_id`:50256 for open-end generation.\n"
     ]
    },
    {
     "name": "stdout",
     "output_type": "stream",
     "text": [
      "Finished: row 66 of 500\n",
      "{'ID': 66, 'Username': 'handerson', 'Age': 33, 'Country': 'UK', 'CreationDate': '06/21/2023 09:51 AM', 'Description': 'I am a young, single, and adventurous woman who loves to', 'FollowerCount': 446, 'PostCount': 2, 'Language': 'ENG'}\n"
     ]
    },
    {
     "name": "stderr",
     "output_type": "stream",
     "text": [
      "The attention mask and the pad token id were not set. As a consequence, you may observe unexpected behavior. Please pass your input's `attention_mask` to obtain reliable results.\n",
      "Setting `pad_token_id` to `eos_token_id`:50256 for open-end generation.\n"
     ]
    },
    {
     "name": "stdout",
     "output_type": "stream",
     "text": [
      "Finished: row 67 of 500\n",
      "{'ID': 67, 'Username': 'barnesvickie', 'Age': '', 'Country': 'Japan', 'CreationDate': '08/25/2014 02:03 AM', 'Description': 'I am a professional athlete, a former professional soccer player, and', 'FollowerCount': 7567, 'PostCount': 49, 'Language': 'MAN'}\n"
     ]
    },
    {
     "name": "stderr",
     "output_type": "stream",
     "text": [
      "The attention mask and the pad token id were not set. As a consequence, you may observe unexpected behavior. Please pass your input's `attention_mask` to obtain reliable results.\n",
      "Setting `pad_token_id` to `eos_token_id`:50256 for open-end generation.\n"
     ]
    },
    {
     "name": "stdout",
     "output_type": "stream",
     "text": [
      "Finished: row 68 of 500\n",
      "{'ID': 68, 'Username': 'mhoward_2000', 'Age': '', 'Country': 'USA', 'CreationDate': '08/08/2020 07:08 AM', 'Description': 'I am a senior software engineer with a strong background in Java,', 'FollowerCount': 945, 'PostCount': 11, 'Language': 'RUS'}\n"
     ]
    },
    {
     "name": "stderr",
     "output_type": "stream",
     "text": [
      "The attention mask and the pad token id were not set. As a consequence, you may observe unexpected behavior. Please pass your input's `attention_mask` to obtain reliable results.\n",
      "Setting `pad_token_id` to `eos_token_id`:50256 for open-end generation.\n"
     ]
    },
    {
     "name": "stdout",
     "output_type": "stream",
     "text": [
      "Finished: row 69 of 500\n",
      "{'ID': 69, 'Username': 'johnsonjennifer', 'Age': 67, 'Country': 'China', 'CreationDate': '01/30/2016 02:18 PM', 'Description': 'The author is a writer, editor, and teacher. She is the author', 'FollowerCount': 5779, 'PostCount': 26, 'Language': 'ENG'}\n"
     ]
    },
    {
     "name": "stderr",
     "output_type": "stream",
     "text": [
      "The attention mask and the pad token id were not set. As a consequence, you may observe unexpected behavior. Please pass your input's `attention_mask` to obtain reliable results.\n",
      "Setting `pad_token_id` to `eos_token_id`:50256 for open-end generation.\n"
     ]
    },
    {
     "name": "stdout",
     "output_type": "stream",
     "text": [
      "Finished: row 70 of 500\n",
      "{'ID': 70, 'Username': '1961_perkinsgeorge', 'Age': 62, 'Country': 'USA', 'CreationDate': '05/05/2015 03:57 PM', 'Description': 'The first of the two photographs of the two men taken by Perkins Ge', 'FollowerCount': 1019, 'PostCount': 44, 'Language': 'ENG'}\n"
     ]
    },
    {
     "name": "stderr",
     "output_type": "stream",
     "text": [
      "The attention mask and the pad token id were not set. As a consequence, you may observe unexpected behavior. Please pass your input's `attention_mask` to obtain reliable results.\n",
      "Setting `pad_token_id` to `eos_token_id`:50256 for open-end generation.\n"
     ]
    },
    {
     "name": "stdout",
     "output_type": "stream",
     "text": [
      "Finished: row 71 of 500\n",
      "{'ID': 71, 'Username': '1959_ubradford', 'Age': 31, 'Country': 'China', 'CreationDate': '06/06/2009 01:01 PM', 'Description': 'The first part of this article is a short profile of the author, who', 'FollowerCount': 6554, 'PostCount': 34, 'Language': 'MAN'}\n"
     ]
    },
    {
     "name": "stderr",
     "output_type": "stream",
     "text": [
      "The attention mask and the pad token id were not set. As a consequence, you may observe unexpected behavior. Please pass your input's `attention_mask` to obtain reliable results.\n",
      "Setting `pad_token_id` to `eos_token_id`:50256 for open-end generation.\n"
     ]
    },
    {
     "name": "stdout",
     "output_type": "stream",
     "text": [
      "Finished: row 72 of 500\n",
      "{'ID': 72, 'Username': 'ryan54', 'Age': 21, 'Country': 'USA', 'CreationDate': '11/19/2019 05:19 AM', 'Description': 'I am a professional photographer and I am also a gamer. I', 'FollowerCount': 882, 'PostCount': 14, 'Language': 'ENG'}\n"
     ]
    },
    {
     "name": "stderr",
     "output_type": "stream",
     "text": [
      "The attention mask and the pad token id were not set. As a consequence, you may observe unexpected behavior. Please pass your input's `attention_mask` to obtain reliable results.\n",
      "Setting `pad_token_id` to `eos_token_id`:50256 for open-end generation.\n"
     ]
    },
    {
     "name": "stdout",
     "output_type": "stream",
     "text": [
      "Finished: row 73 of 500\n",
      "{'ID': 73, 'Username': 'wilsonsheri', 'Age': 65, 'Country': 'Germany', 'CreationDate': '08/16/2018 06:46 AM', 'Description': 'The author is a professional photographer. He is a professional photographer. He is', 'FollowerCount': 523, 'PostCount': 49, 'Language': 'FRE'}\n"
     ]
    },
    {
     "name": "stderr",
     "output_type": "stream",
     "text": [
      "The attention mask and the pad token id were not set. As a consequence, you may observe unexpected behavior. Please pass your input's `attention_mask` to obtain reliable results.\n",
      "Setting `pad_token_id` to `eos_token_id`:50256 for open-end generation.\n"
     ]
    },
    {
     "name": "stdout",
     "output_type": "stream",
     "text": [
      "Finished: row 74 of 500\n",
      "{'ID': 74, 'Username': 'garrettalexander_1988', 'Age': 18, 'Country': 'Italy', 'CreationDate': '05/21/2018 06:57 AM', 'Description': 'The first game I ever played was a game called _The Legend of', 'FollowerCount': 7178, 'PostCount': 48, 'Language': 'GER'}\n"
     ]
    },
    {
     "name": "stderr",
     "output_type": "stream",
     "text": [
      "The attention mask and the pad token id were not set. As a consequence, you may observe unexpected behavior. Please pass your input's `attention_mask` to obtain reliable results.\n",
      "Setting `pad_token_id` to `eos_token_id`:50256 for open-end generation.\n"
     ]
    },
    {
     "name": "stdout",
     "output_type": "stream",
     "text": [
      "Finished: row 75 of 500\n",
      "{'ID': 75, 'Username': 'cindy55_1954', 'Age': '', 'Country': 'Germany', 'CreationDate': '11/20/2019 07:33 AM', 'Description': 'The first woman to be elected to the position of president of the United States', 'FollowerCount': 3408, 'PostCount': 15, 'Language': 'GER'}\n"
     ]
    },
    {
     "name": "stderr",
     "output_type": "stream",
     "text": [
      "The attention mask and the pad token id were not set. As a consequence, you may observe unexpected behavior. Please pass your input's `attention_mask` to obtain reliable results.\n",
      "Setting `pad_token_id` to `eos_token_id`:50256 for open-end generation.\n"
     ]
    },
    {
     "name": "stdout",
     "output_type": "stream",
     "text": [
      "Finished: row 76 of 500\n",
      "{'ID': 76, 'Username': 'aguilartammy', 'Age': 46, 'Country': 'China', 'CreationDate': '12/24/2020 03:48 PM', 'Description': \"I'm a gamer, a traveler, and a lover of all things geek\", 'FollowerCount': 1344, 'PostCount': 2, 'Language': 'MAN'}\n"
     ]
    },
    {
     "name": "stderr",
     "output_type": "stream",
     "text": [
      "The attention mask and the pad token id were not set. As a consequence, you may observe unexpected behavior. Please pass your input's `attention_mask` to obtain reliable results.\n",
      "Setting `pad_token_id` to `eos_token_id`:50256 for open-end generation.\n"
     ]
    },
    {
     "name": "stdout",
     "output_type": "stream",
     "text": [
      "Finished: row 77 of 500\n",
      "{'ID': 77, 'Username': 'zjones', 'Age': 20, 'Country': 'France', 'CreationDate': '03/09/2011 03:48 PM', 'Description': 'The best of the best in the world of gaming.The best', 'FollowerCount': 3077, 'PostCount': 48, 'Language': 'ITA'}\n"
     ]
    },
    {
     "name": "stderr",
     "output_type": "stream",
     "text": [
      "The attention mask and the pad token id were not set. As a consequence, you may observe unexpected behavior. Please pass your input's `attention_mask` to obtain reliable results.\n",
      "Setting `pad_token_id` to `eos_token_id`:50256 for open-end generation.\n"
     ]
    },
    {
     "name": "stdout",
     "output_type": "stream",
     "text": [
      "Finished: row 78 of 500\n",
      "{'ID': 78, 'Username': 'hadams', 'Age': 47, 'Country': 'China', 'CreationDate': '12/12/2012 09:02 PM', 'Description': 'I am a young girl who loves to play games and I love', 'FollowerCount': 5137, 'PostCount': 109, 'Language': 'MAN'}\n"
     ]
    },
    {
     "name": "stderr",
     "output_type": "stream",
     "text": [
      "The attention mask and the pad token id were not set. As a consequence, you may observe unexpected behavior. Please pass your input's `attention_mask` to obtain reliable results.\n",
      "Setting `pad_token_id` to `eos_token_id`:50256 for open-end generation.\n"
     ]
    },
    {
     "name": "stdout",
     "output_type": "stream",
     "text": [
      "Finished: row 79 of 500\n",
      "{'ID': 79, 'Username': 'dlin', 'Age': 22, 'Country': 'USA', 'CreationDate': '03/13/2023 07:00 AM', 'Description': 'I am a travel writer and photographer based in the UK. I', 'FollowerCount': 1089, 'PostCount': 7, 'Language': 'ENG'}\n"
     ]
    },
    {
     "name": "stderr",
     "output_type": "stream",
     "text": [
      "The attention mask and the pad token id were not set. As a consequence, you may observe unexpected behavior. Please pass your input's `attention_mask` to obtain reliable results.\n",
      "Setting `pad_token_id` to `eos_token_id`:50256 for open-end generation.\n"
     ]
    },
    {
     "name": "stdout",
     "output_type": "stream",
     "text": [
      "Finished: row 80 of 500\n",
      "{'ID': 80, 'Username': '2002_aflores', 'Age': 44, 'Country': 'Germany', 'CreationDate': '04/10/2022 03:06 PM', 'Description': 'The first part of the film is a documentary about the life of the', 'FollowerCount': 330, 'PostCount': 13, 'Language': 'RUS'}\n"
     ]
    },
    {
     "name": "stderr",
     "output_type": "stream",
     "text": [
      "The attention mask and the pad token id were not set. As a consequence, you may observe unexpected behavior. Please pass your input's `attention_mask` to obtain reliable results.\n",
      "Setting `pad_token_id` to `eos_token_id`:50256 for open-end generation.\n"
     ]
    },
    {
     "name": "stdout",
     "output_type": "stream",
     "text": [
      "Finished: row 81 of 500\n",
      "{'ID': 81, 'Username': 'wthomas_1973', 'Age': 92, 'Country': 'France', 'CreationDate': '08/12/2012 07:37 AM', 'Description': 'The game is a very simple one, but it is very addictive', 'FollowerCount': 5604, 'PostCount': 23, 'Language': 'FRE'}\n"
     ]
    },
    {
     "name": "stderr",
     "output_type": "stream",
     "text": [
      "The attention mask and the pad token id were not set. As a consequence, you may observe unexpected behavior. Please pass your input's `attention_mask` to obtain reliable results.\n",
      "Setting `pad_token_id` to `eos_token_id`:50256 for open-end generation.\n"
     ]
    },
    {
     "name": "stdout",
     "output_type": "stream",
     "text": [
      "Finished: row 82 of 500\n",
      "{'ID': 82, 'Username': 'andersonholly', 'Age': 52, 'Country': 'Germany', 'CreationDate': '01/27/2014 07:50 AM', 'Description': 'The game is a fast-paced, competitive, and action-', 'FollowerCount': 5579, 'PostCount': 47, 'Language': 'FRE'}\n"
     ]
    },
    {
     "name": "stderr",
     "output_type": "stream",
     "text": [
      "The attention mask and the pad token id were not set. As a consequence, you may observe unexpected behavior. Please pass your input's `attention_mask` to obtain reliable results.\n",
      "Setting `pad_token_id` to `eos_token_id`:50256 for open-end generation.\n"
     ]
    },
    {
     "name": "stdout",
     "output_type": "stream",
     "text": [
      "Finished: row 83 of 500\n",
      "{'ID': 83, 'Username': 'nclark', 'Age': 30, 'Country': 'Russia', 'CreationDate': '09/22/2008 08:05 PM', 'Description': 'I am a full time student at the University of California, Berkeley. I', 'FollowerCount': 22992, 'PostCount': 58, 'Language': 'ENG'}\n"
     ]
    },
    {
     "name": "stderr",
     "output_type": "stream",
     "text": [
      "The attention mask and the pad token id were not set. As a consequence, you may observe unexpected behavior. Please pass your input's `attention_mask` to obtain reliable results.\n",
      "Setting `pad_token_id` to `eos_token_id`:50256 for open-end generation.\n"
     ]
    },
    {
     "name": "stdout",
     "output_type": "stream",
     "text": [
      "Finished: row 84 of 500\n",
      "{'ID': 84, 'Username': '1985_rjones', 'Age': 32, 'Country': 'Japan', 'CreationDate': '06/26/2016 09:23 AM', 'Description': 'The first game to be published by a major publisher in the United States', 'FollowerCount': 8822, 'PostCount': 3, 'Language': 'JAP'}\n"
     ]
    },
    {
     "name": "stderr",
     "output_type": "stream",
     "text": [
      "The attention mask and the pad token id were not set. As a consequence, you may observe unexpected behavior. Please pass your input's `attention_mask` to obtain reliable results.\n",
      "Setting `pad_token_id` to `eos_token_id`:50256 for open-end generation.\n"
     ]
    },
    {
     "name": "stdout",
     "output_type": "stream",
     "text": [
      "Finished: row 85 of 500\n",
      "{'ID': 85, 'Username': '1978_justinmiller', 'Age': 42, 'Country': 'Italy', 'CreationDate': '01/22/2011 10:09 AM', 'Description': 'The game is a game of strategy, tactics, and luck. It', 'FollowerCount': 2479, 'PostCount': 37, 'Language': 'GER'}\n"
     ]
    },
    {
     "name": "stderr",
     "output_type": "stream",
     "text": [
      "The attention mask and the pad token id were not set. As a consequence, you may observe unexpected behavior. Please pass your input's `attention_mask` to obtain reliable results.\n",
      "Setting `pad_token_id` to `eos_token_id`:50256 for open-end generation.\n"
     ]
    },
    {
     "name": "stdout",
     "output_type": "stream",
     "text": [
      "Finished: row 86 of 500\n",
      "{'ID': 86, 'Username': '1965_msanchez', 'Age': 19, 'Country': 'Italy', 'CreationDate': '11/15/2021 11:19 PM', 'Description': 'The first part of the article is about the history of the sport of', 'FollowerCount': 2605, 'PostCount': 2, 'Language': 'ITA'}\n"
     ]
    },
    {
     "name": "stderr",
     "output_type": "stream",
     "text": [
      "The attention mask and the pad token id were not set. As a consequence, you may observe unexpected behavior. Please pass your input's `attention_mask` to obtain reliable results.\n",
      "Setting `pad_token_id` to `eos_token_id`:50256 for open-end generation.\n"
     ]
    },
    {
     "name": "stdout",
     "output_type": "stream",
     "text": [
      "Finished: row 87 of 500\n",
      "{'ID': 87, 'Username': 'benjamin85_1980', 'Age': 41, 'Country': 'Japan', 'CreationDate': '02/08/2021 06:01 PM', 'Description': 'The author is a professor of political science at the University of California, Berkeley', 'FollowerCount': 18, 'PostCount': 15148, 'Language': 'JAP'}\n"
     ]
    },
    {
     "name": "stderr",
     "output_type": "stream",
     "text": [
      "The attention mask and the pad token id were not set. As a consequence, you may observe unexpected behavior. Please pass your input's `attention_mask` to obtain reliable results.\n",
      "Setting `pad_token_id` to `eos_token_id`:50256 for open-end generation.\n"
     ]
    },
    {
     "name": "stdout",
     "output_type": "stream",
     "text": [
      "Finished: row 88 of 500\n",
      "{'ID': 88, 'Username': 'annallen', 'Age': 20, 'Country': 'UK', 'CreationDate': '12/08/2022 01:56 PM', 'Description': 'The author is a freelance writer and a travel writer. He has been writing', 'FollowerCount': 510, 'PostCount': 3, 'Language': 'FRE'}\n"
     ]
    },
    {
     "name": "stderr",
     "output_type": "stream",
     "text": [
      "The attention mask and the pad token id were not set. As a consequence, you may observe unexpected behavior. Please pass your input's `attention_mask` to obtain reliable results.\n",
      "Setting `pad_token_id` to `eos_token_id`:50256 for open-end generation.\n"
     ]
    },
    {
     "name": "stdout",
     "output_type": "stream",
     "text": [
      "Finished: row 89 of 500\n",
      "{'ID': 89, 'Username': 'jenniferhernandez', 'Age': 65, 'Country': 'France', 'CreationDate': '01/10/2012 08:58 PM', 'Description': 'I am a professional photographer and I love to take pictures of people', 'FollowerCount': 1434, 'PostCount': 50, 'Language': 'FRE'}\n"
     ]
    },
    {
     "name": "stderr",
     "output_type": "stream",
     "text": [
      "The attention mask and the pad token id were not set. As a consequence, you may observe unexpected behavior. Please pass your input's `attention_mask` to obtain reliable results.\n",
      "Setting `pad_token_id` to `eos_token_id`:50256 for open-end generation.\n"
     ]
    },
    {
     "name": "stdout",
     "output_type": "stream",
     "text": [
      "Finished: row 90 of 500\n",
      "{'ID': 90, 'Username': 'opatterson', 'Age': 49, 'Country': 'Germany', 'CreationDate': '07/08/2013 04:46 AM', 'Description': 'The event is about the new and improved version of the game. It is', 'FollowerCount': 17225, 'PostCount': 29, 'Language': 'NED'}\n"
     ]
    },
    {
     "name": "stderr",
     "output_type": "stream",
     "text": [
      "The attention mask and the pad token id were not set. As a consequence, you may observe unexpected behavior. Please pass your input's `attention_mask` to obtain reliable results.\n",
      "Setting `pad_token_id` to `eos_token_id`:50256 for open-end generation.\n"
     ]
    },
    {
     "name": "stdout",
     "output_type": "stream",
     "text": [
      "Finished: row 91 of 500\n",
      "{'ID': 91, 'Username': 'garybrooks', 'Age': 19, 'Country': 'USA', 'CreationDate': '03/15/2017 12:06 AM', 'Description': 'The Republican Party is a party of the people, not the elite. It', 'FollowerCount': 3294, 'PostCount': 14, 'Language': 'ENG'}\n"
     ]
    },
    {
     "name": "stderr",
     "output_type": "stream",
     "text": [
      "The attention mask and the pad token id were not set. As a consequence, you may observe unexpected behavior. Please pass your input's `attention_mask` to obtain reliable results.\n",
      "Setting `pad_token_id` to `eos_token_id`:50256 for open-end generation.\n"
     ]
    },
    {
     "name": "stdout",
     "output_type": "stream",
     "text": [
      "Finished: row 92 of 500\n",
      "{'ID': 92, 'Username': 'jerryschmidt_1983', 'Age': 29, 'Country': 'Italy', 'CreationDate': '04/24/2022 05:08 AM', 'Description': 'The game is a game of strategy, and the player is the', 'FollowerCount': 1120, 'PostCount': 2, 'Language': 'ITA'}\n"
     ]
    },
    {
     "name": "stderr",
     "output_type": "stream",
     "text": [
      "The attention mask and the pad token id were not set. As a consequence, you may observe unexpected behavior. Please pass your input's `attention_mask` to obtain reliable results.\n",
      "Setting `pad_token_id` to `eos_token_id`:50256 for open-end generation.\n"
     ]
    },
    {
     "name": "stdout",
     "output_type": "stream",
     "text": [
      "Finished: row 93 of 500\n",
      "{'ID': 93, 'Username': 'michael09', 'Age': 39, 'Country': 'Germany', 'CreationDate': '03/02/2013 06:11 AM', 'Description': 'The first ever event for the new game, The Witcher 3:', 'FollowerCount': 4728, 'PostCount': 33, 'Language': 'ENG'}\n"
     ]
    },
    {
     "name": "stderr",
     "output_type": "stream",
     "text": [
      "The attention mask and the pad token id were not set. As a consequence, you may observe unexpected behavior. Please pass your input's `attention_mask` to obtain reliable results.\n",
      "Setting `pad_token_id` to `eos_token_id`:50256 for open-end generation.\n"
     ]
    },
    {
     "name": "stdout",
     "output_type": "stream",
     "text": [
      "Finished: row 94 of 500\n",
      "{'ID': 94, 'Username': '1962_kenneth32', 'Age': 30, 'Country': 'Germany', 'CreationDate': '11/01/2023 10:44 AM', 'Description': 'The Republican Party is the party of the people, the party of the', 'FollowerCount': 133, 'PostCount': 0, 'Language': 'GER'}\n"
     ]
    },
    {
     "name": "stderr",
     "output_type": "stream",
     "text": [
      "The attention mask and the pad token id were not set. As a consequence, you may observe unexpected behavior. Please pass your input's `attention_mask` to obtain reliable results.\n",
      "Setting `pad_token_id` to `eos_token_id`:50256 for open-end generation.\n"
     ]
    },
    {
     "name": "stdout",
     "output_type": "stream",
     "text": [
      "Finished: row 95 of 500\n",
      "{'ID': 95, 'Username': '1973_lyoung', 'Age': 29, 'Country': 'USA', 'CreationDate': '02/24/2022 01:04 AM', 'Description': 'I am a student of the University of Hong Kong. I am', 'FollowerCount': 129, 'PostCount': 4786, 'Language': 'ITA'}\n"
     ]
    },
    {
     "name": "stderr",
     "output_type": "stream",
     "text": [
      "The attention mask and the pad token id were not set. As a consequence, you may observe unexpected behavior. Please pass your input's `attention_mask` to obtain reliable results.\n",
      "Setting `pad_token_id` to `eos_token_id`:50256 for open-end generation.\n"
     ]
    },
    {
     "name": "stdout",
     "output_type": "stream",
     "text": [
      "Finished: row 96 of 500\n",
      "{'ID': 96, 'Username': 'anne43_1973', 'Age': 44, 'Country': 'Japan', 'CreationDate': '03/15/2015 07:15 AM', 'Description': 'The author, a former Republican, describes his experiences in the Republican Party', 'FollowerCount': 3476, 'PostCount': 89, 'Language': 'JAP'}\n"
     ]
    },
    {
     "name": "stderr",
     "output_type": "stream",
     "text": [
      "The attention mask and the pad token id were not set. As a consequence, you may observe unexpected behavior. Please pass your input's `attention_mask` to obtain reliable results.\n",
      "Setting `pad_token_id` to `eos_token_id`:50256 for open-end generation.\n"
     ]
    },
    {
     "name": "stdout",
     "output_type": "stream",
     "text": [
      "Finished: row 97 of 500\n",
      "{'ID': 97, 'Username': 'blairjames', 'Age': 35, 'Country': 'Italy', 'CreationDate': '12/28/2020 01:50 AM', 'Description': 'The Republican Party is the party of the people, the party of the', 'FollowerCount': 1086, 'PostCount': 3, 'Language': 'RUS'}\n"
     ]
    },
    {
     "name": "stderr",
     "output_type": "stream",
     "text": [
      "The attention mask and the pad token id were not set. As a consequence, you may observe unexpected behavior. Please pass your input's `attention_mask` to obtain reliable results.\n",
      "Setting `pad_token_id` to `eos_token_id`:50256 for open-end generation.\n"
     ]
    },
    {
     "name": "stdout",
     "output_type": "stream",
     "text": [
      "Finished: row 98 of 500\n",
      "{'ID': 98, 'Username': 'taylortina_1987', 'Age': 37, 'Country': 'China', 'CreationDate': '07/18/2023 12:49 PM', 'Description': 'The Taylortina is a small, slender, and fast-', 'FollowerCount': 430, 'PostCount': 3, 'Language': 'MAN'}\n"
     ]
    },
    {
     "name": "stderr",
     "output_type": "stream",
     "text": [
      "The attention mask and the pad token id were not set. As a consequence, you may observe unexpected behavior. Please pass your input's `attention_mask` to obtain reliable results.\n",
      "Setting `pad_token_id` to `eos_token_id`:50256 for open-end generation.\n"
     ]
    },
    {
     "name": "stdout",
     "output_type": "stream",
     "text": [
      "Finished: row 99 of 500\n",
      "{'ID': 99, 'Username': '2001_mbrewer', 'Age': 22, 'Country': 'Italy', 'CreationDate': '01/30/2018 04:11 PM', 'Description': 'The Republican Party is the party of the people, the party of the', 'FollowerCount': 1342, 'PostCount': 33, 'Language': 'ITA'}\n"
     ]
    },
    {
     "name": "stderr",
     "output_type": "stream",
     "text": [
      "The attention mask and the pad token id were not set. As a consequence, you may observe unexpected behavior. Please pass your input's `attention_mask` to obtain reliable results.\n",
      "Setting `pad_token_id` to `eos_token_id`:50256 for open-end generation.\n"
     ]
    },
    {
     "name": "stdout",
     "output_type": "stream",
     "text": [
      "Finished: row 100 of 500\n",
      "{'ID': 100, 'Username': '2004_michaelphillips', 'Age': '', 'Country': 'Netherlands', 'CreationDate': '05/08/2013 03:38 AM', 'Description': 'Michael Phillips, a former member of the U.S. House of Representatives', 'FollowerCount': 7700, 'PostCount': 30, 'Language': 'NED'}\n"
     ]
    },
    {
     "name": "stderr",
     "output_type": "stream",
     "text": [
      "The attention mask and the pad token id were not set. As a consequence, you may observe unexpected behavior. Please pass your input's `attention_mask` to obtain reliable results.\n",
      "Setting `pad_token_id` to `eos_token_id`:50256 for open-end generation.\n"
     ]
    },
    {
     "name": "stdout",
     "output_type": "stream",
     "text": [
      "Finished: row 101 of 500\n",
      "{'ID': 101, 'Username': 'gregory58', 'Age': 31, 'Country': 'China', 'CreationDate': '09/25/2021 04:18 AM', 'Description': 'The first thing I noticed about the new Covid-19 virus was', 'FollowerCount': 74, 'PostCount': 17445, 'Language': 'MAN'}\n"
     ]
    },
    {
     "name": "stderr",
     "output_type": "stream",
     "text": [
      "The attention mask and the pad token id were not set. As a consequence, you may observe unexpected behavior. Please pass your input's `attention_mask` to obtain reliable results.\n",
      "Setting `pad_token_id` to `eos_token_id`:50256 for open-end generation.\n"
     ]
    },
    {
     "name": "stdout",
     "output_type": "stream",
     "text": [
      "Finished: row 102 of 500\n",
      "{'ID': 102, 'Username': 'stephen97', 'Age': 45, 'Country': 'China', 'CreationDate': '11/24/2019 05:46 PM', 'Description': \"The first ever women's rugby union team from the United Kingdom, the England\", 'FollowerCount': 5252, 'PostCount': 17, 'Language': 'MAN'}\n"
     ]
    },
    {
     "name": "stderr",
     "output_type": "stream",
     "text": [
      "The attention mask and the pad token id were not set. As a consequence, you may observe unexpected behavior. Please pass your input's `attention_mask` to obtain reliable results.\n",
      "Setting `pad_token_id` to `eos_token_id`:50256 for open-end generation.\n"
     ]
    },
    {
     "name": "stdout",
     "output_type": "stream",
     "text": [
      "Finished: row 103 of 500\n",
      "{'ID': 103, 'Username': 'warnerdavid', 'Age': 31, 'Country': 'China', 'CreationDate': '01/24/2023 11:26 PM', 'Description': 'The Animal Rights Movement is a movement that is dedicated to the protection of animals', 'FollowerCount': 98, 'PostCount': 5, 'Language': 'MAN'}\n"
     ]
    },
    {
     "name": "stderr",
     "output_type": "stream",
     "text": [
      "The attention mask and the pad token id were not set. As a consequence, you may observe unexpected behavior. Please pass your input's `attention_mask` to obtain reliable results.\n",
      "Setting `pad_token_id` to `eos_token_id`:50256 for open-end generation.\n"
     ]
    },
    {
     "name": "stdout",
     "output_type": "stream",
     "text": [
      "Finished: row 104 of 500\n",
      "{'ID': 104, 'Username': 'chandlerchristopher', 'Age': '', 'Country': 'Italy', 'CreationDate': '12/16/2015 03:44 PM', 'Description': 'The job offer is for a full time position in the Finance Department. The', 'FollowerCount': 11311, 'PostCount': 21, 'Language': 'ITA'}\n"
     ]
    },
    {
     "name": "stderr",
     "output_type": "stream",
     "text": [
      "The attention mask and the pad token id were not set. As a consequence, you may observe unexpected behavior. Please pass your input's `attention_mask` to obtain reliable results.\n",
      "Setting `pad_token_id` to `eos_token_id`:50256 for open-end generation.\n"
     ]
    },
    {
     "name": "stdout",
     "output_type": "stream",
     "text": [
      "Finished: row 105 of 500\n",
      "{'ID': 105, 'Username': '1993_anngarcia', 'Age': 45, 'Country': 'China', 'CreationDate': '08/27/2009 06:00 AM', 'Description': 'The first part of this article is a short profile of the author, who', 'FollowerCount': 19170, 'PostCount': 7, 'Language': 'NED'}\n"
     ]
    },
    {
     "name": "stderr",
     "output_type": "stream",
     "text": [
      "The attention mask and the pad token id were not set. As a consequence, you may observe unexpected behavior. Please pass your input's `attention_mask` to obtain reliable results.\n",
      "Setting `pad_token_id` to `eos_token_id`:50256 for open-end generation.\n"
     ]
    },
    {
     "name": "stdout",
     "output_type": "stream",
     "text": [
      "Finished: row 106 of 500\n",
      "{'ID': 106, 'Username': '1950_maryrodriguez', 'Age': 58, 'Country': 'Japan', 'CreationDate': '01/30/2010 03:27 PM', 'Description': 'The first part of this article is a short profile of the author,', 'FollowerCount': 4617, 'PostCount': 45, 'Language': 'RUS'}\n"
     ]
    },
    {
     "name": "stderr",
     "output_type": "stream",
     "text": [
      "The attention mask and the pad token id were not set. As a consequence, you may observe unexpected behavior. Please pass your input's `attention_mask` to obtain reliable results.\n",
      "Setting `pad_token_id` to `eos_token_id`:50256 for open-end generation.\n"
     ]
    },
    {
     "name": "stdout",
     "output_type": "stream",
     "text": [
      "Finished: row 107 of 500\n",
      "{'ID': 107, 'Username': 'wilsonangela', 'Age': 34, 'Country': 'France', 'CreationDate': '05/11/2014 05:52 PM', 'Description': 'The author is a writer, a blogger, a blogger, a blogger,', 'FollowerCount': 7137, 'PostCount': 44, 'Language': 'FRE'}\n"
     ]
    },
    {
     "name": "stderr",
     "output_type": "stream",
     "text": [
      "The attention mask and the pad token id were not set. As a consequence, you may observe unexpected behavior. Please pass your input's `attention_mask` to obtain reliable results.\n",
      "Setting `pad_token_id` to `eos_token_id`:50256 for open-end generation.\n"
     ]
    },
    {
     "name": "stdout",
     "output_type": "stream",
     "text": [
      "Finished: row 108 of 500\n",
      "{'ID': 108, 'Username': 'jeremyluna', 'Age': 22, 'Country': 'Japan', 'CreationDate': '04/07/2022 07:12 PM', 'Description': 'The first thing I noticed about this guy was his hair. It', 'FollowerCount': 168, 'PostCount': 0, 'Language': 'JAP'}\n"
     ]
    },
    {
     "name": "stderr",
     "output_type": "stream",
     "text": [
      "The attention mask and the pad token id were not set. As a consequence, you may observe unexpected behavior. Please pass your input's `attention_mask` to obtain reliable results.\n",
      "Setting `pad_token_id` to `eos_token_id`:50256 for open-end generation.\n"
     ]
    },
    {
     "name": "stdout",
     "output_type": "stream",
     "text": [
      "Finished: row 109 of 500\n",
      "{'ID': 109, 'Username': '1974_stephenchandler', 'Age': 32, 'Country': 'China', 'CreationDate': '12/03/2021 07:05 PM', 'Description': 'The first ever meeting of the British and American teams in the World Cup was', 'FollowerCount': 1873, 'PostCount': 7, 'Language': 'MAN'}\n"
     ]
    },
    {
     "name": "stderr",
     "output_type": "stream",
     "text": [
      "The attention mask and the pad token id were not set. As a consequence, you may observe unexpected behavior. Please pass your input's `attention_mask` to obtain reliable results.\n",
      "Setting `pad_token_id` to `eos_token_id`:50256 for open-end generation.\n"
     ]
    },
    {
     "name": "stdout",
     "output_type": "stream",
     "text": [
      "Finished: row 110 of 500\n",
      "{'ID': 110, 'Username': 'kennethmolina', 'Age': 36, 'Country': 'USA', 'CreationDate': '08/09/2018 01:35 PM', 'Description': 'The Republican Party is the political party of the United States. It', 'FollowerCount': 640, 'PostCount': 13, 'Language': 'ENG'}\n"
     ]
    },
    {
     "name": "stderr",
     "output_type": "stream",
     "text": [
      "The attention mask and the pad token id were not set. As a consequence, you may observe unexpected behavior. Please pass your input's `attention_mask` to obtain reliable results.\n",
      "Setting `pad_token_id` to `eos_token_id`:50256 for open-end generation.\n"
     ]
    },
    {
     "name": "stdout",
     "output_type": "stream",
     "text": [
      "Finished: row 111 of 500\n",
      "{'ID': 111, 'Username': 'jeffreyedwards', 'Age': 17, 'Country': 'Japan', 'CreationDate': '05/24/2012 12:19 PM', 'Description': 'I am a photographer, I love to take pictures and I love to', 'FollowerCount': 309, 'PostCount': 44, 'Language': 'RUS'}\n"
     ]
    },
    {
     "name": "stderr",
     "output_type": "stream",
     "text": [
      "The attention mask and the pad token id were not set. As a consequence, you may observe unexpected behavior. Please pass your input's `attention_mask` to obtain reliable results.\n",
      "Setting `pad_token_id` to `eos_token_id`:50256 for open-end generation.\n"
     ]
    },
    {
     "name": "stdout",
     "output_type": "stream",
     "text": [
      "Finished: row 112 of 500\n",
      "{'ID': 112, 'Username': 'michaelbrady', 'Age': 27, 'Country': 'Russia', 'CreationDate': '05/13/2019 01:31 PM', 'Description': 'Michael Brady is a professional photographer and has been in the industry for', 'FollowerCount': 1087, 'PostCount': 25, 'Language': 'RUS'}\n"
     ]
    },
    {
     "name": "stderr",
     "output_type": "stream",
     "text": [
      "The attention mask and the pad token id were not set. As a consequence, you may observe unexpected behavior. Please pass your input's `attention_mask` to obtain reliable results.\n",
      "Setting `pad_token_id` to `eos_token_id`:50256 for open-end generation.\n"
     ]
    },
    {
     "name": "stdout",
     "output_type": "stream",
     "text": [
      "Finished: row 113 of 500\n",
      "{'ID': 113, 'Username': '1995_uphillips', 'Age': 45, 'Country': 'Germany', 'CreationDate': '11/11/2017 01:32 PM', 'Description': 'The author is a freelance writer and photographer. He has been a', 'FollowerCount': 1595, 'PostCount': 0, 'Language': 'FRE'}\n"
     ]
    },
    {
     "name": "stderr",
     "output_type": "stream",
     "text": [
      "The attention mask and the pad token id were not set. As a consequence, you may observe unexpected behavior. Please pass your input's `attention_mask` to obtain reliable results.\n",
      "Setting `pad_token_id` to `eos_token_id`:50256 for open-end generation.\n"
     ]
    },
    {
     "name": "stdout",
     "output_type": "stream",
     "text": [
      "Finished: row 114 of 500\n",
      "{'ID': 114, 'Username': 'lindsay08', 'Age': 54, 'Country': 'Netherlands', 'CreationDate': '02/04/2023 03:58 AM', 'Description': 'The author is a political scientist and a political theorist. He is currently a', 'FollowerCount': 942, 'PostCount': 7, 'Language': 'NED'}\n"
     ]
    },
    {
     "name": "stderr",
     "output_type": "stream",
     "text": [
      "The attention mask and the pad token id were not set. As a consequence, you may observe unexpected behavior. Please pass your input's `attention_mask` to obtain reliable results.\n",
      "Setting `pad_token_id` to `eos_token_id`:50256 for open-end generation.\n"
     ]
    },
    {
     "name": "stdout",
     "output_type": "stream",
     "text": [
      "Finished: row 115 of 500\n",
      "{'ID': 115, 'Username': 'zacharywilliams', 'Age': 54, 'Country': 'UK', 'CreationDate': '06/06/2009 03:37 PM', 'Description': 'The author is a veterinarian and a Republican. He is a graduate of the', 'FollowerCount': 2646, 'PostCount': 39, 'Language': 'ENG'}\n"
     ]
    },
    {
     "name": "stderr",
     "output_type": "stream",
     "text": [
      "The attention mask and the pad token id were not set. As a consequence, you may observe unexpected behavior. Please pass your input's `attention_mask` to obtain reliable results.\n",
      "Setting `pad_token_id` to `eos_token_id`:50256 for open-end generation.\n"
     ]
    },
    {
     "name": "stdout",
     "output_type": "stream",
     "text": [
      "Finished: row 116 of 500\n",
      "{'ID': 116, 'Username': 'hhubbard', 'Age': '', 'Country': 'Netherlands', 'CreationDate': '11/24/2011 11:40 PM', 'Description': 'The U.S. Department of Energy (DOE is seeking applications', 'FollowerCount': 13405, 'PostCount': 61, 'Language': 'ITA'}\n"
     ]
    },
    {
     "name": "stderr",
     "output_type": "stream",
     "text": [
      "The attention mask and the pad token id were not set. As a consequence, you may observe unexpected behavior. Please pass your input's `attention_mask` to obtain reliable results.\n",
      "Setting `pad_token_id` to `eos_token_id`:50256 for open-end generation.\n"
     ]
    },
    {
     "name": "stdout",
     "output_type": "stream",
     "text": [
      "Finished: row 117 of 500\n",
      "{'ID': 117, 'Username': '1977_cherrymichele', 'Age': 36, 'Country': 'UK', 'CreationDate': '03/28/2016 08:26 PM', 'Description': ':, :, :, :, :, :, :, :', 'FollowerCount': 8722, 'PostCount': 33, 'Language': 'ENG'}\n"
     ]
    },
    {
     "name": "stderr",
     "output_type": "stream",
     "text": [
      "The attention mask and the pad token id were not set. As a consequence, you may observe unexpected behavior. Please pass your input's `attention_mask` to obtain reliable results.\n",
      "Setting `pad_token_id` to `eos_token_id`:50256 for open-end generation.\n"
     ]
    },
    {
     "name": "stdout",
     "output_type": "stream",
     "text": [
      "Finished: row 118 of 500\n",
      "{'ID': 118, 'Username': 'nicholassmith', 'Age': 41, 'Country': 'Japan', 'CreationDate': '07/25/2009 10:33 PM', 'Description': 'The first thing that comes to mind when you think of the word ', 'FollowerCount': 18583, 'PostCount': 97, 'Language': 'NED'}\n"
     ]
    },
    {
     "name": "stderr",
     "output_type": "stream",
     "text": [
      "The attention mask and the pad token id were not set. As a consequence, you may observe unexpected behavior. Please pass your input's `attention_mask` to obtain reliable results.\n",
      "Setting `pad_token_id` to `eos_token_id`:50256 for open-end generation.\n"
     ]
    },
    {
     "name": "stdout",
     "output_type": "stream",
     "text": [
      "Finished: row 119 of 500\n",
      "{'ID': 119, 'Username': '1982_robert89', 'Age': 59, 'Country': 'UK', 'CreationDate': '11/29/2009 10:16 PM', 'Description': 'The event is a great opportunity to meet new people and to get', 'FollowerCount': 8139, 'PostCount': 27, 'Language': 'ENG'}\n"
     ]
    },
    {
     "name": "stderr",
     "output_type": "stream",
     "text": [
      "The attention mask and the pad token id were not set. As a consequence, you may observe unexpected behavior. Please pass your input's `attention_mask` to obtain reliable results.\n",
      "Setting `pad_token_id` to `eos_token_id`:50256 for open-end generation.\n"
     ]
    },
    {
     "name": "stdout",
     "output_type": "stream",
     "text": [
      "Finished: row 120 of 500\n",
      "{'ID': 120, 'Username': 'johnstevens', 'Age': 42, 'Country': 'Germany', 'CreationDate': '09/05/2016 03:10 PM', 'Description': 'I am a photographer, I love to take pictures, I love to take', 'FollowerCount': 1588, 'PostCount': 19, 'Language': 'GER'}\n"
     ]
    },
    {
     "name": "stderr",
     "output_type": "stream",
     "text": [
      "The attention mask and the pad token id were not set. As a consequence, you may observe unexpected behavior. Please pass your input's `attention_mask` to obtain reliable results.\n",
      "Setting `pad_token_id` to `eos_token_id`:50256 for open-end generation.\n"
     ]
    },
    {
     "name": "stdout",
     "output_type": "stream",
     "text": [
      "Finished: row 121 of 500\n",
      "{'ID': 121, 'Username': 'donna24', 'Age': 94, 'Country': 'Italy', 'CreationDate': '06/01/2020 04:47 PM', 'Description': 'I am a very friendly and outgoing person. I love to have fun and', 'FollowerCount': 3674, 'PostCount': 0, 'Language': 'ITA'}\n"
     ]
    },
    {
     "name": "stderr",
     "output_type": "stream",
     "text": [
      "The attention mask and the pad token id were not set. As a consequence, you may observe unexpected behavior. Please pass your input's `attention_mask` to obtain reliable results.\n",
      "Setting `pad_token_id` to `eos_token_id`:50256 for open-end generation.\n"
     ]
    },
    {
     "name": "stdout",
     "output_type": "stream",
     "text": [
      "Finished: row 122 of 500\n",
      "{'ID': 122, 'Username': 'marymiles', 'Age': 49, 'Country': 'Germany', 'CreationDate': '12/08/2017 04:38 AM', 'Description': 'I am a photographer, I love to take pictures and I love to', 'FollowerCount': 7246, 'PostCount': 20, 'Language': 'GER'}\n"
     ]
    },
    {
     "name": "stderr",
     "output_type": "stream",
     "text": [
      "The attention mask and the pad token id were not set. As a consequence, you may observe unexpected behavior. Please pass your input's `attention_mask` to obtain reliable results.\n",
      "Setting `pad_token_id` to `eos_token_id`:50256 for open-end generation.\n"
     ]
    },
    {
     "name": "stdout",
     "output_type": "stream",
     "text": [
      "Finished: row 123 of 500\n",
      "{'ID': 123, 'Username': '1996_crystal22', 'Age': 60, 'Country': 'Netherlands', 'CreationDate': '07/19/2012 06:15 PM', 'Description': 'The first of the two new species of the genus _Cynops_', 'FollowerCount': 1827, 'PostCount': 18, 'Language': 'ENG'}\n"
     ]
    },
    {
     "name": "stderr",
     "output_type": "stream",
     "text": [
      "The attention mask and the pad token id were not set. As a consequence, you may observe unexpected behavior. Please pass your input's `attention_mask` to obtain reliable results.\n",
      "Setting `pad_token_id` to `eos_token_id`:50256 for open-end generation.\n"
     ]
    },
    {
     "name": "stdout",
     "output_type": "stream",
     "text": [
      "Finished: row 124 of 500\n",
      "{'ID': 124, 'Username': 'angeladelgado_1969', 'Age': 40, 'Country': '', 'CreationDate': '08/12/2015 06:58 PM', 'Description': 'The animal is the most important part of the image. It is the', 'FollowerCount': 5747, 'PostCount': 39, 'Language': 'JAP'}\n"
     ]
    },
    {
     "name": "stderr",
     "output_type": "stream",
     "text": [
      "The attention mask and the pad token id were not set. As a consequence, you may observe unexpected behavior. Please pass your input's `attention_mask` to obtain reliable results.\n",
      "Setting `pad_token_id` to `eos_token_id`:50256 for open-end generation.\n"
     ]
    },
    {
     "name": "stdout",
     "output_type": "stream",
     "text": [
      "Finished: row 125 of 500\n",
      "{'ID': 125, 'Username': '1996_gjones', 'Age': 45, 'Country': 'USA', 'CreationDate': '04/09/2020 01:09 PM', 'Description': 'The game is a mix of strategy and role-playing, with', 'FollowerCount': 1241, 'PostCount': 14, 'Language': 'MAN'}\n"
     ]
    },
    {
     "name": "stderr",
     "output_type": "stream",
     "text": [
      "The attention mask and the pad token id were not set. As a consequence, you may observe unexpected behavior. Please pass your input's `attention_mask` to obtain reliable results.\n",
      "Setting `pad_token_id` to `eos_token_id`:50256 for open-end generation.\n"
     ]
    },
    {
     "name": "stdout",
     "output_type": "stream",
     "text": [
      "Finished: row 126 of 500\n",
      "{'ID': 126, 'Username': 'amy43', 'Age': 35, 'Country': 'France', 'CreationDate': '07/14/2021 02:53 AM', 'Description': 'The first ever game to use the new 3D technology to create a realistic', 'FollowerCount': 2416, 'PostCount': 3, 'Language': 'FRE'}\n"
     ]
    },
    {
     "name": "stderr",
     "output_type": "stream",
     "text": [
      "The attention mask and the pad token id were not set. As a consequence, you may observe unexpected behavior. Please pass your input's `attention_mask` to obtain reliable results.\n",
      "Setting `pad_token_id` to `eos_token_id`:50256 for open-end generation.\n"
     ]
    },
    {
     "name": "stdout",
     "output_type": "stream",
     "text": [
      "Finished: row 127 of 500\n",
      "{'ID': 127, 'Username': 'jessica71_1993', 'Age': 58, 'Country': 'UK', 'CreationDate': '10/31/2015 05:21 PM', 'Description': 'The author is a journalist and a sports journalist. He is a sports journalist', 'FollowerCount': 5712, 'PostCount': 15, 'Language': 'FRE'}\n"
     ]
    },
    {
     "name": "stderr",
     "output_type": "stream",
     "text": [
      "The attention mask and the pad token id were not set. As a consequence, you may observe unexpected behavior. Please pass your input's `attention_mask` to obtain reliable results.\n",
      "Setting `pad_token_id` to `eos_token_id`:50256 for open-end generation.\n"
     ]
    },
    {
     "name": "stdout",
     "output_type": "stream",
     "text": [
      "Finished: row 128 of 500\n",
      "{'ID': 128, 'Username': 'wfuller', 'Age': 53, 'Country': 'USA', 'CreationDate': '06/01/2018 05:36 PM', 'Description': 'The first full-length biography of the legendary boxer, who was born in', 'FollowerCount': 7868, 'PostCount': 42, 'Language': 'JAP'}\n"
     ]
    },
    {
     "name": "stderr",
     "output_type": "stream",
     "text": [
      "The attention mask and the pad token id were not set. As a consequence, you may observe unexpected behavior. Please pass your input's `attention_mask` to obtain reliable results.\n",
      "Setting `pad_token_id` to `eos_token_id`:50256 for open-end generation.\n"
     ]
    },
    {
     "name": "stdout",
     "output_type": "stream",
     "text": [
      "Finished: row 129 of 500\n",
      "{'ID': 129, 'Username': 'bobby10', 'Age': 67, 'Country': 'Germany', 'CreationDate': '04/11/2016 10:14 PM', 'Description': \"I'm a gamer, a gamer who is also a writer, and a\", 'FollowerCount': 50, 'PostCount': 57, 'Language': 'MAN'}\n"
     ]
    },
    {
     "name": "stderr",
     "output_type": "stream",
     "text": [
      "The attention mask and the pad token id were not set. As a consequence, you may observe unexpected behavior. Please pass your input's `attention_mask` to obtain reliable results.\n",
      "Setting `pad_token_id` to `eos_token_id`:50256 for open-end generation.\n"
     ]
    },
    {
     "name": "stdout",
     "output_type": "stream",
     "text": [
      "Finished: row 130 of 500\n",
      "{'ID': 130, 'Username': 'hshaw', 'Age': 60, 'Country': 'Netherlands', 'CreationDate': '06/10/2012 11:16 PM', 'Description': 'The game is a fast-paced, competitive, and action-', 'FollowerCount': 2628, 'PostCount': 17, 'Language': 'NED'}\n"
     ]
    },
    {
     "name": "stderr",
     "output_type": "stream",
     "text": [
      "The attention mask and the pad token id were not set. As a consequence, you may observe unexpected behavior. Please pass your input's `attention_mask` to obtain reliable results.\n",
      "Setting `pad_token_id` to `eos_token_id`:50256 for open-end generation.\n"
     ]
    },
    {
     "name": "stdout",
     "output_type": "stream",
     "text": [
      "Finished: row 131 of 500\n",
      "{'ID': 131, 'Username': 'timothy95', 'Age': 69, 'Country': 'Japan', 'CreationDate': '07/14/2008 02:16 PM', 'Description': 'The Republican Party is the party of the people, the party of the people', 'FollowerCount': 3228, 'PostCount': 87, 'Language': 'JAP'}\n"
     ]
    },
    {
     "name": "stderr",
     "output_type": "stream",
     "text": [
      "The attention mask and the pad token id were not set. As a consequence, you may observe unexpected behavior. Please pass your input's `attention_mask` to obtain reliable results.\n",
      "Setting `pad_token_id` to `eos_token_id`:50256 for open-end generation.\n"
     ]
    },
    {
     "name": "stdout",
     "output_type": "stream",
     "text": [
      "Finished: row 132 of 500\n",
      "{'ID': 132, 'Username': 'jonathon85_1988', 'Age': 27, 'Country': 'Germany', 'CreationDate': '01/23/2024 06:52 AM', 'Description': ':, :, :, :, :, :, :, :', 'FollowerCount': 1, 'PostCount': 0, 'Language': 'GER'}\n"
     ]
    },
    {
     "name": "stderr",
     "output_type": "stream",
     "text": [
      "The attention mask and the pad token id were not set. As a consequence, you may observe unexpected behavior. Please pass your input's `attention_mask` to obtain reliable results.\n",
      "Setting `pad_token_id` to `eos_token_id`:50256 for open-end generation.\n"
     ]
    },
    {
     "name": "stdout",
     "output_type": "stream",
     "text": [
      "Finished: row 133 of 500\n",
      "{'ID': 133, 'Username': 'dannyriley', 'Age': 34, 'Country': 'Netherlands', 'CreationDate': '03/22/2012 03:54 AM', 'Description': \"The world's most famous dog is a dog, and he's a\", 'FollowerCount': 2291, 'PostCount': 19, 'Language': 'NED'}\n"
     ]
    },
    {
     "name": "stderr",
     "output_type": "stream",
     "text": [
      "The attention mask and the pad token id were not set. As a consequence, you may observe unexpected behavior. Please pass your input's `attention_mask` to obtain reliable results.\n",
      "Setting `pad_token_id` to `eos_token_id`:50256 for open-end generation.\n"
     ]
    },
    {
     "name": "stdout",
     "output_type": "stream",
     "text": [
      "Finished: row 134 of 500\n",
      "{'ID': 134, 'Username': '1959_wilkinsmatthew', 'Age': 36, 'Country': 'Russia', 'CreationDate': '11/08/2010 05:26 PM', 'Description': \"The game of chess is a game of strategy, and the player's\", 'FollowerCount': 9374, 'PostCount': 55, 'Language': 'GER'}\n"
     ]
    },
    {
     "name": "stderr",
     "output_type": "stream",
     "text": [
      "The attention mask and the pad token id were not set. As a consequence, you may observe unexpected behavior. Please pass your input's `attention_mask` to obtain reliable results.\n",
      "Setting `pad_token_id` to `eos_token_id`:50256 for open-end generation.\n"
     ]
    },
    {
     "name": "stdout",
     "output_type": "stream",
     "text": [
      "Finished: row 135 of 500\n",
      "{'ID': 135, 'Username': 'rodriguezpatrick', 'Age': 27, 'Country': 'France', 'CreationDate': '01/29/2014 11:04 PM', 'Description': 'The author is a travel writer and has been writing about travel for more than', 'FollowerCount': 5166, 'PostCount': 66, 'Language': 'FRE'}\n"
     ]
    },
    {
     "name": "stderr",
     "output_type": "stream",
     "text": [
      "The attention mask and the pad token id were not set. As a consequence, you may observe unexpected behavior. Please pass your input's `attention_mask` to obtain reliable results.\n",
      "Setting `pad_token_id` to `eos_token_id`:50256 for open-end generation.\n"
     ]
    },
    {
     "name": "stdout",
     "output_type": "stream",
     "text": [
      "Finished: row 136 of 500\n",
      "{'ID': 136, 'Username': 'crojas', 'Age': 41, 'Country': 'Japan', 'CreationDate': '01/24/2016 11:22 PM', 'Description': 'The first ever game to use the new Unreal Engine 4, and the', 'FollowerCount': 847, 'PostCount': 4, 'Language': 'JAP'}\n"
     ]
    },
    {
     "name": "stderr",
     "output_type": "stream",
     "text": [
      "The attention mask and the pad token id were not set. As a consequence, you may observe unexpected behavior. Please pass your input's `attention_mask` to obtain reliable results.\n",
      "Setting `pad_token_id` to `eos_token_id`:50256 for open-end generation.\n"
     ]
    },
    {
     "name": "stdout",
     "output_type": "stream",
     "text": [
      "Finished: row 137 of 500\n",
      "{'ID': 137, 'Username': 'krichard', 'Age': 48, 'Country': 'China', 'CreationDate': '09/26/2019 02:24 AM', 'Description': 'The author of this article is a journalist, photographer and a writer. He', 'FollowerCount': 5882, 'PostCount': 18, 'Language': 'ENG'}\n"
     ]
    },
    {
     "name": "stderr",
     "output_type": "stream",
     "text": [
      "The attention mask and the pad token id were not set. As a consequence, you may observe unexpected behavior. Please pass your input's `attention_mask` to obtain reliable results.\n",
      "Setting `pad_token_id` to `eos_token_id`:50256 for open-end generation.\n"
     ]
    },
    {
     "name": "stdout",
     "output_type": "stream",
     "text": [
      "Finished: row 138 of 500\n",
      "{'ID': 138, 'Username': 'mackemma', 'Age': 53, 'Country': 'Germany', 'CreationDate': '03/26/2023 08:02 PM', 'Description': 'The author is a former Republican member of the U.S. House of', 'FollowerCount': 539, 'PostCount': 3, 'Language': 'ITA'}\n"
     ]
    },
    {
     "name": "stderr",
     "output_type": "stream",
     "text": [
      "The attention mask and the pad token id were not set. As a consequence, you may observe unexpected behavior. Please pass your input's `attention_mask` to obtain reliable results.\n",
      "Setting `pad_token_id` to `eos_token_id`:50256 for open-end generation.\n"
     ]
    },
    {
     "name": "stdout",
     "output_type": "stream",
     "text": [
      "Finished: row 139 of 500\n",
      "{'ID': 139, 'Username': 'hrose', 'Age': 39, 'Country': 'France', 'CreationDate': '10/24/2014 07:49 PM', 'Description': 'The event is about the life of a young woman who is a photographer.', 'FollowerCount': 966, 'PostCount': 16, 'Language': 'FRE'}\n"
     ]
    },
    {
     "name": "stderr",
     "output_type": "stream",
     "text": [
      "The attention mask and the pad token id were not set. As a consequence, you may observe unexpected behavior. Please pass your input's `attention_mask` to obtain reliable results.\n",
      "Setting `pad_token_id` to `eos_token_id`:50256 for open-end generation.\n"
     ]
    },
    {
     "name": "stdout",
     "output_type": "stream",
     "text": [
      "Finished: row 140 of 500\n",
      "{'ID': 140, 'Username': 'krausethomas', 'Age': 28, 'Country': 'UK', 'CreationDate': '10/06/2010 06:42 PM', 'Description': 'The event is organized by the German Society of Psychiatry and Psychotherapy', 'FollowerCount': 7418, 'PostCount': 4, 'Language': 'ENG'}\n"
     ]
    },
    {
     "name": "stderr",
     "output_type": "stream",
     "text": [
      "The attention mask and the pad token id were not set. As a consequence, you may observe unexpected behavior. Please pass your input's `attention_mask` to obtain reliable results.\n",
      "Setting `pad_token_id` to `eos_token_id`:50256 for open-end generation.\n"
     ]
    },
    {
     "name": "stdout",
     "output_type": "stream",
     "text": [
      "Finished: row 141 of 500\n",
      "{'ID': 141, 'Username': 'carrieroberson', 'Age': 40, 'Country': 'Italy', 'CreationDate': '08/10/2015 11:30 AM', 'Description': 'The author is a retired teacher and a retired police officer. He is a', 'FollowerCount': 961, 'PostCount': 48, 'Language': 'ITA'}\n"
     ]
    },
    {
     "name": "stderr",
     "output_type": "stream",
     "text": [
      "The attention mask and the pad token id were not set. As a consequence, you may observe unexpected behavior. Please pass your input's `attention_mask` to obtain reliable results.\n",
      "Setting `pad_token_id` to `eos_token_id`:50256 for open-end generation.\n"
     ]
    },
    {
     "name": "stdout",
     "output_type": "stream",
     "text": [
      "Finished: row 142 of 500\n",
      "{'ID': 142, 'Username': 'timothywashington_1973', 'Age': 24, 'Country': 'UK', 'CreationDate': '10/09/2016 07:24 PM', 'Description': 'The Republican Party is the party of the people, the party of', 'FollowerCount': 10294, 'PostCount': 78, 'Language': 'ENG'}\n"
     ]
    },
    {
     "name": "stderr",
     "output_type": "stream",
     "text": [
      "The attention mask and the pad token id were not set. As a consequence, you may observe unexpected behavior. Please pass your input's `attention_mask` to obtain reliable results.\n",
      "Setting `pad_token_id` to `eos_token_id`:50256 for open-end generation.\n"
     ]
    },
    {
     "name": "stdout",
     "output_type": "stream",
     "text": [
      "Finished: row 143 of 500\n",
      "{'ID': 143, 'Username': '1986_tanya00', 'Age': 43, 'Country': 'Russia', 'CreationDate': '04/10/2009 03:54 AM', 'Description': 'The author is a travel writer and a nature enthusiast. He has been writing', 'FollowerCount': 2440, 'PostCount': 20, 'Language': 'ITA'}\n"
     ]
    },
    {
     "name": "stderr",
     "output_type": "stream",
     "text": [
      "The attention mask and the pad token id were not set. As a consequence, you may observe unexpected behavior. Please pass your input's `attention_mask` to obtain reliable results.\n",
      "Setting `pad_token_id` to `eos_token_id`:50256 for open-end generation.\n"
     ]
    },
    {
     "name": "stdout",
     "output_type": "stream",
     "text": [
      "Finished: row 144 of 500\n",
      "{'ID': 144, 'Username': 'mariehughes_1993', 'Age': 26, 'Country': 'Russia', 'CreationDate': '08/26/2018 05:00 PM', 'Description': 'I am a travel writer and photographer. I have been traveling for', 'FollowerCount': 2287, 'PostCount': 40, 'Language': 'ENG'}\n"
     ]
    },
    {
     "name": "stderr",
     "output_type": "stream",
     "text": [
      "The attention mask and the pad token id were not set. As a consequence, you may observe unexpected behavior. Please pass your input's `attention_mask` to obtain reliable results.\n",
      "Setting `pad_token_id` to `eos_token_id`:50256 for open-end generation.\n"
     ]
    },
    {
     "name": "stdout",
     "output_type": "stream",
     "text": [
      "Finished: row 145 of 500\n",
      "{'ID': 145, 'Username': 'pamelameyer', 'Age': '', 'Country': '', 'CreationDate': '06/12/2010 11:36 PM', 'Description': 'I am a young, energetic, and passionate person who is looking for a', 'FollowerCount': 9206, 'PostCount': 45, 'Language': 'ENG'}\n"
     ]
    },
    {
     "name": "stderr",
     "output_type": "stream",
     "text": [
      "The attention mask and the pad token id were not set. As a consequence, you may observe unexpected behavior. Please pass your input's `attention_mask` to obtain reliable results.\n",
      "Setting `pad_token_id` to `eos_token_id`:50256 for open-end generation.\n"
     ]
    },
    {
     "name": "stdout",
     "output_type": "stream",
     "text": [
      "Finished: row 146 of 500\n",
      "{'ID': 146, 'Username': 'mcmahonjeffrey', 'Age': 21, 'Country': 'Germany', 'CreationDate': '02/18/2015 04:00 AM', 'Description': 'The author is a former journalist and a former Republican politician. He is currently', 'FollowerCount': 4987, 'PostCount': 9, 'Language': 'GER'}\n"
     ]
    },
    {
     "name": "stderr",
     "output_type": "stream",
     "text": [
      "The attention mask and the pad token id were not set. As a consequence, you may observe unexpected behavior. Please pass your input's `attention_mask` to obtain reliable results.\n",
      "Setting `pad_token_id` to `eos_token_id`:50256 for open-end generation.\n"
     ]
    },
    {
     "name": "stdout",
     "output_type": "stream",
     "text": [
      "Finished: row 147 of 500\n",
      "{'ID': 147, 'Username': 'gibbseric', 'Age': 46, 'Country': 'UK', 'CreationDate': '08/21/2015 01:09 AM', 'Description': 'The author is a writer, researcher, and game designer. He is currently', 'FollowerCount': 2442, 'PostCount': 22, 'Language': 'MAN'}\n"
     ]
    },
    {
     "name": "stderr",
     "output_type": "stream",
     "text": [
      "The attention mask and the pad token id were not set. As a consequence, you may observe unexpected behavior. Please pass your input's `attention_mask` to obtain reliable results.\n",
      "Setting `pad_token_id` to `eos_token_id`:50256 for open-end generation.\n"
     ]
    },
    {
     "name": "stdout",
     "output_type": "stream",
     "text": [
      "Finished: row 148 of 500\n",
      "{'ID': 148, 'Username': 'sharonsnyder', 'Age': 21, 'Country': 'UK', 'CreationDate': '08/22/2017 12:07 AM', 'Description': 'The event is a great opportunity to meet new people and get to know the', 'FollowerCount': 5986, 'PostCount': 6, 'Language': 'ENG'}\n"
     ]
    },
    {
     "name": "stderr",
     "output_type": "stream",
     "text": [
      "The attention mask and the pad token id were not set. As a consequence, you may observe unexpected behavior. Please pass your input's `attention_mask` to obtain reliable results.\n",
      "Setting `pad_token_id` to `eos_token_id`:50256 for open-end generation.\n"
     ]
    },
    {
     "name": "stdout",
     "output_type": "stream",
     "text": [
      "Finished: row 149 of 500\n",
      "{'ID': 149, 'Username': 'clarkewendy_1968', 'Age': 27, 'Country': 'Russia', 'CreationDate': '09/09/2013 08:18 PM', 'Description': 'The first of the two ships to be built by the Royal Navy,', 'FollowerCount': 14955, 'PostCount': 28, 'Language': 'ENG'}\n"
     ]
    },
    {
     "name": "stderr",
     "output_type": "stream",
     "text": [
      "The attention mask and the pad token id were not set. As a consequence, you may observe unexpected behavior. Please pass your input's `attention_mask` to obtain reliable results.\n",
      "Setting `pad_token_id` to `eos_token_id`:50256 for open-end generation.\n"
     ]
    },
    {
     "name": "stdout",
     "output_type": "stream",
     "text": [
      "Finished: row 150 of 500\n",
      "{'ID': 150, 'Username': 'howens_1976', 'Age': 18, 'Country': 'France', 'CreationDate': '09/26/2018 03:11 AM', 'Description': 'The Republican Party is the party of the people, the party of the', 'FollowerCount': 7909, 'PostCount': 4, 'Language': 'FRE'}\n"
     ]
    },
    {
     "name": "stderr",
     "output_type": "stream",
     "text": [
      "The attention mask and the pad token id were not set. As a consequence, you may observe unexpected behavior. Please pass your input's `attention_mask` to obtain reliable results.\n",
      "Setting `pad_token_id` to `eos_token_id`:50256 for open-end generation.\n"
     ]
    },
    {
     "name": "stdout",
     "output_type": "stream",
     "text": [
      "Finished: row 151 of 500\n",
      "{'ID': 151, 'Username': '1960_jessica61', 'Age': 27, 'Country': 'Russia', 'CreationDate': '09/29/2019 11:12 AM', 'Description': 'The game of the year is the game of the century. It is', 'FollowerCount': 718, 'PostCount': 24, 'Language': 'RUS'}\n"
     ]
    },
    {
     "name": "stderr",
     "output_type": "stream",
     "text": [
      "The attention mask and the pad token id were not set. As a consequence, you may observe unexpected behavior. Please pass your input's `attention_mask` to obtain reliable results.\n",
      "Setting `pad_token_id` to `eos_token_id`:50256 for open-end generation.\n"
     ]
    },
    {
     "name": "stdout",
     "output_type": "stream",
     "text": [
      "Finished: row 152 of 500\n",
      "{'ID': 152, 'Username': 'nicole14_1985', 'Age': 25, 'Country': 'Italy', 'CreationDate': '11/24/2013 04:21 PM', 'Description': 'The first woman to be elected to the French National Assembly, she was', 'FollowerCount': 20282, 'PostCount': 0, 'Language': 'ENG'}\n"
     ]
    },
    {
     "name": "stderr",
     "output_type": "stream",
     "text": [
      "The attention mask and the pad token id were not set. As a consequence, you may observe unexpected behavior. Please pass your input's `attention_mask` to obtain reliable results.\n",
      "Setting `pad_token_id` to `eos_token_id`:50256 for open-end generation.\n"
     ]
    },
    {
     "name": "stdout",
     "output_type": "stream",
     "text": [
      "Finished: row 153 of 500\n",
      "{'ID': 153, 'Username': 'cgordon_1956', 'Age': 46, 'Country': 'Germany', 'CreationDate': '06/24/2022 05:53 AM', 'Description': 'The Republican Party is the party of the people, the party of the people', 'FollowerCount': 934, 'PostCount': 0, 'Language': 'GER'}\n"
     ]
    },
    {
     "name": "stderr",
     "output_type": "stream",
     "text": [
      "The attention mask and the pad token id were not set. As a consequence, you may observe unexpected behavior. Please pass your input's `attention_mask` to obtain reliable results.\n",
      "Setting `pad_token_id` to `eos_token_id`:50256 for open-end generation.\n"
     ]
    },
    {
     "name": "stdout",
     "output_type": "stream",
     "text": [
      "Finished: row 154 of 500\n",
      "{'ID': 154, 'Username': 'levi35_1952', 'Age': 32, 'Country': 'UK', 'CreationDate': '06/19/2011 06:46 AM', 'Description': \"The author is a retired veterinarian. He has a bachelor's degree in animal\", 'FollowerCount': 5538, 'PostCount': 28, 'Language': 'ENG'}\n"
     ]
    },
    {
     "name": "stderr",
     "output_type": "stream",
     "text": [
      "The attention mask and the pad token id were not set. As a consequence, you may observe unexpected behavior. Please pass your input's `attention_mask` to obtain reliable results.\n",
      "Setting `pad_token_id` to `eos_token_id`:50256 for open-end generation.\n"
     ]
    },
    {
     "name": "stdout",
     "output_type": "stream",
     "text": [
      "Finished: row 155 of 500\n",
      "{'ID': 155, 'Username': 'steven53_1971', 'Age': 66, 'Country': '', 'CreationDate': '05/23/2023 02:19 PM', 'Description': 'The author is a writer, a gamer, and a cat lover.', 'FollowerCount': 274, 'PostCount': 3, 'Language': 'ENG'}\n"
     ]
    },
    {
     "name": "stderr",
     "output_type": "stream",
     "text": [
      "The attention mask and the pad token id were not set. As a consequence, you may observe unexpected behavior. Please pass your input's `attention_mask` to obtain reliable results.\n",
      "Setting `pad_token_id` to `eos_token_id`:50256 for open-end generation.\n"
     ]
    },
    {
     "name": "stdout",
     "output_type": "stream",
     "text": [
      "Finished: row 156 of 500\n",
      "{'ID': 156, 'Username': '1990_nicholas41', 'Age': 100, 'Country': 'Russia', 'CreationDate': '11/17/2019 11:19 AM', 'Description': 'The first ever World Cup in the history of the sport of football. The', 'FollowerCount': 1882, 'PostCount': 4, 'Language': 'RUS'}\n"
     ]
    },
    {
     "name": "stderr",
     "output_type": "stream",
     "text": [
      "The attention mask and the pad token id were not set. As a consequence, you may observe unexpected behavior. Please pass your input's `attention_mask` to obtain reliable results.\n",
      "Setting `pad_token_id` to `eos_token_id`:50256 for open-end generation.\n"
     ]
    },
    {
     "name": "stdout",
     "output_type": "stream",
     "text": [
      "Finished: row 157 of 500\n",
      "{'ID': 157, 'Username': 'jamierodgers', 'Age': 49, 'Country': 'Japan', 'CreationDate': '02/20/2013 11:22 AM', 'Description': \"The image of the athlete is the most important part of the athlete's life\", 'FollowerCount': 493, 'PostCount': 19, 'Language': 'JAP'}\n"
     ]
    },
    {
     "name": "stderr",
     "output_type": "stream",
     "text": [
      "The attention mask and the pad token id were not set. As a consequence, you may observe unexpected behavior. Please pass your input's `attention_mask` to obtain reliable results.\n",
      "Setting `pad_token_id` to `eos_token_id`:50256 for open-end generation.\n"
     ]
    },
    {
     "name": "stdout",
     "output_type": "stream",
     "text": [
      "Finished: row 158 of 500\n",
      "{'ID': 158, 'Username': 'brian94_1951', 'Age': 44, 'Country': 'UK', 'CreationDate': '01/27/2017 01:46 PM', 'Description': \"I'm a gamer, and I'm also a gamer's wife\", 'FollowerCount': 5491, 'PostCount': 8, 'Language': 'ENG'}\n"
     ]
    },
    {
     "name": "stderr",
     "output_type": "stream",
     "text": [
      "The attention mask and the pad token id were not set. As a consequence, you may observe unexpected behavior. Please pass your input's `attention_mask` to obtain reliable results.\n",
      "Setting `pad_token_id` to `eos_token_id`:50256 for open-end generation.\n"
     ]
    },
    {
     "name": "stdout",
     "output_type": "stream",
     "text": [
      "Finished: row 159 of 500\n",
      "{'ID': 159, 'Username': 'thomasbell', 'Age': '', 'Country': '', 'CreationDate': '05/12/2017 06:22 AM', 'Description': \"The first of the new series of books on the history of the world's\", 'FollowerCount': 2790, 'PostCount': 2, 'Language': 'MAN'}\n"
     ]
    },
    {
     "name": "stderr",
     "output_type": "stream",
     "text": [
      "The attention mask and the pad token id were not set. As a consequence, you may observe unexpected behavior. Please pass your input's `attention_mask` to obtain reliable results.\n",
      "Setting `pad_token_id` to `eos_token_id`:50256 for open-end generation.\n"
     ]
    },
    {
     "name": "stdout",
     "output_type": "stream",
     "text": [
      "Finished: row 160 of 500\n",
      "{'ID': 160, 'Username': '1972_hallanthony', 'Age': 17, 'Country': 'France', 'CreationDate': '04/08/2023 04:34 AM', 'Description': 'The Hall of Fame is a new hall of fame for the best athletes in', 'FollowerCount': 92, 'PostCount': 1, 'Language': 'NED'}\n"
     ]
    },
    {
     "name": "stderr",
     "output_type": "stream",
     "text": [
      "The attention mask and the pad token id were not set. As a consequence, you may observe unexpected behavior. Please pass your input's `attention_mask` to obtain reliable results.\n",
      "Setting `pad_token_id` to `eos_token_id`:50256 for open-end generation.\n"
     ]
    },
    {
     "name": "stdout",
     "output_type": "stream",
     "text": [
      "Finished: row 161 of 500\n",
      "{'ID': 161, 'Username': '1990_jonesjohn', 'Age': 56, 'Country': 'Japan', 'CreationDate': '08/28/2023 03:27 AM', 'Description': 'The Republican Party is the party of the people, the party of the people', 'FollowerCount': 403, 'PostCount': 2, 'Language': 'JAP'}\n"
     ]
    },
    {
     "name": "stderr",
     "output_type": "stream",
     "text": [
      "The attention mask and the pad token id were not set. As a consequence, you may observe unexpected behavior. Please pass your input's `attention_mask` to obtain reliable results.\n",
      "Setting `pad_token_id` to `eos_token_id`:50256 for open-end generation.\n"
     ]
    },
    {
     "name": "stdout",
     "output_type": "stream",
     "text": [
      "Finished: row 162 of 500\n",
      "{'ID': 162, 'Username': 'veronica26', 'Age': 68, 'Country': 'Germany', 'CreationDate': '07/20/2009 06:10 PM', 'Description': 'The first ever female president of the United States, and the first woman to', 'FollowerCount': 4089, 'PostCount': 117, 'Language': 'GER'}\n"
     ]
    },
    {
     "name": "stderr",
     "output_type": "stream",
     "text": [
      "The attention mask and the pad token id were not set. As a consequence, you may observe unexpected behavior. Please pass your input's `attention_mask` to obtain reliable results.\n",
      "Setting `pad_token_id` to `eos_token_id`:50256 for open-end generation.\n"
     ]
    },
    {
     "name": "stdout",
     "output_type": "stream",
     "text": [
      "Finished: row 163 of 500\n",
      "{'ID': 163, 'Username': 'alexanderreynolds', 'Age': 25, 'Country': 'USA', 'CreationDate': '12/24/2018 11:29 AM', 'Description': 'The author is a professional photographer, specializing in portraits, fashion,', 'FollowerCount': 4306, 'PostCount': 1, 'Language': 'ENG'}\n"
     ]
    },
    {
     "name": "stderr",
     "output_type": "stream",
     "text": [
      "The attention mask and the pad token id were not set. As a consequence, you may observe unexpected behavior. Please pass your input's `attention_mask` to obtain reliable results.\n",
      "Setting `pad_token_id` to `eos_token_id`:50256 for open-end generation.\n"
     ]
    },
    {
     "name": "stdout",
     "output_type": "stream",
     "text": [
      "Finished: row 164 of 500\n",
      "{'ID': 164, 'Username': 'olivia91_1968', 'Age': 31, 'Country': 'Japan', 'CreationDate': '08/14/2016 04:19 AM', 'Description': 'The Republican Party is the political party of the United States of America. The', 'FollowerCount': 92, 'PostCount': 18, 'Language': 'ENG'}\n"
     ]
    },
    {
     "name": "stderr",
     "output_type": "stream",
     "text": [
      "The attention mask and the pad token id were not set. As a consequence, you may observe unexpected behavior. Please pass your input's `attention_mask` to obtain reliable results.\n",
      "Setting `pad_token_id` to `eos_token_id`:50256 for open-end generation.\n"
     ]
    },
    {
     "name": "stdout",
     "output_type": "stream",
     "text": [
      "Finished: row 165 of 500\n",
      "{'ID': 165, 'Username': 'douglas14', 'Age': 22, 'Country': 'USA', 'CreationDate': '05/05/2020 01:37 AM', 'Description': 'I am a photographer, I love to travel, I love to take pictures', 'FollowerCount': 10, 'PostCount': 1, 'Language': 'NED'}\n"
     ]
    },
    {
     "name": "stderr",
     "output_type": "stream",
     "text": [
      "The attention mask and the pad token id were not set. As a consequence, you may observe unexpected behavior. Please pass your input's `attention_mask` to obtain reliable results.\n",
      "Setting `pad_token_id` to `eos_token_id`:50256 for open-end generation.\n"
     ]
    },
    {
     "name": "stdout",
     "output_type": "stream",
     "text": [
      "Finished: row 166 of 500\n",
      "{'ID': 166, 'Username': 'dakota04_1994', 'Age': 38, 'Country': 'Netherlands', 'CreationDate': '01/23/2018 12:11 AM', 'Description': 'The first ever “Dakota” event was held', 'FollowerCount': 7525, 'PostCount': 8, 'Language': 'NED'}\n"
     ]
    },
    {
     "name": "stderr",
     "output_type": "stream",
     "text": [
      "The attention mask and the pad token id were not set. As a consequence, you may observe unexpected behavior. Please pass your input's `attention_mask` to obtain reliable results.\n",
      "Setting `pad_token_id` to `eos_token_id`:50256 for open-end generation.\n"
     ]
    },
    {
     "name": "stdout",
     "output_type": "stream",
     "text": [
      "Finished: row 167 of 500\n",
      "{'ID': 167, 'Username': 'burkekeith', 'Age': '', 'Country': 'USA', 'CreationDate': '08/12/2017 12:05 PM', 'Description': 'The Republican Party is the party of the people. It is the party of', 'FollowerCount': 4811, 'PostCount': 34, 'Language': 'RUS'}\n"
     ]
    },
    {
     "name": "stderr",
     "output_type": "stream",
     "text": [
      "The attention mask and the pad token id were not set. As a consequence, you may observe unexpected behavior. Please pass your input's `attention_mask` to obtain reliable results.\n",
      "Setting `pad_token_id` to `eos_token_id`:50256 for open-end generation.\n"
     ]
    },
    {
     "name": "stdout",
     "output_type": "stream",
     "text": [
      "Finished: row 168 of 500\n",
      "{'ID': 168, 'Username': 'davidrowland', 'Age': 51, 'Country': '', 'CreationDate': '06/27/2015 10:26 AM', 'Description': 'The former England and Wales Cricket captain, David Rowe, has been appointed as', 'FollowerCount': 4141, 'PostCount': 62, 'Language': 'ENG'}\n"
     ]
    },
    {
     "name": "stderr",
     "output_type": "stream",
     "text": [
      "The attention mask and the pad token id were not set. As a consequence, you may observe unexpected behavior. Please pass your input's `attention_mask` to obtain reliable results.\n",
      "Setting `pad_token_id` to `eos_token_id`:50256 for open-end generation.\n"
     ]
    },
    {
     "name": "stdout",
     "output_type": "stream",
     "text": [
      "Finished: row 169 of 500\n",
      "{'ID': 169, 'Username': '1971_victoriagibbs', 'Age': 26, 'Country': 'Japan', 'CreationDate': '11/01/2018 01:49 AM', 'Description': 'The fun and excitement of the event is what makes it so special. The', 'FollowerCount': 7890, 'PostCount': 26, 'Language': 'GER'}\n"
     ]
    },
    {
     "name": "stderr",
     "output_type": "stream",
     "text": [
      "The attention mask and the pad token id were not set. As a consequence, you may observe unexpected behavior. Please pass your input's `attention_mask` to obtain reliable results.\n",
      "Setting `pad_token_id` to `eos_token_id`:50256 for open-end generation.\n"
     ]
    },
    {
     "name": "stdout",
     "output_type": "stream",
     "text": [
      "Finished: row 170 of 500\n",
      "{'ID': 170, 'Username': '1960_obrienandrew', 'Age': '', 'Country': 'USA', 'CreationDate': '08/12/2009 02:44 PM', 'Description': 'The Obamas are the first family to have a White House residence. They', 'FollowerCount': 6540, 'PostCount': 11, 'Language': 'ENG'}\n"
     ]
    },
    {
     "name": "stderr",
     "output_type": "stream",
     "text": [
      "The attention mask and the pad token id were not set. As a consequence, you may observe unexpected behavior. Please pass your input's `attention_mask` to obtain reliable results.\n",
      "Setting `pad_token_id` to `eos_token_id`:50256 for open-end generation.\n"
     ]
    },
    {
     "name": "stdout",
     "output_type": "stream",
     "text": [
      "Finished: row 171 of 500\n",
      "{'ID': 171, 'Username': '1967_karen88', 'Age': 32, 'Country': 'Russia', 'CreationDate': '04/18/2023 03:05 PM', 'Description': 'Karen is a very nice, friendly, and very intelligent girl. She is', 'FollowerCount': 756, 'PostCount': 0, 'Language': 'RUS'}\n"
     ]
    },
    {
     "name": "stderr",
     "output_type": "stream",
     "text": [
      "The attention mask and the pad token id were not set. As a consequence, you may observe unexpected behavior. Please pass your input's `attention_mask` to obtain reliable results.\n",
      "Setting `pad_token_id` to `eos_token_id`:50256 for open-end generation.\n"
     ]
    },
    {
     "name": "stdout",
     "output_type": "stream",
     "text": [
      "Finished: row 172 of 500\n",
      "{'ID': 172, 'Username': '1984_robert51', 'Age': '', 'Country': 'Germany', 'CreationDate': '10/05/2016 03:53 AM', 'Description': 'Robert is a successful entrepreneur and business owner. He is a successful entrepreneur and', 'FollowerCount': 2101, 'PostCount': 21, 'Language': 'GER'}\n"
     ]
    },
    {
     "name": "stderr",
     "output_type": "stream",
     "text": [
      "The attention mask and the pad token id were not set. As a consequence, you may observe unexpected behavior. Please pass your input's `attention_mask` to obtain reliable results.\n",
      "Setting `pad_token_id` to `eos_token_id`:50256 for open-end generation.\n"
     ]
    },
    {
     "name": "stdout",
     "output_type": "stream",
     "text": [
      "Finished: row 173 of 500\n",
      "{'ID': 173, 'Username': 'oosborn_1975', 'Age': 30, 'Country': 'Germany', 'CreationDate': '02/29/2020 10:16 AM', 'Description': 'The president of the United States has been accused of using his office to pressure', 'FollowerCount': 51, 'PostCount': 27833, 'Language': 'ENG'}\n"
     ]
    },
    {
     "name": "stderr",
     "output_type": "stream",
     "text": [
      "The attention mask and the pad token id were not set. As a consequence, you may observe unexpected behavior. Please pass your input's `attention_mask` to obtain reliable results.\n",
      "Setting `pad_token_id` to `eos_token_id`:50256 for open-end generation.\n"
     ]
    },
    {
     "name": "stdout",
     "output_type": "stream",
     "text": [
      "Finished: row 174 of 500\n",
      "{'ID': 174, 'Username': '1985_allendonald', 'Age': 27, 'Country': 'France', 'CreationDate': '10/19/2023 11:37 AM', 'Description': 'The Republican Party is the party of the people, the party of the', 'FollowerCount': 296, 'PostCount': 0, 'Language': 'ENG'}\n"
     ]
    },
    {
     "name": "stderr",
     "output_type": "stream",
     "text": [
      "The attention mask and the pad token id were not set. As a consequence, you may observe unexpected behavior. Please pass your input's `attention_mask` to obtain reliable results.\n",
      "Setting `pad_token_id` to `eos_token_id`:50256 for open-end generation.\n"
     ]
    },
    {
     "name": "stdout",
     "output_type": "stream",
     "text": [
      "Finished: row 175 of 500\n",
      "{'ID': 175, 'Username': 'benjamin54_1992', 'Age': 20, 'Country': 'Italy', 'CreationDate': '11/17/2008 05:52 AM', 'Description': 'The game of chess is a game of strategy, and the game of', 'FollowerCount': 3758, 'PostCount': 15, 'Language': 'ITA'}\n"
     ]
    },
    {
     "name": "stderr",
     "output_type": "stream",
     "text": [
      "The attention mask and the pad token id were not set. As a consequence, you may observe unexpected behavior. Please pass your input's `attention_mask` to obtain reliable results.\n",
      "Setting `pad_token_id` to `eos_token_id`:50256 for open-end generation.\n"
     ]
    },
    {
     "name": "stdout",
     "output_type": "stream",
     "text": [
      "Finished: row 176 of 500\n",
      "{'ID': 176, 'Username': '1983_davidnelson', 'Age': 19, 'Country': '', 'CreationDate': '04/13/2009 07:37 AM', 'Description': 'The first of the two-part series, The Politics of the', 'FollowerCount': 11543, 'PostCount': 2, 'Language': 'ITA'}\n"
     ]
    },
    {
     "name": "stderr",
     "output_type": "stream",
     "text": [
      "The attention mask and the pad token id were not set. As a consequence, you may observe unexpected behavior. Please pass your input's `attention_mask` to obtain reliable results.\n",
      "Setting `pad_token_id` to `eos_token_id`:50256 for open-end generation.\n"
     ]
    },
    {
     "name": "stdout",
     "output_type": "stream",
     "text": [
      "Finished: row 177 of 500\n",
      "{'ID': 177, 'Username': '1976_crystal23', 'Age': 22, 'Country': 'Italy', 'CreationDate': '06/23/2020 12:31 AM', 'Description': 'The following is a short profile of the author, who is a member', 'FollowerCount': 147, 'PostCount': 8515, 'Language': 'ITA'}\n"
     ]
    },
    {
     "name": "stderr",
     "output_type": "stream",
     "text": [
      "The attention mask and the pad token id were not set. As a consequence, you may observe unexpected behavior. Please pass your input's `attention_mask` to obtain reliable results.\n",
      "Setting `pad_token_id` to `eos_token_id`:50256 for open-end generation.\n"
     ]
    },
    {
     "name": "stdout",
     "output_type": "stream",
     "text": [
      "Finished: row 178 of 500\n",
      "{'ID': 178, 'Username': '1950_cisnerospamela', 'Age': 66, 'Country': 'Germany', 'CreationDate': '10/27/2016 02:52 AM', 'Description': 'The first of the two-part series on the life and work of', 'FollowerCount': 8318, 'PostCount': 35, 'Language': 'GER'}\n"
     ]
    },
    {
     "name": "stderr",
     "output_type": "stream",
     "text": [
      "The attention mask and the pad token id were not set. As a consequence, you may observe unexpected behavior. Please pass your input's `attention_mask` to obtain reliable results.\n",
      "Setting `pad_token_id` to `eos_token_id`:50256 for open-end generation.\n"
     ]
    },
    {
     "name": "stdout",
     "output_type": "stream",
     "text": [
      "Finished: row 179 of 500\n",
      "{'ID': 179, 'Username': 'steven87', 'Age': '', 'Country': 'Japan', 'CreationDate': '11/27/2018 11:02 PM', 'Description': \"'I am a very happy and cheerful person. I am very friendly and\", 'FollowerCount': 2478, 'PostCount': 15, 'Language': 'GER'}\n"
     ]
    },
    {
     "name": "stderr",
     "output_type": "stream",
     "text": [
      "The attention mask and the pad token id were not set. As a consequence, you may observe unexpected behavior. Please pass your input's `attention_mask` to obtain reliable results.\n",
      "Setting `pad_token_id` to `eos_token_id`:50256 for open-end generation.\n"
     ]
    },
    {
     "name": "stdout",
     "output_type": "stream",
     "text": [
      "Finished: row 180 of 500\n",
      "{'ID': 180, 'Username': '1962_halejames', 'Age': 85, 'Country': 'UK', 'CreationDate': '02/02/2019 03:24 AM', 'Description': 'The author is a professor of political science at the University of California, Berkeley', 'FollowerCount': 8454, 'PostCount': 3, 'Language': 'ENG'}\n"
     ]
    },
    {
     "name": "stderr",
     "output_type": "stream",
     "text": [
      "The attention mask and the pad token id were not set. As a consequence, you may observe unexpected behavior. Please pass your input's `attention_mask` to obtain reliable results.\n",
      "Setting `pad_token_id` to `eos_token_id`:50256 for open-end generation.\n"
     ]
    },
    {
     "name": "stdout",
     "output_type": "stream",
     "text": [
      "Finished: row 181 of 500\n",
      "{'ID': 181, 'Username': '2004_harrisjoshua', 'Age': 23, 'Country': 'USA', 'CreationDate': '01/18/2010 02:49 AM', 'Description': 'The author is a writer, editor, and game designer. He is', 'FollowerCount': 6068, 'PostCount': 27, 'Language': 'ENG'}\n"
     ]
    },
    {
     "name": "stderr",
     "output_type": "stream",
     "text": [
      "The attention mask and the pad token id were not set. As a consequence, you may observe unexpected behavior. Please pass your input's `attention_mask` to obtain reliable results.\n",
      "Setting `pad_token_id` to `eos_token_id`:50256 for open-end generation.\n"
     ]
    },
    {
     "name": "stdout",
     "output_type": "stream",
     "text": [
      "Finished: row 182 of 500\n",
      "{'ID': 182, 'Username': 'meganmyers', 'Age': 33, 'Country': 'Netherlands', 'CreationDate': '05/17/2015 06:12 AM', 'Description': 'Megan Myers is a writer and editor who has worked for the New York Times', 'FollowerCount': 12391, 'PostCount': 23, 'Language': 'NED'}\n"
     ]
    },
    {
     "name": "stderr",
     "output_type": "stream",
     "text": [
      "The attention mask and the pad token id were not set. As a consequence, you may observe unexpected behavior. Please pass your input's `attention_mask` to obtain reliable results.\n",
      "Setting `pad_token_id` to `eos_token_id`:50256 for open-end generation.\n"
     ]
    },
    {
     "name": "stdout",
     "output_type": "stream",
     "text": [
      "Finished: row 183 of 500\n",
      "{'ID': 183, 'Username': 'debbielawrence', 'Age': 17, 'Country': 'China', 'CreationDate': '11/23/2021 02:12 AM', 'Description': 'I am a professional photographer and I love to travel. I love to travel', 'FollowerCount': 5033, 'PostCount': 12, 'Language': 'MAN'}\n"
     ]
    },
    {
     "name": "stderr",
     "output_type": "stream",
     "text": [
      "The attention mask and the pad token id were not set. As a consequence, you may observe unexpected behavior. Please pass your input's `attention_mask` to obtain reliable results.\n",
      "Setting `pad_token_id` to `eos_token_id`:50256 for open-end generation.\n"
     ]
    },
    {
     "name": "stdout",
     "output_type": "stream",
     "text": [
      "Finished: row 184 of 500\n",
      "{'ID': 184, 'Username': 'barbercolleen', 'Age': 21, 'Country': 'UK', 'CreationDate': '09/19/2015 07:57 AM', 'Description': 'The first ever event for the new year is coming up in the beautiful city', 'FollowerCount': 2978, 'PostCount': 4, 'Language': 'ENG'}\n"
     ]
    },
    {
     "name": "stderr",
     "output_type": "stream",
     "text": [
      "The attention mask and the pad token id were not set. As a consequence, you may observe unexpected behavior. Please pass your input's `attention_mask` to obtain reliable results.\n",
      "Setting `pad_token_id` to `eos_token_id`:50256 for open-end generation.\n"
     ]
    },
    {
     "name": "stdout",
     "output_type": "stream",
     "text": [
      "Finished: row 185 of 500\n",
      "{'ID': 185, 'Username': 'ewingkathleen', 'Age': '', 'Country': 'Russia', 'CreationDate': '01/07/2013 02:55 PM', 'Description': 'The game is a game of skill, and the player is the master of', 'FollowerCount': 12998, 'PostCount': 24, 'Language': 'FRE'}\n"
     ]
    },
    {
     "name": "stderr",
     "output_type": "stream",
     "text": [
      "The attention mask and the pad token id were not set. As a consequence, you may observe unexpected behavior. Please pass your input's `attention_mask` to obtain reliable results.\n",
      "Setting `pad_token_id` to `eos_token_id`:50256 for open-end generation.\n"
     ]
    },
    {
     "name": "stdout",
     "output_type": "stream",
     "text": [
      "Finished: row 186 of 500\n",
      "{'ID': 186, 'Username': 'timothy31_1951', 'Age': 69, 'Country': 'Netherlands', 'CreationDate': '02/25/2009 08:26 AM', 'Description': 'The former New York City mayor, who was elected to the U.S', 'FollowerCount': 8773, 'PostCount': 24, 'Language': 'NED'}\n"
     ]
    },
    {
     "name": "stderr",
     "output_type": "stream",
     "text": [
      "The attention mask and the pad token id were not set. As a consequence, you may observe unexpected behavior. Please pass your input's `attention_mask` to obtain reliable results.\n",
      "Setting `pad_token_id` to `eos_token_id`:50256 for open-end generation.\n"
     ]
    },
    {
     "name": "stdout",
     "output_type": "stream",
     "text": [
      "Finished: row 187 of 500\n",
      "{'ID': 187, 'Username': 'mhensley', 'Age': 62, 'Country': 'France', 'CreationDate': '11/22/2016 12:29 PM', 'Description': 'The author is a freelance writer and photographer. He has been a professional photographer', 'FollowerCount': 3534, 'PostCount': 47, 'Language': 'JAP'}\n"
     ]
    },
    {
     "name": "stderr",
     "output_type": "stream",
     "text": [
      "The attention mask and the pad token id were not set. As a consequence, you may observe unexpected behavior. Please pass your input's `attention_mask` to obtain reliable results.\n",
      "Setting `pad_token_id` to `eos_token_id`:50256 for open-end generation.\n"
     ]
    },
    {
     "name": "stdout",
     "output_type": "stream",
     "text": [
      "Finished: row 188 of 500\n",
      "{'ID': 188, 'Username': '1959_udixon', 'Age': 34, 'Country': 'France', 'CreationDate': '11/03/2009 05:24 AM', 'Description': 'The first ever U.S. presidential debate between the two candidates,', 'FollowerCount': 1561, 'PostCount': 18, 'Language': 'NED'}\n"
     ]
    },
    {
     "name": "stderr",
     "output_type": "stream",
     "text": [
      "The attention mask and the pad token id were not set. As a consequence, you may observe unexpected behavior. Please pass your input's `attention_mask` to obtain reliable results.\n",
      "Setting `pad_token_id` to `eos_token_id`:50256 for open-end generation.\n"
     ]
    },
    {
     "name": "stdout",
     "output_type": "stream",
     "text": [
      "Finished: row 189 of 500\n",
      "{'ID': 189, 'Username': '1979_hbest', 'Age': '', 'Country': 'USA', 'CreationDate': '09/10/2011 02:18 AM', 'Description': 'I am a senior at the University of Illinois, majoring in English.', 'FollowerCount': 196, 'PostCount': 28, 'Language': 'ENG'}\n"
     ]
    },
    {
     "name": "stderr",
     "output_type": "stream",
     "text": [
      "The attention mask and the pad token id were not set. As a consequence, you may observe unexpected behavior. Please pass your input's `attention_mask` to obtain reliable results.\n",
      "Setting `pad_token_id` to `eos_token_id`:50256 for open-end generation.\n"
     ]
    },
    {
     "name": "stdout",
     "output_type": "stream",
     "text": [
      "Finished: row 190 of 500\n",
      "{'ID': 190, 'Username': 'amygordon', 'Age': 35, 'Country': 'Germany', 'CreationDate': '03/16/2023 02:42 PM', 'Description': 'The event is a great opportunity to meet new people and to get to know', 'FollowerCount': 8, 'PostCount': 5, 'Language': 'GER'}\n"
     ]
    },
    {
     "name": "stderr",
     "output_type": "stream",
     "text": [
      "The attention mask and the pad token id were not set. As a consequence, you may observe unexpected behavior. Please pass your input's `attention_mask` to obtain reliable results.\n",
      "Setting `pad_token_id` to `eos_token_id`:50256 for open-end generation.\n"
     ]
    },
    {
     "name": "stdout",
     "output_type": "stream",
     "text": [
      "Finished: row 191 of 500\n",
      "{'ID': 191, 'Username': 'herreraeric', 'Age': 37, 'Country': 'Netherlands', 'CreationDate': '07/28/2010 09:58 AM', 'Description': \"The first ever women's football team in the world, the Spanish women's\", 'FollowerCount': 7204, 'PostCount': 4, 'Language': 'NED'}\n"
     ]
    },
    {
     "name": "stderr",
     "output_type": "stream",
     "text": [
      "The attention mask and the pad token id were not set. As a consequence, you may observe unexpected behavior. Please pass your input's `attention_mask` to obtain reliable results.\n",
      "Setting `pad_token_id` to `eos_token_id`:50256 for open-end generation.\n"
     ]
    },
    {
     "name": "stdout",
     "output_type": "stream",
     "text": [
      "Finished: row 192 of 500\n",
      "{'ID': 192, 'Username': 'jacqueline78', 'Age': 21, 'Country': 'Russia', 'CreationDate': '06/13/2014 02:50 AM', 'Description': \"I'm a girl who loves to play games, and I love\", 'FollowerCount': 7054, 'PostCount': 37, 'Language': 'RUS'}\n"
     ]
    },
    {
     "name": "stderr",
     "output_type": "stream",
     "text": [
      "The attention mask and the pad token id were not set. As a consequence, you may observe unexpected behavior. Please pass your input's `attention_mask` to obtain reliable results.\n",
      "Setting `pad_token_id` to `eos_token_id`:50256 for open-end generation.\n"
     ]
    },
    {
     "name": "stdout",
     "output_type": "stream",
     "text": [
      "Finished: row 193 of 500\n",
      "{'ID': 193, 'Username': 'espinozakevin', 'Age': 28, 'Country': 'Italy', 'CreationDate': '06/07/2012 06:19 AM', 'Description': 'The author is a professor of political science at the University of California,', 'FollowerCount': 8145, 'PostCount': 35, 'Language': 'ITA'}\n"
     ]
    },
    {
     "name": "stderr",
     "output_type": "stream",
     "text": [
      "The attention mask and the pad token id were not set. As a consequence, you may observe unexpected behavior. Please pass your input's `attention_mask` to obtain reliable results.\n",
      "Setting `pad_token_id` to `eos_token_id`:50256 for open-end generation.\n"
     ]
    },
    {
     "name": "stdout",
     "output_type": "stream",
     "text": [
      "Finished: row 194 of 500\n",
      "{'ID': 194, 'Username': 'msmith', 'Age': 43, 'Country': 'Russia', 'CreationDate': '11/03/2023 05:05 AM', 'Description': 'The first of the new generation of the new generation of the new generation of', 'FollowerCount': 136, 'PostCount': 0, 'Language': 'RUS'}\n"
     ]
    },
    {
     "name": "stderr",
     "output_type": "stream",
     "text": [
      "The attention mask and the pad token id were not set. As a consequence, you may observe unexpected behavior. Please pass your input's `attention_mask` to obtain reliable results.\n",
      "Setting `pad_token_id` to `eos_token_id`:50256 for open-end generation.\n"
     ]
    },
    {
     "name": "stdout",
     "output_type": "stream",
     "text": [
      "Finished: row 195 of 500\n",
      "{'ID': 195, 'Username': 'charlesgrant_1952', 'Age': 21, 'Country': 'Netherlands', 'CreationDate': '11/03/2013 06:44 PM', 'Description': 'The first meeting of the new British Labour Party was held in the House of', 'FollowerCount': 15528, 'PostCount': 26, 'Language': 'NED'}\n"
     ]
    },
    {
     "name": "stderr",
     "output_type": "stream",
     "text": [
      "The attention mask and the pad token id were not set. As a consequence, you may observe unexpected behavior. Please pass your input's `attention_mask` to obtain reliable results.\n",
      "Setting `pad_token_id` to `eos_token_id`:50256 for open-end generation.\n"
     ]
    },
    {
     "name": "stdout",
     "output_type": "stream",
     "text": [
      "Finished: row 196 of 500\n",
      "{'ID': 196, 'Username': 'debrabrooks', 'Age': 39, 'Country': 'Russia', 'CreationDate': '03/21/2021 06:19 PM', 'Description': 'The first of the two new buildings on the site of the old St', 'FollowerCount': 2177, 'PostCount': 5, 'Language': 'RUS'}\n"
     ]
    },
    {
     "name": "stderr",
     "output_type": "stream",
     "text": [
      "The attention mask and the pad token id were not set. As a consequence, you may observe unexpected behavior. Please pass your input's `attention_mask` to obtain reliable results.\n",
      "Setting `pad_token_id` to `eos_token_id`:50256 for open-end generation.\n"
     ]
    },
    {
     "name": "stdout",
     "output_type": "stream",
     "text": [
      "Finished: row 197 of 500\n",
      "{'ID': 197, 'Username': '1981_timgilbert', 'Age': 64, 'Country': 'Japan', 'CreationDate': '04/24/2014 02:12 AM', 'Description': 'The T-shirt is a classic design that has been worn by many', 'FollowerCount': 1741, 'PostCount': 94, 'Language': 'FRE'}\n"
     ]
    },
    {
     "name": "stderr",
     "output_type": "stream",
     "text": [
      "The attention mask and the pad token id were not set. As a consequence, you may observe unexpected behavior. Please pass your input's `attention_mask` to obtain reliable results.\n",
      "Setting `pad_token_id` to `eos_token_id`:50256 for open-end generation.\n"
     ]
    },
    {
     "name": "stdout",
     "output_type": "stream",
     "text": [
      "Finished: row 198 of 500\n",
      "{'ID': 198, 'Username': 'jacob08_1991', 'Age': '', 'Country': 'UK', 'CreationDate': '01/14/2010 01:29 AM', 'Description': 'I am a full time student in the field of computer science.', 'FollowerCount': 17837, 'PostCount': 10, 'Language': 'RUS'}\n"
     ]
    },
    {
     "name": "stderr",
     "output_type": "stream",
     "text": [
      "The attention mask and the pad token id were not set. As a consequence, you may observe unexpected behavior. Please pass your input's `attention_mask` to obtain reliable results.\n",
      "Setting `pad_token_id` to `eos_token_id`:50256 for open-end generation.\n"
     ]
    },
    {
     "name": "stdout",
     "output_type": "stream",
     "text": [
      "Finished: row 199 of 500\n",
      "{'ID': 199, 'Username': 'teresawilliams', 'Age': 20, 'Country': 'China', 'CreationDate': '12/28/2022 12:33 PM', 'Description': 'The event will be held at the beautiful and historic Hotel & Spa in the', 'FollowerCount': 62, 'PostCount': 1, 'Language': 'MAN'}\n"
     ]
    },
    {
     "name": "stderr",
     "output_type": "stream",
     "text": [
      "The attention mask and the pad token id were not set. As a consequence, you may observe unexpected behavior. Please pass your input's `attention_mask` to obtain reliable results.\n",
      "Setting `pad_token_id` to `eos_token_id`:50256 for open-end generation.\n"
     ]
    },
    {
     "name": "stdout",
     "output_type": "stream",
     "text": [
      "Finished: row 200 of 500\n",
      "{'ID': 200, 'Username': 'nkrueger', 'Age': 20, 'Country': 'USA', 'CreationDate': '11/11/2020 04:55 PM', 'Description': 'The author is a freelance writer and a travel writer. He has been writing', 'FollowerCount': 6284, 'PostCount': 19, 'Language': 'NED'}\n"
     ]
    },
    {
     "name": "stderr",
     "output_type": "stream",
     "text": [
      "The attention mask and the pad token id were not set. As a consequence, you may observe unexpected behavior. Please pass your input's `attention_mask` to obtain reliable results.\n",
      "Setting `pad_token_id` to `eos_token_id`:50256 for open-end generation.\n"
     ]
    },
    {
     "name": "stdout",
     "output_type": "stream",
     "text": [
      "Finished: row 201 of 500\n",
      "{'ID': 201, 'Username': 'briansolis_1955', 'Age': 21, 'Country': 'Italy', 'CreationDate': '08/25/2013 11:43 AM', 'Description': 'The game of poker is a game of skill, and the best players are', 'FollowerCount': 13240, 'PostCount': 17, 'Language': 'ENG'}\n"
     ]
    },
    {
     "name": "stderr",
     "output_type": "stream",
     "text": [
      "The attention mask and the pad token id were not set. As a consequence, you may observe unexpected behavior. Please pass your input's `attention_mask` to obtain reliable results.\n",
      "Setting `pad_token_id` to `eos_token_id`:50256 for open-end generation.\n"
     ]
    },
    {
     "name": "stdout",
     "output_type": "stream",
     "text": [
      "Finished: row 202 of 500\n",
      "{'ID': 202, 'Username': 'wallen', 'Age': 23, 'Country': 'USA', 'CreationDate': '08/10/2010 01:50 PM', 'Description': 'The event is about the history of the city of Amsterdam, the Netherlands.', 'FollowerCount': 6418, 'PostCount': 29, 'Language': 'ENG'}\n"
     ]
    },
    {
     "name": "stderr",
     "output_type": "stream",
     "text": [
      "The attention mask and the pad token id were not set. As a consequence, you may observe unexpected behavior. Please pass your input's `attention_mask` to obtain reliable results.\n",
      "Setting `pad_token_id` to `eos_token_id`:50256 for open-end generation.\n"
     ]
    },
    {
     "name": "stdout",
     "output_type": "stream",
     "text": [
      "Finished: row 203 of 500\n",
      "{'ID': 203, 'Username': 'hhill_2002', 'Age': 67, 'Country': 'USA', 'CreationDate': '05/26/2013 11:40 PM', 'Description': 'I am a full time student at the University of Auckland. I', 'FollowerCount': 69, 'PostCount': 23, 'Language': 'ENG'}\n"
     ]
    },
    {
     "name": "stderr",
     "output_type": "stream",
     "text": [
      "The attention mask and the pad token id were not set. As a consequence, you may observe unexpected behavior. Please pass your input's `attention_mask` to obtain reliable results.\n",
      "Setting `pad_token_id` to `eos_token_id`:50256 for open-end generation.\n"
     ]
    },
    {
     "name": "stdout",
     "output_type": "stream",
     "text": [
      "Finished: row 204 of 500\n",
      "{'ID': 204, 'Username': 'perezmark_1966', 'Age': 27, 'Country': 'Japan', 'CreationDate': '06/15/2008 08:49 PM', 'Description': 'The author is a journalist and a writer. He is a member of the', 'FollowerCount': 11195, 'PostCount': 95, 'Language': 'JAP'}\n"
     ]
    },
    {
     "name": "stderr",
     "output_type": "stream",
     "text": [
      "The attention mask and the pad token id were not set. As a consequence, you may observe unexpected behavior. Please pass your input's `attention_mask` to obtain reliable results.\n",
      "Setting `pad_token_id` to `eos_token_id`:50256 for open-end generation.\n"
     ]
    },
    {
     "name": "stdout",
     "output_type": "stream",
     "text": [
      "Finished: row 205 of 500\n",
      "{'ID': 205, 'Username': '1957_athomas', 'Age': '', 'Country': 'France', 'CreationDate': '07/23/2017 05:33 PM', 'Description': 'The Department of Health and Human Services (HHS is the federal agency', 'FollowerCount': 9485, 'PostCount': 1, 'Language': 'FRE'}\n"
     ]
    },
    {
     "name": "stderr",
     "output_type": "stream",
     "text": [
      "The attention mask and the pad token id were not set. As a consequence, you may observe unexpected behavior. Please pass your input's `attention_mask` to obtain reliable results.\n",
      "Setting `pad_token_id` to `eos_token_id`:50256 for open-end generation.\n"
     ]
    },
    {
     "name": "stdout",
     "output_type": "stream",
     "text": [
      "Finished: row 206 of 500\n",
      "{'ID': 206, 'Username': '1992_danielle46', 'Age': 25, 'Country': 'USA', 'CreationDate': '08/02/2022 01:29 AM', 'Description': 'The first ever event for the new generation of gamers, the first ever', 'FollowerCount': 835, 'PostCount': 1, 'Language': 'ENG'}\n"
     ]
    },
    {
     "name": "stderr",
     "output_type": "stream",
     "text": [
      "The attention mask and the pad token id were not set. As a consequence, you may observe unexpected behavior. Please pass your input's `attention_mask` to obtain reliable results.\n",
      "Setting `pad_token_id` to `eos_token_id`:50256 for open-end generation.\n"
     ]
    },
    {
     "name": "stdout",
     "output_type": "stream",
     "text": [
      "Finished: row 207 of 500\n",
      "{'ID': 207, 'Username': 'gary35', 'Age': 56, 'Country': 'Japan', 'CreationDate': '04/30/2013 04:33 AM', 'Description': 'I am a professional photographer and videographer. I have been working in the', 'FollowerCount': 10219, 'PostCount': 57, 'Language': 'JAP'}\n"
     ]
    },
    {
     "name": "stderr",
     "output_type": "stream",
     "text": [
      "The attention mask and the pad token id were not set. As a consequence, you may observe unexpected behavior. Please pass your input's `attention_mask` to obtain reliable results.\n",
      "Setting `pad_token_id` to `eos_token_id`:50256 for open-end generation.\n"
     ]
    },
    {
     "name": "stdout",
     "output_type": "stream",
     "text": [
      "Finished: row 208 of 500\n",
      "{'ID': 208, 'Username': '1955_xhenderson', 'Age': 54, 'Country': 'Japan', 'CreationDate': '12/24/2008 07:35 AM', 'Description': ':, :, :, :, :, :, :, :', 'FollowerCount': 834, 'PostCount': 47, 'Language': 'RUS'}\n"
     ]
    },
    {
     "name": "stderr",
     "output_type": "stream",
     "text": [
      "The attention mask and the pad token id were not set. As a consequence, you may observe unexpected behavior. Please pass your input's `attention_mask` to obtain reliable results.\n",
      "Setting `pad_token_id` to `eos_token_id`:50256 for open-end generation.\n"
     ]
    },
    {
     "name": "stdout",
     "output_type": "stream",
     "text": [
      "Finished: row 209 of 500\n",
      "{'ID': 209, 'Username': '1966_marthajacobs', 'Age': 35, 'Country': 'USA', 'CreationDate': '07/14/2015 10:19 PM', 'Description': 'The job of a manager is to make sure that the company is doing', 'FollowerCount': 12737, 'PostCount': 5, 'Language': 'ENG'}\n"
     ]
    },
    {
     "name": "stderr",
     "output_type": "stream",
     "text": [
      "The attention mask and the pad token id were not set. As a consequence, you may observe unexpected behavior. Please pass your input's `attention_mask` to obtain reliable results.\n",
      "Setting `pad_token_id` to `eos_token_id`:50256 for open-end generation.\n"
     ]
    },
    {
     "name": "stdout",
     "output_type": "stream",
     "text": [
      "Finished: row 210 of 500\n",
      "{'ID': 210, 'Username': 'myersjoseph', 'Age': '', 'Country': 'Germany', 'CreationDate': '07/14/2012 05:11 PM', 'Description': 'I am a professional photographer and travel writer. I have been photographing weddings', 'FollowerCount': 7564, 'PostCount': 8, 'Language': 'GER'}\n"
     ]
    },
    {
     "name": "stderr",
     "output_type": "stream",
     "text": [
      "The attention mask and the pad token id were not set. As a consequence, you may observe unexpected behavior. Please pass your input's `attention_mask` to obtain reliable results.\n",
      "Setting `pad_token_id` to `eos_token_id`:50256 for open-end generation.\n"
     ]
    },
    {
     "name": "stdout",
     "output_type": "stream",
     "text": [
      "Finished: row 211 of 500\n",
      "{'ID': 211, 'Username': 'xnunez', 'Age': 25, 'Country': 'USA', 'CreationDate': '12/26/2009 04:50 PM', 'Description': 'The author is a photographer and a writer. He is a member of the', 'FollowerCount': 28011, 'PostCount': 21, 'Language': 'MAN'}\n"
     ]
    },
    {
     "name": "stderr",
     "output_type": "stream",
     "text": [
      "The attention mask and the pad token id were not set. As a consequence, you may observe unexpected behavior. Please pass your input's `attention_mask` to obtain reliable results.\n",
      "Setting `pad_token_id` to `eos_token_id`:50256 for open-end generation.\n"
     ]
    },
    {
     "name": "stdout",
     "output_type": "stream",
     "text": [
      "Finished: row 212 of 500\n",
      "{'ID': 212, 'Username': '1960_amy93', 'Age': '', 'Country': 'Italy', 'CreationDate': '03/09/2013 12:25 PM', 'Description': 'The company was founded in 1894 and is a leading manufacturer of high-', 'FollowerCount': 6432, 'PostCount': 25, 'Language': 'JAP'}\n"
     ]
    },
    {
     "name": "stderr",
     "output_type": "stream",
     "text": [
      "The attention mask and the pad token id were not set. As a consequence, you may observe unexpected behavior. Please pass your input's `attention_mask` to obtain reliable results.\n",
      "Setting `pad_token_id` to `eos_token_id`:50256 for open-end generation.\n"
     ]
    },
    {
     "name": "stdout",
     "output_type": "stream",
     "text": [
      "Finished: row 213 of 500\n",
      "{'ID': 213, 'Username': 'jenniferelliott_1960', 'Age': 43, 'Country': 'Japan', 'CreationDate': '09/20/2014 04:33 AM', 'Description': 'The author is a zoologist and a professor of zoology at the University', 'FollowerCount': 3436, 'PostCount': 21, 'Language': 'JAP'}\n"
     ]
    },
    {
     "name": "stderr",
     "output_type": "stream",
     "text": [
      "The attention mask and the pad token id were not set. As a consequence, you may observe unexpected behavior. Please pass your input's `attention_mask` to obtain reliable results.\n",
      "Setting `pad_token_id` to `eos_token_id`:50256 for open-end generation.\n"
     ]
    },
    {
     "name": "stdout",
     "output_type": "stream",
     "text": [
      "Finished: row 214 of 500\n",
      "{'ID': 214, 'Username': '1968_angelanichols', 'Age': 22, 'Country': 'Netherlands', 'CreationDate': '06/14/2015 06:51 AM', 'Description': 'The Angel of the North is a traveling show that takes you on', 'FollowerCount': 3406, 'PostCount': 33, 'Language': 'ITA'}\n"
     ]
    },
    {
     "name": "stderr",
     "output_type": "stream",
     "text": [
      "The attention mask and the pad token id were not set. As a consequence, you may observe unexpected behavior. Please pass your input's `attention_mask` to obtain reliable results.\n",
      "Setting `pad_token_id` to `eos_token_id`:50256 for open-end generation.\n"
     ]
    },
    {
     "name": "stdout",
     "output_type": "stream",
     "text": [
      "Finished: row 215 of 500\n",
      "{'ID': 215, 'Username': '1966_mmedina', 'Age': 22, 'Country': 'Germany', 'CreationDate': '10/12/2010 01:47 AM', 'Description': 'The Málaga International Airport is located in the city of', 'FollowerCount': 4437, 'PostCount': 38, 'Language': 'GER'}\n"
     ]
    },
    {
     "name": "stderr",
     "output_type": "stream",
     "text": [
      "The attention mask and the pad token id were not set. As a consequence, you may observe unexpected behavior. Please pass your input's `attention_mask` to obtain reliable results.\n",
      "Setting `pad_token_id` to `eos_token_id`:50256 for open-end generation.\n"
     ]
    },
    {
     "name": "stdout",
     "output_type": "stream",
     "text": [
      "Finished: row 216 of 500\n",
      "{'ID': 216, 'Username': 'arichardson', 'Age': 26, 'Country': 'Germany', 'CreationDate': '10/30/2010 02:34 PM', 'Description': 'The Republican Party is the party of the people. It is the party of', 'FollowerCount': 3296, 'PostCount': 53, 'Language': 'GER'}\n"
     ]
    },
    {
     "name": "stderr",
     "output_type": "stream",
     "text": [
      "The attention mask and the pad token id were not set. As a consequence, you may observe unexpected behavior. Please pass your input's `attention_mask` to obtain reliable results.\n",
      "Setting `pad_token_id` to `eos_token_id`:50256 for open-end generation.\n"
     ]
    },
    {
     "name": "stdout",
     "output_type": "stream",
     "text": [
      "Finished: row 217 of 500\n",
      "{'ID': 217, 'Username': 'jason72', 'Age': 44, 'Country': 'Italy', 'CreationDate': '05/03/2011 02:55 PM', 'Description': 'The first thing I did when I got back to the office was to', 'FollowerCount': 742, 'PostCount': 69, 'Language': 'ITA'}\n"
     ]
    },
    {
     "name": "stderr",
     "output_type": "stream",
     "text": [
      "The attention mask and the pad token id were not set. As a consequence, you may observe unexpected behavior. Please pass your input's `attention_mask` to obtain reliable results.\n",
      "Setting `pad_token_id` to `eos_token_id`:50256 for open-end generation.\n"
     ]
    },
    {
     "name": "stdout",
     "output_type": "stream",
     "text": [
      "Finished: row 218 of 500\n",
      "{'ID': 218, 'Username': 'philipserrano_1987', 'Age': 66, 'Country': 'Japan', 'CreationDate': '03/15/2020 05:19 PM', 'Description': 'The game of photography is a very popular hobby, and it is also', 'FollowerCount': 4814, 'PostCount': 11, 'Language': 'JAP'}\n"
     ]
    },
    {
     "name": "stderr",
     "output_type": "stream",
     "text": [
      "The attention mask and the pad token id were not set. As a consequence, you may observe unexpected behavior. Please pass your input's `attention_mask` to obtain reliable results.\n",
      "Setting `pad_token_id` to `eos_token_id`:50256 for open-end generation.\n"
     ]
    },
    {
     "name": "stdout",
     "output_type": "stream",
     "text": [
      "Finished: row 219 of 500\n",
      "{'ID': 219, 'Username': 'paula81', 'Age': 35, 'Country': '', 'CreationDate': '09/02/2012 07:54 PM', 'Description': \"I'm a 2023-era gamer, and I'm currently\", 'FollowerCount': 9125, 'PostCount': 78, 'Language': 'GER'}\n"
     ]
    },
    {
     "name": "stderr",
     "output_type": "stream",
     "text": [
      "The attention mask and the pad token id were not set. As a consequence, you may observe unexpected behavior. Please pass your input's `attention_mask` to obtain reliable results.\n",
      "Setting `pad_token_id` to `eos_token_id`:50256 for open-end generation.\n"
     ]
    },
    {
     "name": "stdout",
     "output_type": "stream",
     "text": [
      "Finished: row 220 of 500\n",
      "{'ID': 220, 'Username': 'rodriguezkayla_1989', 'Age': 42, 'Country': 'Russia', 'CreationDate': '05/13/2015 08:48 AM', 'Description': 'The image of the woman is the most important element in the history of', 'FollowerCount': 332, 'PostCount': 56, 'Language': 'FRE'}\n"
     ]
    },
    {
     "name": "stderr",
     "output_type": "stream",
     "text": [
      "The attention mask and the pad token id were not set. As a consequence, you may observe unexpected behavior. Please pass your input's `attention_mask` to obtain reliable results.\n",
      "Setting `pad_token_id` to `eos_token_id`:50256 for open-end generation.\n"
     ]
    },
    {
     "name": "stdout",
     "output_type": "stream",
     "text": [
      "Finished: row 221 of 500\n",
      "{'ID': 221, 'Username': 'jessecalhoun_1952', 'Age': 51, 'Country': '', 'CreationDate': '10/09/2016 08:01 PM', 'Description': 'The first ever international rugby match between the United States and the United', 'FollowerCount': 3769, 'PostCount': 52, 'Language': 'FRE'}\n"
     ]
    },
    {
     "name": "stderr",
     "output_type": "stream",
     "text": [
      "The attention mask and the pad token id were not set. As a consequence, you may observe unexpected behavior. Please pass your input's `attention_mask` to obtain reliable results.\n",
      "Setting `pad_token_id` to `eos_token_id`:50256 for open-end generation.\n"
     ]
    },
    {
     "name": "stdout",
     "output_type": "stream",
     "text": [
      "Finished: row 222 of 500\n",
      "{'ID': 222, 'Username': 'sheaalexa', 'Age': 38, 'Country': 'USA', 'CreationDate': '11/21/2018 12:24 PM', 'Description': 'The Republican Party is the party of the people, the party of the people', 'FollowerCount': 2586, 'PostCount': 9, 'Language': 'ENG'}\n"
     ]
    },
    {
     "name": "stderr",
     "output_type": "stream",
     "text": [
      "The attention mask and the pad token id were not set. As a consequence, you may observe unexpected behavior. Please pass your input's `attention_mask` to obtain reliable results.\n",
      "Setting `pad_token_id` to `eos_token_id`:50256 for open-end generation.\n"
     ]
    },
    {
     "name": "stdout",
     "output_type": "stream",
     "text": [
      "Finished: row 223 of 500\n",
      "{'ID': 223, 'Username': 'richard20_1981', 'Age': 61, 'Country': 'Netherlands', 'CreationDate': '03/10/2011 08:42 AM', 'Description': 'The first part of this article is a short profile of the artist,', 'FollowerCount': 9953, 'PostCount': 31, 'Language': 'NED'}\n"
     ]
    },
    {
     "name": "stderr",
     "output_type": "stream",
     "text": [
      "The attention mask and the pad token id were not set. As a consequence, you may observe unexpected behavior. Please pass your input's `attention_mask` to obtain reliable results.\n",
      "Setting `pad_token_id` to `eos_token_id`:50256 for open-end generation.\n"
     ]
    },
    {
     "name": "stdout",
     "output_type": "stream",
     "text": [
      "Finished: row 224 of 500\n",
      "{'ID': 224, 'Username': 'yhenderson', 'Age': 40, 'Country': 'USA', 'CreationDate': '08/21/2014 10:59 AM', 'Description': 'The U.S. Department of Justice has announced that it will be hiring', 'FollowerCount': 3043, 'PostCount': 92, 'Language': 'FRE'}\n"
     ]
    },
    {
     "name": "stderr",
     "output_type": "stream",
     "text": [
      "The attention mask and the pad token id were not set. As a consequence, you may observe unexpected behavior. Please pass your input's `attention_mask` to obtain reliable results.\n",
      "Setting `pad_token_id` to `eos_token_id`:50256 for open-end generation.\n"
     ]
    },
    {
     "name": "stdout",
     "output_type": "stream",
     "text": [
      "Finished: row 225 of 500\n",
      "{'ID': 225, 'Username': 'sandersanthony', 'Age': 42, 'Country': 'Russia', 'CreationDate': '01/30/2023 12:42 AM', 'Description': 'The first thing that comes to mind when you think of the term', 'FollowerCount': 1343, 'PostCount': 3, 'Language': 'RUS'}\n"
     ]
    },
    {
     "name": "stderr",
     "output_type": "stream",
     "text": [
      "The attention mask and the pad token id were not set. As a consequence, you may observe unexpected behavior. Please pass your input's `attention_mask` to obtain reliable results.\n",
      "Setting `pad_token_id` to `eos_token_id`:50256 for open-end generation.\n"
     ]
    },
    {
     "name": "stdout",
     "output_type": "stream",
     "text": [
      "Finished: row 226 of 500\n",
      "{'ID': 226, 'Username': '1970_tyler18', 'Age': 46, 'Country': 'China', 'CreationDate': '12/04/2018 11:58 PM', 'Description': 'The Republican Party of Alabama is a political party in the United States. The', 'FollowerCount': 1855, 'PostCount': 17, 'Language': 'MAN'}\n"
     ]
    },
    {
     "name": "stderr",
     "output_type": "stream",
     "text": [
      "The attention mask and the pad token id were not set. As a consequence, you may observe unexpected behavior. Please pass your input's `attention_mask` to obtain reliable results.\n",
      "Setting `pad_token_id` to `eos_token_id`:50256 for open-end generation.\n"
     ]
    },
    {
     "name": "stdout",
     "output_type": "stream",
     "text": [
      "Finished: row 227 of 500\n",
      "{'ID': 227, 'Username': 'meyersbrian', 'Age': 69, 'Country': 'Japan', 'CreationDate': '04/07/2013 02:59 PM', 'Description': 'The author is a biologist and a professor of biology at the University of California', 'FollowerCount': 529, 'PostCount': 82, 'Language': 'JAP'}\n"
     ]
    },
    {
     "name": "stderr",
     "output_type": "stream",
     "text": [
      "The attention mask and the pad token id were not set. As a consequence, you may observe unexpected behavior. Please pass your input's `attention_mask` to obtain reliable results.\n",
      "Setting `pad_token_id` to `eos_token_id`:50256 for open-end generation.\n"
     ]
    },
    {
     "name": "stdout",
     "output_type": "stream",
     "text": [
      "Finished: row 228 of 500\n",
      "{'ID': 228, 'Username': 'oschwartz', 'Age': 50, 'Country': 'Japan', 'CreationDate': '06/14/2008 02:03 AM', 'Description': \"The first ever meeting of the European Union's animal protection and animal welfare ministers\", 'FollowerCount': 22448, 'PostCount': 1, 'Language': 'JAP'}\n"
     ]
    },
    {
     "name": "stderr",
     "output_type": "stream",
     "text": [
      "The attention mask and the pad token id were not set. As a consequence, you may observe unexpected behavior. Please pass your input's `attention_mask` to obtain reliable results.\n",
      "Setting `pad_token_id` to `eos_token_id`:50256 for open-end generation.\n"
     ]
    },
    {
     "name": "stdout",
     "output_type": "stream",
     "text": [
      "Finished: row 229 of 500\n",
      "{'ID': 229, 'Username': 'grace46', 'Age': 72, 'Country': 'Netherlands', 'CreationDate': '04/08/2009 04:39 AM', 'Description': 'The Republican Party is the party of the rich and powerful. It is the', 'FollowerCount': 8214, 'PostCount': 1, 'Language': 'JAP'}\n"
     ]
    },
    {
     "name": "stderr",
     "output_type": "stream",
     "text": [
      "The attention mask and the pad token id were not set. As a consequence, you may observe unexpected behavior. Please pass your input's `attention_mask` to obtain reliable results.\n",
      "Setting `pad_token_id` to `eos_token_id`:50256 for open-end generation.\n"
     ]
    },
    {
     "name": "stdout",
     "output_type": "stream",
     "text": [
      "Finished: row 230 of 500\n",
      "{'ID': 230, 'Username': 'bmoore_1969', 'Age': 25, 'Country': 'Italy', 'CreationDate': '11/08/2017 11:18 PM', 'Description': 'The game is a simulation of the real world, with the player as the', 'FollowerCount': 1539, 'PostCount': 20, 'Language': 'ITA'}\n"
     ]
    },
    {
     "name": "stderr",
     "output_type": "stream",
     "text": [
      "The attention mask and the pad token id were not set. As a consequence, you may observe unexpected behavior. Please pass your input's `attention_mask` to obtain reliable results.\n",
      "Setting `pad_token_id` to `eos_token_id`:50256 for open-end generation.\n"
     ]
    },
    {
     "name": "stdout",
     "output_type": "stream",
     "text": [
      "Finished: row 231 of 500\n",
      "{'ID': 231, 'Username': 'taylorjennifer', 'Age': 43, 'Country': 'China', 'CreationDate': '04/02/2009 07:49 PM', 'Description': \"I'm a writer, a mother, a wife, a daughter,\", 'FollowerCount': 12872, 'PostCount': 90, 'Language': 'FRE'}\n"
     ]
    },
    {
     "name": "stderr",
     "output_type": "stream",
     "text": [
      "The attention mask and the pad token id were not set. As a consequence, you may observe unexpected behavior. Please pass your input's `attention_mask` to obtain reliable results.\n",
      "Setting `pad_token_id` to `eos_token_id`:50256 for open-end generation.\n"
     ]
    },
    {
     "name": "stdout",
     "output_type": "stream",
     "text": [
      "Finished: row 232 of 500\n",
      "{'ID': 232, 'Username': 'mckinneymary', 'Age': 37, 'Country': 'Italy', 'CreationDate': '10/18/2021 02:14 PM', 'Description': 'The event is a great opportunity to meet new people and get to know the', 'FollowerCount': 502, 'PostCount': 0, 'Language': 'ITA'}\n"
     ]
    },
    {
     "name": "stderr",
     "output_type": "stream",
     "text": [
      "The attention mask and the pad token id were not set. As a consequence, you may observe unexpected behavior. Please pass your input's `attention_mask` to obtain reliable results.\n",
      "Setting `pad_token_id` to `eos_token_id`:50256 for open-end generation.\n"
     ]
    },
    {
     "name": "stdout",
     "output_type": "stream",
     "text": [
      "Finished: row 233 of 500\n",
      "{'ID': 233, 'Username': 'jrobinson', 'Age': 23, 'Country': 'Netherlands', 'CreationDate': '07/14/2019 05:18 AM', 'Description': \"I'm a gamer, and I love to travel. I'm a gamer\", 'FollowerCount': 2593, 'PostCount': 0, 'Language': 'NED'}\n"
     ]
    },
    {
     "name": "stderr",
     "output_type": "stream",
     "text": [
      "The attention mask and the pad token id were not set. As a consequence, you may observe unexpected behavior. Please pass your input's `attention_mask` to obtain reliable results.\n",
      "Setting `pad_token_id` to `eos_token_id`:50256 for open-end generation.\n"
     ]
    },
    {
     "name": "stdout",
     "output_type": "stream",
     "text": [
      "Finished: row 234 of 500\n",
      "{'ID': 234, 'Username': 'stevenmiller', 'Age': 56, 'Country': 'Russia', 'CreationDate': '01/21/2021 04:16 PM', 'Description': 'The author is a writer and a gamer. He is currently working on a', 'FollowerCount': 3258, 'PostCount': 0, 'Language': 'RUS'}\n"
     ]
    },
    {
     "name": "stderr",
     "output_type": "stream",
     "text": [
      "The attention mask and the pad token id were not set. As a consequence, you may observe unexpected behavior. Please pass your input's `attention_mask` to obtain reliable results.\n",
      "Setting `pad_token_id` to `eos_token_id`:50256 for open-end generation.\n"
     ]
    },
    {
     "name": "stdout",
     "output_type": "stream",
     "text": [
      "Finished: row 235 of 500\n",
      "{'ID': 235, 'Username': '1977_millerashley', 'Age': 23, 'Country': 'Netherlands', 'CreationDate': '10/14/2011 06:57 PM', 'Description': 'The Republican Party is the party of the people, the party of the people', 'FollowerCount': 5167, 'PostCount': 53, 'Language': 'NED'}\n"
     ]
    },
    {
     "name": "stderr",
     "output_type": "stream",
     "text": [
      "The attention mask and the pad token id were not set. As a consequence, you may observe unexpected behavior. Please pass your input's `attention_mask` to obtain reliable results.\n",
      "Setting `pad_token_id` to `eos_token_id`:50256 for open-end generation.\n"
     ]
    },
    {
     "name": "stdout",
     "output_type": "stream",
     "text": [
      "Finished: row 236 of 500\n",
      "{'ID': 236, 'Username': 'kimberlywalsh', 'Age': 38, 'Country': 'Japan', 'CreationDate': '08/12/2019 04:01 PM', 'Description': 'I am a very friendly and outgoing person. I love to play video games', 'FollowerCount': 1148, 'PostCount': 24, 'Language': 'JAP'}\n"
     ]
    },
    {
     "name": "stderr",
     "output_type": "stream",
     "text": [
      "The attention mask and the pad token id were not set. As a consequence, you may observe unexpected behavior. Please pass your input's `attention_mask` to obtain reliable results.\n",
      "Setting `pad_token_id` to `eos_token_id`:50256 for open-end generation.\n"
     ]
    },
    {
     "name": "stdout",
     "output_type": "stream",
     "text": [
      "Finished: row 237 of 500\n",
      "{'ID': 237, 'Username': 'joshua87', 'Age': 39, 'Country': 'Japan', 'CreationDate': '09/15/2011 06:40 PM', 'Description': 'I am a sports photographer, and I have been shooting sports for over', 'FollowerCount': 1403, 'PostCount': 54, 'Language': 'ITA'}\n"
     ]
    },
    {
     "name": "stderr",
     "output_type": "stream",
     "text": [
      "The attention mask and the pad token id were not set. As a consequence, you may observe unexpected behavior. Please pass your input's `attention_mask` to obtain reliable results.\n",
      "Setting `pad_token_id` to `eos_token_id`:50256 for open-end generation.\n"
     ]
    },
    {
     "name": "stdout",
     "output_type": "stream",
     "text": [
      "Finished: row 238 of 500\n",
      "{'ID': 238, 'Username': '1953_gonzalezphillip', 'Age': '', 'Country': 'China', 'CreationDate': '09/05/2016 05:08 PM', 'Description': 'The first of the two photographs in this series was taken in the early', 'FollowerCount': 13280, 'PostCount': 4, 'Language': 'MAN'}\n"
     ]
    },
    {
     "name": "stderr",
     "output_type": "stream",
     "text": [
      "The attention mask and the pad token id were not set. As a consequence, you may observe unexpected behavior. Please pass your input's `attention_mask` to obtain reliable results.\n",
      "Setting `pad_token_id` to `eos_token_id`:50256 for open-end generation.\n"
     ]
    },
    {
     "name": "stdout",
     "output_type": "stream",
     "text": [
      "Finished: row 239 of 500\n",
      "{'ID': 239, 'Username': 'courtneyhunter_1976', 'Age': 50, 'Country': 'Germany', 'CreationDate': '10/29/2023 05:26 PM', 'Description': 'A young woman who is a bit of a rebel, a bit of', 'FollowerCount': 51, 'PostCount': 2, 'Language': 'GER'}\n"
     ]
    },
    {
     "name": "stderr",
     "output_type": "stream",
     "text": [
      "The attention mask and the pad token id were not set. As a consequence, you may observe unexpected behavior. Please pass your input's `attention_mask` to obtain reliable results.\n",
      "Setting `pad_token_id` to `eos_token_id`:50256 for open-end generation.\n"
     ]
    },
    {
     "name": "stdout",
     "output_type": "stream",
     "text": [
      "Finished: row 240 of 500\n",
      "{'ID': 240, 'Username': 'suzanne05', 'Age': '', 'Country': '', 'CreationDate': '10/02/2011 07:08 PM', 'Description': 'The first time I saw the ocean, I was in my early twenties', 'FollowerCount': 7648, 'PostCount': 5, 'Language': 'RUS'}\n"
     ]
    },
    {
     "name": "stderr",
     "output_type": "stream",
     "text": [
      "The attention mask and the pad token id were not set. As a consequence, you may observe unexpected behavior. Please pass your input's `attention_mask` to obtain reliable results.\n",
      "Setting `pad_token_id` to `eos_token_id`:50256 for open-end generation.\n"
     ]
    },
    {
     "name": "stdout",
     "output_type": "stream",
     "text": [
      "Finished: row 241 of 500\n",
      "{'ID': 241, 'Username': 'vschwartz', 'Age': 35, 'Country': 'China', 'CreationDate': '09/01/2016 09:41 AM', 'Description': 'I am a full stack developer with a strong background in web development', 'FollowerCount': 6897, 'PostCount': 49, 'Language': 'MAN'}\n"
     ]
    },
    {
     "name": "stderr",
     "output_type": "stream",
     "text": [
      "The attention mask and the pad token id were not set. As a consequence, you may observe unexpected behavior. Please pass your input's `attention_mask` to obtain reliable results.\n",
      "Setting `pad_token_id` to `eos_token_id`:50256 for open-end generation.\n"
     ]
    },
    {
     "name": "stdout",
     "output_type": "stream",
     "text": [
      "Finished: row 242 of 500\n",
      "{'ID': 242, 'Username': 'wholmes_1996', 'Age': 25, 'Country': 'Japan', 'CreationDate': '03/30/2008 08:12 AM', 'Description': 'I am a freelance writer and editor. I have been writing for', 'FollowerCount': 6122, 'PostCount': 4, 'Language': 'MAN'}\n"
     ]
    },
    {
     "name": "stderr",
     "output_type": "stream",
     "text": [
      "The attention mask and the pad token id were not set. As a consequence, you may observe unexpected behavior. Please pass your input's `attention_mask` to obtain reliable results.\n",
      "Setting `pad_token_id` to `eos_token_id`:50256 for open-end generation.\n"
     ]
    },
    {
     "name": "stdout",
     "output_type": "stream",
     "text": [
      "Finished: row 243 of 500\n",
      "{'ID': 243, 'Username': 'james76', 'Age': 69, 'Country': 'Russia', 'CreationDate': '02/07/2015 05:09 AM', 'Description': \"I'm a 2023-year-old man who loves to play video\", 'FollowerCount': 1649, 'PostCount': 6, 'Language': 'RUS'}\n"
     ]
    },
    {
     "name": "stderr",
     "output_type": "stream",
     "text": [
      "The attention mask and the pad token id were not set. As a consequence, you may observe unexpected behavior. Please pass your input's `attention_mask` to obtain reliable results.\n",
      "Setting `pad_token_id` to `eos_token_id`:50256 for open-end generation.\n"
     ]
    },
    {
     "name": "stdout",
     "output_type": "stream",
     "text": [
      "Finished: row 244 of 500\n",
      "{'ID': 244, 'Username': 'cynthiahiggins', 'Age': 19, 'Country': 'Netherlands', 'CreationDate': '07/05/2015 09:11 PM', 'Description': 'The author is a sports journalist and has worked for the BBC, the Guardian', 'FollowerCount': 3251, 'PostCount': 42, 'Language': 'NED'}\n"
     ]
    },
    {
     "name": "stderr",
     "output_type": "stream",
     "text": [
      "The attention mask and the pad token id were not set. As a consequence, you may observe unexpected behavior. Please pass your input's `attention_mask` to obtain reliable results.\n",
      "Setting `pad_token_id` to `eos_token_id`:50256 for open-end generation.\n"
     ]
    },
    {
     "name": "stdout",
     "output_type": "stream",
     "text": [
      "Finished: row 245 of 500\n",
      "{'ID': 245, 'Username': 'iward', 'Age': 51, 'Country': 'Netherlands', 'CreationDate': '03/21/2016 08:43 AM', 'Description': 'The first ever online game of the year, the World Cup of Hockey,', 'FollowerCount': 5392, 'PostCount': 9, 'Language': 'NED'}\n"
     ]
    },
    {
     "name": "stderr",
     "output_type": "stream",
     "text": [
      "The attention mask and the pad token id were not set. As a consequence, you may observe unexpected behavior. Please pass your input's `attention_mask` to obtain reliable results.\n",
      "Setting `pad_token_id` to `eos_token_id`:50256 for open-end generation.\n"
     ]
    },
    {
     "name": "stdout",
     "output_type": "stream",
     "text": [
      "Finished: row 246 of 500\n",
      "{'ID': 246, 'Username': 'ajordan', 'Age': 69, 'Country': '', 'CreationDate': '12/31/2015 05:09 AM', 'Description': \"The first thing you need to know about this guy is that he's\", 'FollowerCount': 2668, 'PostCount': 28, 'Language': 'RUS'}\n"
     ]
    },
    {
     "name": "stderr",
     "output_type": "stream",
     "text": [
      "The attention mask and the pad token id were not set. As a consequence, you may observe unexpected behavior. Please pass your input's `attention_mask` to obtain reliable results.\n",
      "Setting `pad_token_id` to `eos_token_id`:50256 for open-end generation.\n"
     ]
    },
    {
     "name": "stdout",
     "output_type": "stream",
     "text": [
      "Finished: row 247 of 500\n",
      "{'ID': 247, 'Username': '1953_hendersoncharles', 'Age': 40, 'Country': 'Germany', 'CreationDate': '03/14/2017 10:30 PM', 'Description': 'The Republican Party is the party of the people, the party of the people', 'FollowerCount': 5813, 'PostCount': 8, 'Language': 'GER'}\n"
     ]
    },
    {
     "name": "stderr",
     "output_type": "stream",
     "text": [
      "The attention mask and the pad token id were not set. As a consequence, you may observe unexpected behavior. Please pass your input's `attention_mask` to obtain reliable results.\n",
      "Setting `pad_token_id` to `eos_token_id`:50256 for open-end generation.\n"
     ]
    },
    {
     "name": "stdout",
     "output_type": "stream",
     "text": [
      "Finished: row 248 of 500\n",
      "{'ID': 248, 'Username': '1967_adean', 'Age': 28, 'Country': 'Russia', 'CreationDate': '08/12/2014 11:50 AM', 'Description': 'The Republican Party is the party of the people, the party of the', 'FollowerCount': 5625, 'PostCount': 19, 'Language': 'ITA'}\n"
     ]
    },
    {
     "name": "stderr",
     "output_type": "stream",
     "text": [
      "The attention mask and the pad token id were not set. As a consequence, you may observe unexpected behavior. Please pass your input's `attention_mask` to obtain reliable results.\n",
      "Setting `pad_token_id` to `eos_token_id`:50256 for open-end generation.\n"
     ]
    },
    {
     "name": "stdout",
     "output_type": "stream",
     "text": [
      "Finished: row 249 of 500\n",
      "{'ID': 249, 'Username': '1995_john64', 'Age': 18, 'Country': 'Russia', 'CreationDate': '09/04/2019 10:32 AM', 'Description': 'The first of the two main events of the year, the annual John', 'FollowerCount': 3888, 'PostCount': 3, 'Language': 'RUS'}\n"
     ]
    },
    {
     "name": "stderr",
     "output_type": "stream",
     "text": [
      "The attention mask and the pad token id were not set. As a consequence, you may observe unexpected behavior. Please pass your input's `attention_mask` to obtain reliable results.\n",
      "Setting `pad_token_id` to `eos_token_id`:50256 for open-end generation.\n"
     ]
    },
    {
     "name": "stdout",
     "output_type": "stream",
     "text": [
      "Finished: row 250 of 500\n",
      "{'ID': 250, 'Username': 'derekbradley', 'Age': 45, 'Country': 'France', 'CreationDate': '08/15/2016 08:43 PM', 'Description': 'Derek Bradley is a writer, editor, and publisher. He is', 'FollowerCount': 6462, 'PostCount': 28, 'Language': 'FRE'}\n"
     ]
    },
    {
     "name": "stderr",
     "output_type": "stream",
     "text": [
      "The attention mask and the pad token id were not set. As a consequence, you may observe unexpected behavior. Please pass your input's `attention_mask` to obtain reliable results.\n",
      "Setting `pad_token_id` to `eos_token_id`:50256 for open-end generation.\n"
     ]
    },
    {
     "name": "stdout",
     "output_type": "stream",
     "text": [
      "Finished: row 251 of 500\n",
      "{'ID': 251, 'Username': 'james95_1954', 'Age': 33, 'Country': 'China', 'CreationDate': '11/09/2020 12:47 AM', 'Description': 'The Republican Party is the party of the people, the party of the', 'FollowerCount': 1297, 'PostCount': 13, 'Language': 'MAN'}\n"
     ]
    },
    {
     "name": "stderr",
     "output_type": "stream",
     "text": [
      "The attention mask and the pad token id were not set. As a consequence, you may observe unexpected behavior. Please pass your input's `attention_mask` to obtain reliable results.\n",
      "Setting `pad_token_id` to `eos_token_id`:50256 for open-end generation.\n"
     ]
    },
    {
     "name": "stdout",
     "output_type": "stream",
     "text": [
      "Finished: row 252 of 500\n",
      "{'ID': 252, 'Username': 'dclark', 'Age': 19, 'Country': 'Japan', 'CreationDate': '05/28/2008 11:04 AM', 'Description': 'The first female president of the United States, Michelle Obama, is a former', 'FollowerCount': 10041, 'PostCount': 62, 'Language': 'GER'}\n"
     ]
    },
    {
     "name": "stderr",
     "output_type": "stream",
     "text": [
      "The attention mask and the pad token id were not set. As a consequence, you may observe unexpected behavior. Please pass your input's `attention_mask` to obtain reliable results.\n",
      "Setting `pad_token_id` to `eos_token_id`:50256 for open-end generation.\n"
     ]
    },
    {
     "name": "stdout",
     "output_type": "stream",
     "text": [
      "Finished: row 253 of 500\n",
      "{'ID': 253, 'Username': 'rfarrell', 'Age': 77, 'Country': 'Italy', 'CreationDate': '09/08/2008 03:09 PM', 'Description': 'The author is a veterinarian and a wildlife biologist. He is a member of', 'FollowerCount': 16029, 'PostCount': 54, 'Language': 'ITA'}\n"
     ]
    },
    {
     "name": "stderr",
     "output_type": "stream",
     "text": [
      "The attention mask and the pad token id were not set. As a consequence, you may observe unexpected behavior. Please pass your input's `attention_mask` to obtain reliable results.\n",
      "Setting `pad_token_id` to `eos_token_id`:50256 for open-end generation.\n"
     ]
    },
    {
     "name": "stdout",
     "output_type": "stream",
     "text": [
      "Finished: row 254 of 500\n",
      "{'ID': 254, 'Username': 'masonaustin', 'Age': 39, 'Country': 'UK', 'CreationDate': '07/14/2009 12:11 PM', 'Description': 'The job is to be a part of the team that is responsible', 'FollowerCount': 20082, 'PostCount': 48, 'Language': 'ENG'}\n"
     ]
    },
    {
     "name": "stderr",
     "output_type": "stream",
     "text": [
      "The attention mask and the pad token id were not set. As a consequence, you may observe unexpected behavior. Please pass your input's `attention_mask` to obtain reliable results.\n",
      "Setting `pad_token_id` to `eos_token_id`:50256 for open-end generation.\n"
     ]
    },
    {
     "name": "stdout",
     "output_type": "stream",
     "text": [
      "Finished: row 255 of 500\n",
      "{'ID': 255, 'Username': 'petersonrebekah', 'Age': '', 'Country': 'France', 'CreationDate': '11/11/2012 12:07 PM', 'Description': 'I am a full time student at the University of the West Indies', 'FollowerCount': 10895, 'PostCount': 51, 'Language': 'ENG'}\n"
     ]
    },
    {
     "name": "stderr",
     "output_type": "stream",
     "text": [
      "The attention mask and the pad token id were not set. As a consequence, you may observe unexpected behavior. Please pass your input's `attention_mask` to obtain reliable results.\n",
      "Setting `pad_token_id` to `eos_token_id`:50256 for open-end generation.\n"
     ]
    },
    {
     "name": "stdout",
     "output_type": "stream",
     "text": [
      "Finished: row 256 of 500\n",
      "{'ID': 256, 'Username': '1990_grayamy', 'Age': '', 'Country': 'USA', 'CreationDate': '04/06/2016 05:49 PM', 'Description': 'I am a senior in high school and I am looking for a job.', 'FollowerCount': 4499, 'PostCount': 105, 'Language': 'JAP'}\n"
     ]
    },
    {
     "name": "stderr",
     "output_type": "stream",
     "text": [
      "The attention mask and the pad token id were not set. As a consequence, you may observe unexpected behavior. Please pass your input's `attention_mask` to obtain reliable results.\n",
      "Setting `pad_token_id` to `eos_token_id`:50256 for open-end generation.\n"
     ]
    },
    {
     "name": "stdout",
     "output_type": "stream",
     "text": [
      "Finished: row 257 of 500\n",
      "{'ID': 257, 'Username': 'sherrywood', 'Age': 27, 'Country': 'France', 'CreationDate': '07/25/2008 12:30 AM', 'Description': 'The first thing you should know about this site is that it is a photo', 'FollowerCount': 6579, 'PostCount': 44, 'Language': 'FRE'}\n"
     ]
    },
    {
     "name": "stderr",
     "output_type": "stream",
     "text": [
      "The attention mask and the pad token id were not set. As a consequence, you may observe unexpected behavior. Please pass your input's `attention_mask` to obtain reliable results.\n",
      "Setting `pad_token_id` to `eos_token_id`:50256 for open-end generation.\n"
     ]
    },
    {
     "name": "stdout",
     "output_type": "stream",
     "text": [
      "Finished: row 258 of 500\n",
      "{'ID': 258, 'Username': '1983_scott32', 'Age': 20, 'Country': 'Netherlands', 'CreationDate': '03/27/2022 07:54 AM', 'Description': 'The first of the two-part series on the history of the British', 'FollowerCount': 1747, 'PostCount': 2, 'Language': 'RUS'}\n"
     ]
    },
    {
     "name": "stderr",
     "output_type": "stream",
     "text": [
      "The attention mask and the pad token id were not set. As a consequence, you may observe unexpected behavior. Please pass your input's `attention_mask` to obtain reliable results.\n",
      "Setting `pad_token_id` to `eos_token_id`:50256 for open-end generation.\n"
     ]
    },
    {
     "name": "stdout",
     "output_type": "stream",
     "text": [
      "Finished: row 259 of 500\n",
      "{'ID': 259, 'Username': 'gvasquez', 'Age': 45, 'Country': 'USA', 'CreationDate': '05/28/2023 05:04 AM', 'Description': 'The first of the two new series, Taking Images, will be a', 'FollowerCount': 250, 'PostCount': 0, 'Language': 'MAN'}\n"
     ]
    },
    {
     "name": "stderr",
     "output_type": "stream",
     "text": [
      "The attention mask and the pad token id were not set. As a consequence, you may observe unexpected behavior. Please pass your input's `attention_mask` to obtain reliable results.\n",
      "Setting `pad_token_id` to `eos_token_id`:50256 for open-end generation.\n"
     ]
    },
    {
     "name": "stdout",
     "output_type": "stream",
     "text": [
      "Finished: row 260 of 500\n",
      "{'ID': 260, 'Username': 'ericatownsend_1973', 'Age': '', 'Country': 'France', 'CreationDate': '02/02/2010 04:49 PM', 'Description': 'The first of the three-story, two-story, and one', 'FollowerCount': 1769, 'PostCount': 59, 'Language': 'ENG'}\n"
     ]
    },
    {
     "name": "stderr",
     "output_type": "stream",
     "text": [
      "The attention mask and the pad token id were not set. As a consequence, you may observe unexpected behavior. Please pass your input's `attention_mask` to obtain reliable results.\n",
      "Setting `pad_token_id` to `eos_token_id`:50256 for open-end generation.\n"
     ]
    },
    {
     "name": "stdout",
     "output_type": "stream",
     "text": [
      "Finished: row 261 of 500\n",
      "{'ID': 261, 'Username': 'ymartinez', 'Age': 30, 'Country': 'Netherlands', 'CreationDate': '05/24/2023 02:14 PM', 'Description': 'The former U.S. ambassador to Ukraine, Marie Yovanovitch', 'FollowerCount': 34, 'PostCount': 433, 'Language': 'GER'}\n",
      "Finished: row 262 of 500\n",
      "{'ID': 262, 'Username': '1951_qmitchell', 'Age': 28, 'Country': 'France', 'CreationDate': '07/06/2022 04:06 PM', 'Description': 'The Republican Party is the party of the people, the party of the', 'FollowerCount': 1917, 'PostCount': 5, 'Language': 'FRE'}\n"
     ]
    },
    {
     "name": "stderr",
     "output_type": "stream",
     "text": [
      "The attention mask and the pad token id were not set. As a consequence, you may observe unexpected behavior. Please pass your input's `attention_mask` to obtain reliable results.\n",
      "Setting `pad_token_id` to `eos_token_id`:50256 for open-end generation.\n",
      "The attention mask and the pad token id were not set. As a consequence, you may observe unexpected behavior. Please pass your input's `attention_mask` to obtain reliable results.\n",
      "Setting `pad_token_id` to `eos_token_id`:50256 for open-end generation.\n"
     ]
    },
    {
     "name": "stdout",
     "output_type": "stream",
     "text": [
      "Finished: row 263 of 500\n",
      "{'ID': 263, 'Username': 'sarah03', 'Age': '', 'Country': 'France', 'CreationDate': '01/22/2016 09:06 AM', 'Description': 'The author is a former Republican member of the U.S. House of', 'FollowerCount': 10391, 'PostCount': 10, 'Language': 'JAP'}\n"
     ]
    },
    {
     "name": "stderr",
     "output_type": "stream",
     "text": [
      "The attention mask and the pad token id were not set. As a consequence, you may observe unexpected behavior. Please pass your input's `attention_mask` to obtain reliable results.\n",
      "Setting `pad_token_id` to `eos_token_id`:50256 for open-end generation.\n"
     ]
    },
    {
     "name": "stdout",
     "output_type": "stream",
     "text": [
      "Finished: row 264 of 500\n",
      "{'ID': 264, 'Username': 'christinabrown', 'Age': 38, 'Country': 'France', 'CreationDate': '06/03/2021 08:06 AM', 'Description': 'I am a passionate traveller, I love to travel and I love', 'FollowerCount': 2298, 'PostCount': 11, 'Language': 'FRE'}\n"
     ]
    },
    {
     "name": "stderr",
     "output_type": "stream",
     "text": [
      "The attention mask and the pad token id were not set. As a consequence, you may observe unexpected behavior. Please pass your input's `attention_mask` to obtain reliable results.\n",
      "Setting `pad_token_id` to `eos_token_id`:50256 for open-end generation.\n"
     ]
    },
    {
     "name": "stdout",
     "output_type": "stream",
     "text": [
      "Finished: row 265 of 500\n",
      "{'ID': 265, 'Username': 'melinda51_1983', 'Age': 28, 'Country': 'UK', 'CreationDate': '10/11/2023 03:47 AM', 'Description': 'The first woman to be elected to the U.S. Senate,', 'FollowerCount': 402, 'PostCount': 1, 'Language': 'JAP'}\n"
     ]
    },
    {
     "name": "stderr",
     "output_type": "stream",
     "text": [
      "The attention mask and the pad token id were not set. As a consequence, you may observe unexpected behavior. Please pass your input's `attention_mask` to obtain reliable results.\n",
      "Setting `pad_token_id` to `eos_token_id`:50256 for open-end generation.\n"
     ]
    },
    {
     "name": "stdout",
     "output_type": "stream",
     "text": [
      "Finished: row 266 of 500\n",
      "{'ID': 266, 'Username': '1960_dmayo', 'Age': '', 'Country': 'Germany', 'CreationDate': '09/10/2021 05:29 AM', 'Description': 'The company is a leading provider of high-quality, high-tech,', 'FollowerCount': 1220, 'PostCount': 0, 'Language': 'GER'}\n"
     ]
    },
    {
     "name": "stderr",
     "output_type": "stream",
     "text": [
      "The attention mask and the pad token id were not set. As a consequence, you may observe unexpected behavior. Please pass your input's `attention_mask` to obtain reliable results.\n",
      "Setting `pad_token_id` to `eos_token_id`:50256 for open-end generation.\n"
     ]
    },
    {
     "name": "stdout",
     "output_type": "stream",
     "text": [
      "Finished: row 267 of 500\n",
      "{'ID': 267, 'Username': 'jasminelewis', 'Age': 23, 'Country': 'Italy', 'CreationDate': '06/26/2023 02:46 AM', 'Description': 'The first ever international competition for the best dog and cat agility teams in the', 'FollowerCount': 607, 'PostCount': 1, 'Language': 'ITA'}\n"
     ]
    },
    {
     "name": "stderr",
     "output_type": "stream",
     "text": [
      "The attention mask and the pad token id were not set. As a consequence, you may observe unexpected behavior. Please pass your input's `attention_mask` to obtain reliable results.\n",
      "Setting `pad_token_id` to `eos_token_id`:50256 for open-end generation.\n"
     ]
    },
    {
     "name": "stdout",
     "output_type": "stream",
     "text": [
      "Finished: row 268 of 500\n",
      "{'ID': 268, 'Username': 'daniellekeller', 'Age': 33, 'Country': 'UK', 'CreationDate': '05/20/2020 11:19 AM', 'Description': 'The author is a sports journalist and has worked for the BBC, the Guardian', 'FollowerCount': 4282, 'PostCount': 22, 'Language': 'MAN'}\n"
     ]
    },
    {
     "name": "stderr",
     "output_type": "stream",
     "text": [
      "The attention mask and the pad token id were not set. As a consequence, you may observe unexpected behavior. Please pass your input's `attention_mask` to obtain reliable results.\n",
      "Setting `pad_token_id` to `eos_token_id`:50256 for open-end generation.\n"
     ]
    },
    {
     "name": "stdout",
     "output_type": "stream",
     "text": [
      "Finished: row 269 of 500\n",
      "{'ID': 269, 'Username': 'carlaschwartz', 'Age': 28, 'Country': 'France', 'CreationDate': '06/14/2009 10:36 AM', 'Description': 'The first time I met her, I was in a bar in', 'FollowerCount': 4940, 'PostCount': 22, 'Language': 'FRE'}\n"
     ]
    },
    {
     "name": "stderr",
     "output_type": "stream",
     "text": [
      "The attention mask and the pad token id were not set. As a consequence, you may observe unexpected behavior. Please pass your input's `attention_mask` to obtain reliable results.\n",
      "Setting `pad_token_id` to `eos_token_id`:50256 for open-end generation.\n"
     ]
    },
    {
     "name": "stdout",
     "output_type": "stream",
     "text": [
      "Finished: row 270 of 500\n",
      "{'ID': 270, 'Username': '1999_bking', 'Age': 52, 'Country': 'UK', 'CreationDate': '03/13/2022 12:27 AM', 'Description': 'The game of chess is a game of strategy, tactics, and luck.', 'FollowerCount': 617, 'PostCount': 1, 'Language': 'ENG'}\n"
     ]
    },
    {
     "name": "stderr",
     "output_type": "stream",
     "text": [
      "The attention mask and the pad token id were not set. As a consequence, you may observe unexpected behavior. Please pass your input's `attention_mask` to obtain reliable results.\n",
      "Setting `pad_token_id` to `eos_token_id`:50256 for open-end generation.\n"
     ]
    },
    {
     "name": "stdout",
     "output_type": "stream",
     "text": [
      "Finished: row 271 of 500\n",
      "{'ID': 271, 'Username': '1951_davisalexis', 'Age': 21, 'Country': 'USA', 'CreationDate': '03/13/2013 10:50 PM', 'Description': 'The Republican Party is the party of the people, the party of the people', 'FollowerCount': 5266, 'PostCount': 55, 'Language': 'ENG'}\n"
     ]
    },
    {
     "name": "stderr",
     "output_type": "stream",
     "text": [
      "The attention mask and the pad token id were not set. As a consequence, you may observe unexpected behavior. Please pass your input's `attention_mask` to obtain reliable results.\n",
      "Setting `pad_token_id` to `eos_token_id`:50256 for open-end generation.\n"
     ]
    },
    {
     "name": "stdout",
     "output_type": "stream",
     "text": [
      "Finished: row 272 of 500\n",
      "{'ID': 272, 'Username': 'gregoryserrano', 'Age': 64, 'Country': 'UK', 'CreationDate': '12/31/2011 04:02 PM', 'Description': \"The former head of the U.S. Department of State's Bureau of\", 'FollowerCount': 1388, 'PostCount': 67, 'Language': 'MAN'}\n",
      "Finished: row 273 of 500\n",
      "{'ID': 273, 'Username': '2000_paulcampbell', 'Age': 26, 'Country': 'Russia', 'CreationDate': '11/17/2020 11:36 PM', 'Description': 'The author is a political scientist and a writer. He is currently working on', 'FollowerCount': 1959, 'PostCount': 1, 'Language': 'RUS'}\n"
     ]
    },
    {
     "name": "stderr",
     "output_type": "stream",
     "text": [
      "The attention mask and the pad token id were not set. As a consequence, you may observe unexpected behavior. Please pass your input's `attention_mask` to obtain reliable results.\n",
      "Setting `pad_token_id` to `eos_token_id`:50256 for open-end generation.\n",
      "The attention mask and the pad token id were not set. As a consequence, you may observe unexpected behavior. Please pass your input's `attention_mask` to obtain reliable results.\n",
      "Setting `pad_token_id` to `eos_token_id`:50256 for open-end generation.\n"
     ]
    },
    {
     "name": "stdout",
     "output_type": "stream",
     "text": [
      "Finished: row 274 of 500\n",
      "{'ID': 274, 'Username': 'gomezjodi', 'Age': '', 'Country': 'China', 'CreationDate': '10/20/2011 11:13 AM', 'Description': 'The most important thing is to be able to play the game.', 'FollowerCount': 9094, 'PostCount': 15, 'Language': 'MAN'}\n",
      "Finished: row 275 of 500\n",
      "{'ID': 275, 'Username': 'jennifer68', 'Age': 36, 'Country': 'Russia', 'CreationDate': '10/12/2022 08:42 AM', 'Description': 'I am a full time student at the University of California, Berkeley. I', 'FollowerCount': 1061, 'PostCount': 3, 'Language': 'RUS'}\n"
     ]
    },
    {
     "name": "stderr",
     "output_type": "stream",
     "text": [
      "The attention mask and the pad token id were not set. As a consequence, you may observe unexpected behavior. Please pass your input's `attention_mask` to obtain reliable results.\n",
      "Setting `pad_token_id` to `eos_token_id`:50256 for open-end generation.\n",
      "The attention mask and the pad token id were not set. As a consequence, you may observe unexpected behavior. Please pass your input's `attention_mask` to obtain reliable results.\n",
      "Setting `pad_token_id` to `eos_token_id`:50256 for open-end generation.\n"
     ]
    },
    {
     "name": "stdout",
     "output_type": "stream",
     "text": [
      "Finished: row 276 of 500\n",
      "{'ID': 276, 'Username': 'greenbarry_1989', 'Age': '', 'Country': 'China', 'CreationDate': '03/02/2018 08:43 AM', 'Description': 'The annual meeting of the American Society of Civil Engineers (ASCE is', 'FollowerCount': 2286, 'PostCount': 2, 'Language': 'MAN'}\n"
     ]
    },
    {
     "name": "stderr",
     "output_type": "stream",
     "text": [
      "The attention mask and the pad token id were not set. As a consequence, you may observe unexpected behavior. Please pass your input's `attention_mask` to obtain reliable results.\n",
      "Setting `pad_token_id` to `eos_token_id`:50256 for open-end generation.\n"
     ]
    },
    {
     "name": "stdout",
     "output_type": "stream",
     "text": [
      "Finished: row 277 of 500\n",
      "{'ID': 277, 'Username': 'phayes', 'Age': 38, 'Country': 'France', 'CreationDate': '07/17/2020 03:52 PM', 'Description': 'The first ever conference on the subject of the future of the Internet, the', 'FollowerCount': 2713, 'PostCount': 2, 'Language': 'JAP'}\n"
     ]
    },
    {
     "name": "stderr",
     "output_type": "stream",
     "text": [
      "The attention mask and the pad token id were not set. As a consequence, you may observe unexpected behavior. Please pass your input's `attention_mask` to obtain reliable results.\n",
      "Setting `pad_token_id` to `eos_token_id`:50256 for open-end generation.\n"
     ]
    },
    {
     "name": "stdout",
     "output_type": "stream",
     "text": [
      "Finished: row 278 of 500\n",
      "{'ID': 278, 'Username': 'michael08_1956', 'Age': '', 'Country': 'Italy', 'CreationDate': '11/07/2015 10:12 PM', 'Description': 'Michael is a senior software engineer at a large software company. He is a', 'FollowerCount': 3287, 'PostCount': 44, 'Language': 'RUS'}\n"
     ]
    },
    {
     "name": "stderr",
     "output_type": "stream",
     "text": [
      "The attention mask and the pad token id were not set. As a consequence, you may observe unexpected behavior. Please pass your input's `attention_mask` to obtain reliable results.\n",
      "Setting `pad_token_id` to `eos_token_id`:50256 for open-end generation.\n"
     ]
    },
    {
     "name": "stdout",
     "output_type": "stream",
     "text": [
      "Finished: row 279 of 500\n",
      "{'ID': 279, 'Username': 'bryantodd', 'Age': 29, 'Country': 'China', 'CreationDate': '09/05/2013 04:52 AM', 'Description': 'The author is a retired veterinarian and has been a professional writer for over 30', 'FollowerCount': 14125, 'PostCount': 31, 'Language': 'FRE'}\n"
     ]
    },
    {
     "name": "stderr",
     "output_type": "stream",
     "text": [
      "The attention mask and the pad token id were not set. As a consequence, you may observe unexpected behavior. Please pass your input's `attention_mask` to obtain reliable results.\n",
      "Setting `pad_token_id` to `eos_token_id`:50256 for open-end generation.\n"
     ]
    },
    {
     "name": "stdout",
     "output_type": "stream",
     "text": [
      "Finished: row 280 of 500\n",
      "{'ID': 280, 'Username': 'fpatel', 'Age': 33, 'Country': 'China', 'CreationDate': '02/09/2011 05:03 AM', 'Description': 'I am a professional photographer and I am also a writer. I', 'FollowerCount': 16747, 'PostCount': 36, 'Language': 'MAN'}\n"
     ]
    },
    {
     "name": "stderr",
     "output_type": "stream",
     "text": [
      "The attention mask and the pad token id were not set. As a consequence, you may observe unexpected behavior. Please pass your input's `attention_mask` to obtain reliable results.\n",
      "Setting `pad_token_id` to `eos_token_id`:50256 for open-end generation.\n"
     ]
    },
    {
     "name": "stdout",
     "output_type": "stream",
     "text": [
      "Finished: row 281 of 500\n",
      "{'ID': 281, 'Username': 'scottjames_1966', 'Age': 67, 'Country': 'China', 'CreationDate': '09/13/2018 07:40 AM', 'Description': 'Scott James is a photographer and writer based in the UK. He has been', 'FollowerCount': 9631, 'PostCount': 8, 'Language': 'MAN'}\n"
     ]
    },
    {
     "name": "stderr",
     "output_type": "stream",
     "text": [
      "The attention mask and the pad token id were not set. As a consequence, you may observe unexpected behavior. Please pass your input's `attention_mask` to obtain reliable results.\n",
      "Setting `pad_token_id` to `eos_token_id`:50256 for open-end generation.\n"
     ]
    },
    {
     "name": "stdout",
     "output_type": "stream",
     "text": [
      "Finished: row 282 of 500\n",
      "{'ID': 282, 'Username': '1951_brightgregory', 'Age': '', 'Country': 'USA', 'CreationDate': '11/22/2014 01:14 AM', 'Description': 'The first of the two new stadiums in the United States, the new', 'FollowerCount': 3286, 'PostCount': 38, 'Language': 'ENG'}\n"
     ]
    },
    {
     "name": "stderr",
     "output_type": "stream",
     "text": [
      "The attention mask and the pad token id were not set. As a consequence, you may observe unexpected behavior. Please pass your input's `attention_mask` to obtain reliable results.\n",
      "Setting `pad_token_id` to `eos_token_id`:50256 for open-end generation.\n"
     ]
    },
    {
     "name": "stdout",
     "output_type": "stream",
     "text": [
      "Finished: row 283 of 500\n",
      "{'ID': 283, 'Username': 'vanessalee', 'Age': 18, 'Country': 'Italy', 'CreationDate': '06/20/2018 02:51 AM', 'Description': 'I am a professional photographer, I have been working in the field', 'FollowerCount': 2735, 'PostCount': 9, 'Language': 'ITA'}\n"
     ]
    },
    {
     "name": "stderr",
     "output_type": "stream",
     "text": [
      "The attention mask and the pad token id were not set. As a consequence, you may observe unexpected behavior. Please pass your input's `attention_mask` to obtain reliable results.\n",
      "Setting `pad_token_id` to `eos_token_id`:50256 for open-end generation.\n"
     ]
    },
    {
     "name": "stdout",
     "output_type": "stream",
     "text": [
      "Finished: row 284 of 500\n",
      "{'ID': 284, 'Username': 'jordanmelanie', 'Age': 71, 'Country': 'Japan', 'CreationDate': '08/30/2015 09:52 AM', 'Description': 'The game of the year is back! The game of the year is back', 'FollowerCount': 10261, 'PostCount': 25, 'Language': 'JAP'}\n"
     ]
    },
    {
     "name": "stderr",
     "output_type": "stream",
     "text": [
      "The attention mask and the pad token id were not set. As a consequence, you may observe unexpected behavior. Please pass your input's `attention_mask` to obtain reliable results.\n",
      "Setting `pad_token_id` to `eos_token_id`:50256 for open-end generation.\n"
     ]
    },
    {
     "name": "stdout",
     "output_type": "stream",
     "text": [
      "Finished: row 285 of 500\n",
      "{'ID': 285, 'Username': '1998_tsmith', 'Age': '', 'Country': 'Netherlands', 'CreationDate': '10/06/2018 08:27 PM', 'Description': 'I am a recent graduate from the University of Michigan with a degree in English', 'FollowerCount': 9625, 'PostCount': 27, 'Language': 'NED'}\n"
     ]
    },
    {
     "name": "stderr",
     "output_type": "stream",
     "text": [
      "The attention mask and the pad token id were not set. As a consequence, you may observe unexpected behavior. Please pass your input's `attention_mask` to obtain reliable results.\n",
      "Setting `pad_token_id` to `eos_token_id`:50256 for open-end generation.\n"
     ]
    },
    {
     "name": "stdout",
     "output_type": "stream",
     "text": [
      "Finished: row 286 of 500\n",
      "{'ID': 286, 'Username': 'ffreeman', 'Age': 31, 'Country': 'USA', 'CreationDate': '12/17/2013 11:02 AM', 'Description': 'The first part of the course will be devoted to the study of the animal', 'FollowerCount': 25777, 'PostCount': 45, 'Language': 'ENG'}\n"
     ]
    },
    {
     "name": "stderr",
     "output_type": "stream",
     "text": [
      "The attention mask and the pad token id were not set. As a consequence, you may observe unexpected behavior. Please pass your input's `attention_mask` to obtain reliable results.\n",
      "Setting `pad_token_id` to `eos_token_id`:50256 for open-end generation.\n"
     ]
    },
    {
     "name": "stdout",
     "output_type": "stream",
     "text": [
      "Finished: row 287 of 500\n",
      "{'ID': 287, 'Username': 'juanlewis', 'Age': 46, 'Country': 'USA', 'CreationDate': '03/05/2009 11:10 AM', 'Description': 'I am a travel writer and photographer. I have been traveling for', 'FollowerCount': 14088, 'PostCount': 60, 'Language': 'ENG'}\n"
     ]
    },
    {
     "name": "stderr",
     "output_type": "stream",
     "text": [
      "The attention mask and the pad token id were not set. As a consequence, you may observe unexpected behavior. Please pass your input's `attention_mask` to obtain reliable results.\n",
      "Setting `pad_token_id` to `eos_token_id`:50256 for open-end generation.\n"
     ]
    },
    {
     "name": "stdout",
     "output_type": "stream",
     "text": [
      "Finished: row 288 of 500\n",
      "{'ID': 288, 'Username': '1996_dawnmorales', 'Age': 57, 'Country': 'China', 'CreationDate': '10/09/2023 07:42 PM', 'Description': 'The first day of the new year is a time for reflection and celebration.', 'FollowerCount': 23, 'PostCount': 1, 'Language': 'MAN'}\n"
     ]
    },
    {
     "name": "stderr",
     "output_type": "stream",
     "text": [
      "The attention mask and the pad token id were not set. As a consequence, you may observe unexpected behavior. Please pass your input's `attention_mask` to obtain reliable results.\n",
      "Setting `pad_token_id` to `eos_token_id`:50256 for open-end generation.\n"
     ]
    },
    {
     "name": "stdout",
     "output_type": "stream",
     "text": [
      "Finished: row 289 of 500\n",
      "{'ID': 289, 'Username': 'elliskathleen', 'Age': 54, 'Country': 'USA', 'CreationDate': '01/15/2024 12:16 AM', 'Description': 'The author is a freelance writer and editor. She has a Bachelor of Arts', 'FollowerCount': 10, 'PostCount': 0, 'Language': 'ENG'}\n"
     ]
    },
    {
     "name": "stderr",
     "output_type": "stream",
     "text": [
      "The attention mask and the pad token id were not set. As a consequence, you may observe unexpected behavior. Please pass your input's `attention_mask` to obtain reliable results.\n",
      "Setting `pad_token_id` to `eos_token_id`:50256 for open-end generation.\n"
     ]
    },
    {
     "name": "stdout",
     "output_type": "stream",
     "text": [
      "Finished: row 290 of 500\n",
      "{'ID': 290, 'Username': 'kenneth11', 'Age': 40, 'Country': 'Russia', 'CreationDate': '06/17/2012 08:26 AM', 'Description': 'I am a photographer, writer, and traveler. I have been photographing', 'FollowerCount': 5080, 'PostCount': 22, 'Language': 'FRE'}\n"
     ]
    },
    {
     "name": "stderr",
     "output_type": "stream",
     "text": [
      "The attention mask and the pad token id were not set. As a consequence, you may observe unexpected behavior. Please pass your input's `attention_mask` to obtain reliable results.\n",
      "Setting `pad_token_id` to `eos_token_id`:50256 for open-end generation.\n"
     ]
    },
    {
     "name": "stdout",
     "output_type": "stream",
     "text": [
      "Finished: row 291 of 500\n",
      "{'ID': 291, 'Username': 'andersonashley', 'Age': 60, 'Country': 'USA', 'CreationDate': '05/18/2019 11:51 PM', 'Description': 'I am a travel writer and photographer. I have been traveling for over 15', 'FollowerCount': 6517, 'PostCount': 1, 'Language': 'MAN'}\n"
     ]
    },
    {
     "name": "stderr",
     "output_type": "stream",
     "text": [
      "The attention mask and the pad token id were not set. As a consequence, you may observe unexpected behavior. Please pass your input's `attention_mask` to obtain reliable results.\n",
      "Setting `pad_token_id` to `eos_token_id`:50256 for open-end generation.\n"
     ]
    },
    {
     "name": "stdout",
     "output_type": "stream",
     "text": [
      "Finished: row 292 of 500\n",
      "{'ID': 292, 'Username': 'zmartin', 'Age': 61, 'Country': 'China', 'CreationDate': '05/17/2016 11:57 PM', 'Description': 'The Republican Party is the party of the rich and the powerful. It is', 'FollowerCount': 8627, 'PostCount': 10, 'Language': 'MAN'}\n"
     ]
    },
    {
     "name": "stderr",
     "output_type": "stream",
     "text": [
      "The attention mask and the pad token id were not set. As a consequence, you may observe unexpected behavior. Please pass your input's `attention_mask` to obtain reliable results.\n",
      "Setting `pad_token_id` to `eos_token_id`:50256 for open-end generation.\n"
     ]
    },
    {
     "name": "stdout",
     "output_type": "stream",
     "text": [
      "Finished: row 293 of 500\n",
      "{'ID': 293, 'Username': 'irhodes', 'Age': 42, 'Country': 'Japan', 'CreationDate': '09/08/2022 07:38 AM', 'Description': 'The first ever event for the new generation of developers.:', 'FollowerCount': 274, 'PostCount': 3, 'Language': 'JAP'}\n"
     ]
    },
    {
     "name": "stderr",
     "output_type": "stream",
     "text": [
      "The attention mask and the pad token id were not set. As a consequence, you may observe unexpected behavior. Please pass your input's `attention_mask` to obtain reliable results.\n",
      "Setting `pad_token_id` to `eos_token_id`:50256 for open-end generation.\n"
     ]
    },
    {
     "name": "stdout",
     "output_type": "stream",
     "text": [
      "Finished: row 294 of 500\n",
      "{'ID': 294, 'Username': 'brownthomas', 'Age': 18, 'Country': 'Italy', 'CreationDate': '05/11/2018 06:43 PM', 'Description': 'The author is a political scientist and a political analyst. He is a political', 'FollowerCount': 3161, 'PostCount': 32, 'Language': 'ITA'}\n"
     ]
    },
    {
     "name": "stderr",
     "output_type": "stream",
     "text": [
      "The attention mask and the pad token id were not set. As a consequence, you may observe unexpected behavior. Please pass your input's `attention_mask` to obtain reliable results.\n",
      "Setting `pad_token_id` to `eos_token_id`:50256 for open-end generation.\n"
     ]
    },
    {
     "name": "stdout",
     "output_type": "stream",
     "text": [
      "Finished: row 295 of 500\n",
      "{'ID': 295, 'Username': '1998_xarnold', 'Age': 31, 'Country': 'Netherlands', 'CreationDate': '09/17/2022 02:01 AM', 'Description': 'The first and only female president of the United States.**', 'FollowerCount': 265, 'PostCount': 11, 'Language': 'NED'}\n"
     ]
    },
    {
     "name": "stderr",
     "output_type": "stream",
     "text": [
      "The attention mask and the pad token id were not set. As a consequence, you may observe unexpected behavior. Please pass your input's `attention_mask` to obtain reliable results.\n",
      "Setting `pad_token_id` to `eos_token_id`:50256 for open-end generation.\n"
     ]
    },
    {
     "name": "stdout",
     "output_type": "stream",
     "text": [
      "Finished: row 296 of 500\n",
      "{'ID': 296, 'Username': 'jamesjose_1963', 'Age': 29, 'Country': 'Russia', 'CreationDate': '02/17/2021 05:48 AM', 'Description': 'James J. Sexton, a former U.S. Marine,', 'FollowerCount': 2640, 'PostCount': 5, 'Language': 'ENG'}\n"
     ]
    },
    {
     "name": "stderr",
     "output_type": "stream",
     "text": [
      "The attention mask and the pad token id were not set. As a consequence, you may observe unexpected behavior. Please pass your input's `attention_mask` to obtain reliable results.\n",
      "Setting `pad_token_id` to `eos_token_id`:50256 for open-end generation.\n"
     ]
    },
    {
     "name": "stdout",
     "output_type": "stream",
     "text": [
      "Finished: row 297 of 500\n",
      "{'ID': 297, 'Username': '1952_zlittle', 'Age': '', 'Country': 'Germany', 'CreationDate': '07/24/2012 05:00 AM', 'Description': 'The Federal Reserve Bank of New York, New York, New York, is', 'FollowerCount': 14140, 'PostCount': 65, 'Language': 'NED'}\n"
     ]
    },
    {
     "name": "stderr",
     "output_type": "stream",
     "text": [
      "The attention mask and the pad token id were not set. As a consequence, you may observe unexpected behavior. Please pass your input's `attention_mask` to obtain reliable results.\n",
      "Setting `pad_token_id` to `eos_token_id`:50256 for open-end generation.\n"
     ]
    },
    {
     "name": "stdout",
     "output_type": "stream",
     "text": [
      "Finished: row 298 of 500\n",
      "{'ID': 298, 'Username': 'anthony47_1997', 'Age': 49, 'Country': 'Japan', 'CreationDate': '08/03/2023 08:16 AM', 'Description': 'The author is a professor of political science at the University of California,', 'FollowerCount': 38, 'PostCount': 1, 'Language': 'FRE'}\n"
     ]
    },
    {
     "name": "stderr",
     "output_type": "stream",
     "text": [
      "The attention mask and the pad token id were not set. As a consequence, you may observe unexpected behavior. Please pass your input's `attention_mask` to obtain reliable results.\n",
      "Setting `pad_token_id` to `eos_token_id`:50256 for open-end generation.\n"
     ]
    },
    {
     "name": "stdout",
     "output_type": "stream",
     "text": [
      "Finished: row 299 of 500\n",
      "{'ID': 299, 'Username': '1965_brandtsteven', 'Age': '', 'Country': 'UK', 'CreationDate': '11/17/2020 06:38 AM', 'Description': 'The brandtstevens are a family of German-American artists', 'FollowerCount': 1345, 'PostCount': 2, 'Language': 'ENG'}\n"
     ]
    },
    {
     "name": "stderr",
     "output_type": "stream",
     "text": [
      "The attention mask and the pad token id were not set. As a consequence, you may observe unexpected behavior. Please pass your input's `attention_mask` to obtain reliable results.\n",
      "Setting `pad_token_id` to `eos_token_id`:50256 for open-end generation.\n"
     ]
    },
    {
     "name": "stdout",
     "output_type": "stream",
     "text": [
      "Finished: row 300 of 500\n",
      "{'ID': 300, 'Username': 'carl15', 'Age': 37, 'Country': 'UK', 'CreationDate': '05/07/2008 07:55 AM', 'Description': 'The Republican Party is the party of the people. It is the party of', 'FollowerCount': 317, 'PostCount': 2, 'Language': 'ENG'}\n"
     ]
    },
    {
     "name": "stderr",
     "output_type": "stream",
     "text": [
      "The attention mask and the pad token id were not set. As a consequence, you may observe unexpected behavior. Please pass your input's `attention_mask` to obtain reliable results.\n",
      "Setting `pad_token_id` to `eos_token_id`:50256 for open-end generation.\n"
     ]
    },
    {
     "name": "stdout",
     "output_type": "stream",
     "text": [
      "Finished: row 301 of 500\n",
      "{'ID': 301, 'Username': 'erichoward_1954', 'Age': 31, 'Country': 'China', 'CreationDate': '04/26/2010 01:53 PM', 'Description': 'The first of the two-part series on the history of the American Civil', 'FollowerCount': 20935, 'PostCount': 101, 'Language': 'FRE'}\n"
     ]
    },
    {
     "name": "stderr",
     "output_type": "stream",
     "text": [
      "The attention mask and the pad token id were not set. As a consequence, you may observe unexpected behavior. Please pass your input's `attention_mask` to obtain reliable results.\n",
      "Setting `pad_token_id` to `eos_token_id`:50256 for open-end generation.\n"
     ]
    },
    {
     "name": "stdout",
     "output_type": "stream",
     "text": [
      "Finished: row 302 of 500\n",
      "{'ID': 302, 'Username': 'bvillegas', 'Age': 48, 'Country': 'France', 'CreationDate': '01/12/2013 06:58 PM', 'Description': 'The author is a biologist and a professor of biology at the University of California', 'FollowerCount': 1787, 'PostCount': 102, 'Language': 'FRE'}\n"
     ]
    },
    {
     "name": "stderr",
     "output_type": "stream",
     "text": [
      "The attention mask and the pad token id were not set. As a consequence, you may observe unexpected behavior. Please pass your input's `attention_mask` to obtain reliable results.\n",
      "Setting `pad_token_id` to `eos_token_id`:50256 for open-end generation.\n"
     ]
    },
    {
     "name": "stdout",
     "output_type": "stream",
     "text": [
      "Finished: row 303 of 500\n",
      "{'ID': 303, 'Username': 'kimberlyrogers_1984', 'Age': 64, 'Country': 'USA', 'CreationDate': '12/17/2010 09:13 AM', 'Description': 'The author is a retired veterinarian. She has been a Republican since the early', 'FollowerCount': 9140, 'PostCount': 15, 'Language': 'FRE'}\n"
     ]
    },
    {
     "name": "stderr",
     "output_type": "stream",
     "text": [
      "The attention mask and the pad token id were not set. As a consequence, you may observe unexpected behavior. Please pass your input's `attention_mask` to obtain reliable results.\n",
      "Setting `pad_token_id` to `eos_token_id`:50256 for open-end generation.\n"
     ]
    },
    {
     "name": "stdout",
     "output_type": "stream",
     "text": [
      "Finished: row 304 of 500\n",
      "{'ID': 304, 'Username': '1978_leroy79', 'Age': 19, 'Country': 'Italy', 'CreationDate': '06/18/2011 01:36 AM', 'Description': 'The job of the future is to make the world a better place.', 'FollowerCount': 14232, 'PostCount': 23, 'Language': 'ITA'}\n"
     ]
    },
    {
     "name": "stderr",
     "output_type": "stream",
     "text": [
      "The attention mask and the pad token id were not set. As a consequence, you may observe unexpected behavior. Please pass your input's `attention_mask` to obtain reliable results.\n",
      "Setting `pad_token_id` to `eos_token_id`:50256 for open-end generation.\n"
     ]
    },
    {
     "name": "stdout",
     "output_type": "stream",
     "text": [
      "Finished: row 305 of 500\n",
      "{'ID': 305, 'Username': 'weissdavid_2002', 'Age': 65, 'Country': 'Germany', 'CreationDate': '05/31/2015 01:25 AM', 'Description': 'The author is a professor of political science at the University of California, Berkeley', 'FollowerCount': 3241, 'PostCount': 32, 'Language': 'GER'}\n"
     ]
    },
    {
     "name": "stderr",
     "output_type": "stream",
     "text": [
      "The attention mask and the pad token id were not set. As a consequence, you may observe unexpected behavior. Please pass your input's `attention_mask` to obtain reliable results.\n",
      "Setting `pad_token_id` to `eos_token_id`:50256 for open-end generation.\n"
     ]
    },
    {
     "name": "stdout",
     "output_type": "stream",
     "text": [
      "Finished: row 306 of 500\n",
      "{'ID': 306, 'Username': 'hsalinas', 'Age': 18, 'Country': 'China', 'CreationDate': '02/06/2012 08:16 PM', 'Description': 'The Republican Party of the United States of America is the political party', 'FollowerCount': 3940, 'PostCount': 30, 'Language': 'MAN'}\n"
     ]
    },
    {
     "name": "stderr",
     "output_type": "stream",
     "text": [
      "The attention mask and the pad token id were not set. As a consequence, you may observe unexpected behavior. Please pass your input's `attention_mask` to obtain reliable results.\n",
      "Setting `pad_token_id` to `eos_token_id`:50256 for open-end generation.\n"
     ]
    },
    {
     "name": "stdout",
     "output_type": "stream",
     "text": [
      "Finished: row 307 of 500\n",
      "{'ID': 307, 'Username': 'brandonanderson', 'Age': 25, 'Country': 'Italy', 'CreationDate': '07/22/2022 12:03 AM', 'Description': 'The candidate is a senior manager with a proven track record of success', 'FollowerCount': 296, 'PostCount': 4, 'Language': 'ITA'}\n"
     ]
    },
    {
     "name": "stderr",
     "output_type": "stream",
     "text": [
      "The attention mask and the pad token id were not set. As a consequence, you may observe unexpected behavior. Please pass your input's `attention_mask` to obtain reliable results.\n",
      "Setting `pad_token_id` to `eos_token_id`:50256 for open-end generation.\n"
     ]
    },
    {
     "name": "stdout",
     "output_type": "stream",
     "text": [
      "Finished: row 308 of 500\n",
      "{'ID': 308, 'Username': 'bethpatterson', 'Age': 61, 'Country': 'Japan', 'CreationDate': '08/30/2009 12:57 AM', 'Description': 'The author is a senior research analyst at the Center for Economic and Policy Research', 'FollowerCount': 12876, 'PostCount': 6, 'Language': 'ENG'}\n"
     ]
    },
    {
     "name": "stderr",
     "output_type": "stream",
     "text": [
      "The attention mask and the pad token id were not set. As a consequence, you may observe unexpected behavior. Please pass your input's `attention_mask` to obtain reliable results.\n",
      "Setting `pad_token_id` to `eos_token_id`:50256 for open-end generation.\n"
     ]
    },
    {
     "name": "stdout",
     "output_type": "stream",
     "text": [
      "Finished: row 309 of 500\n",
      "{'ID': 309, 'Username': 'vanessa79_1990', 'Age': '', 'Country': 'UK', 'CreationDate': '05/06/2022 09:16 AM', 'Description': 'The company is a leading provider of high-quality, innovative,', 'FollowerCount': 394, 'PostCount': 3, 'Language': 'RUS'}\n"
     ]
    },
    {
     "name": "stderr",
     "output_type": "stream",
     "text": [
      "The attention mask and the pad token id were not set. As a consequence, you may observe unexpected behavior. Please pass your input's `attention_mask` to obtain reliable results.\n",
      "Setting `pad_token_id` to `eos_token_id`:50256 for open-end generation.\n"
     ]
    },
    {
     "name": "stdout",
     "output_type": "stream",
     "text": [
      "Finished: row 310 of 500\n",
      "{'ID': 310, 'Username': 'bushmichael_1960', 'Age': 32, 'Country': 'Netherlands', 'CreationDate': '05/08/2022 03:11 AM', 'Description': 'The president of the United States is a man who has never been shy', 'FollowerCount': 20, 'PostCount': 3111, 'Language': 'NED'}\n"
     ]
    },
    {
     "name": "stderr",
     "output_type": "stream",
     "text": [
      "The attention mask and the pad token id were not set. As a consequence, you may observe unexpected behavior. Please pass your input's `attention_mask` to obtain reliable results.\n",
      "Setting `pad_token_id` to `eos_token_id`:50256 for open-end generation.\n"
     ]
    },
    {
     "name": "stdout",
     "output_type": "stream",
     "text": [
      "Finished: row 311 of 500\n",
      "{'ID': 311, 'Username': 'carterkaitlin', 'Age': 22, 'Country': 'France', 'CreationDate': '11/14/2023 12:56 AM', 'Description': 'The author is a former Republican member of the U.S. House of', 'FollowerCount': 3, 'PostCount': 203, 'Language': 'RUS'}\n"
     ]
    },
    {
     "name": "stderr",
     "output_type": "stream",
     "text": [
      "The attention mask and the pad token id were not set. As a consequence, you may observe unexpected behavior. Please pass your input's `attention_mask` to obtain reliable results.\n",
      "Setting `pad_token_id` to `eos_token_id`:50256 for open-end generation.\n"
     ]
    },
    {
     "name": "stdout",
     "output_type": "stream",
     "text": [
      "Finished: row 312 of 500\n",
      "{'ID': 312, 'Username': '1977_sarahkennedy', 'Age': 21, 'Country': 'USA', 'CreationDate': '09/02/2009 01:31 AM', 'Description': \"The first ever women's rugby union team from the United Kingdom, the England\", 'FollowerCount': 1561, 'PostCount': 50, 'Language': 'MAN'}\n"
     ]
    },
    {
     "name": "stderr",
     "output_type": "stream",
     "text": [
      "The attention mask and the pad token id were not set. As a consequence, you may observe unexpected behavior. Please pass your input's `attention_mask` to obtain reliable results.\n",
      "Setting `pad_token_id` to `eos_token_id`:50256 for open-end generation.\n"
     ]
    },
    {
     "name": "stdout",
     "output_type": "stream",
     "text": [
      "Finished: row 313 of 500\n",
      "{'ID': 313, 'Username': 'joshua02', 'Age': 20, 'Country': 'Japan', 'CreationDate': '09/17/2013 12:53 PM', 'Description': ':, :, :, :, :, :, :, :', 'FollowerCount': 10442, 'PostCount': 23, 'Language': 'JAP'}\n"
     ]
    },
    {
     "name": "stderr",
     "output_type": "stream",
     "text": [
      "The attention mask and the pad token id were not set. As a consequence, you may observe unexpected behavior. Please pass your input's `attention_mask` to obtain reliable results.\n",
      "Setting `pad_token_id` to `eos_token_id`:50256 for open-end generation.\n"
     ]
    },
    {
     "name": "stdout",
     "output_type": "stream",
     "text": [
      "Finished: row 314 of 500\n",
      "{'ID': 314, 'Username': '1957_shill', 'Age': 31, 'Country': 'UK', 'CreationDate': '09/26/2011 08:57 AM', 'Description': 'The Republican Party is the party of the people, the party of the people', 'FollowerCount': 1641, 'PostCount': 60, 'Language': 'ENG'}\n"
     ]
    },
    {
     "name": "stderr",
     "output_type": "stream",
     "text": [
      "The attention mask and the pad token id were not set. As a consequence, you may observe unexpected behavior. Please pass your input's `attention_mask` to obtain reliable results.\n",
      "Setting `pad_token_id` to `eos_token_id`:50256 for open-end generation.\n"
     ]
    },
    {
     "name": "stdout",
     "output_type": "stream",
     "text": [
      "Finished: row 315 of 500\n",
      "{'ID': 315, 'Username': 'pthomas_1970', 'Age': '', 'Country': 'UK', 'CreationDate': '09/08/2023 02:36 AM', 'Description': 'The CEO of a global software company is looking for a new position. The', 'FollowerCount': 116, 'PostCount': 1, 'Language': 'ENG'}\n"
     ]
    },
    {
     "name": "stderr",
     "output_type": "stream",
     "text": [
      "The attention mask and the pad token id were not set. As a consequence, you may observe unexpected behavior. Please pass your input's `attention_mask` to obtain reliable results.\n",
      "Setting `pad_token_id` to `eos_token_id`:50256 for open-end generation.\n"
     ]
    },
    {
     "name": "stdout",
     "output_type": "stream",
     "text": [
      "Finished: row 316 of 500\n",
      "{'ID': 316, 'Username': '1978_robinsonfranklin', 'Age': 45, 'Country': 'USA', 'CreationDate': '03/20/2011 09:49 AM', 'Description': 'The author is a retired veterinarian who has been a member of the American', 'FollowerCount': 15247, 'PostCount': 20, 'Language': 'ENG'}\n"
     ]
    },
    {
     "name": "stderr",
     "output_type": "stream",
     "text": [
      "The attention mask and the pad token id were not set. As a consequence, you may observe unexpected behavior. Please pass your input's `attention_mask` to obtain reliable results.\n",
      "Setting `pad_token_id` to `eos_token_id`:50256 for open-end generation.\n"
     ]
    },
    {
     "name": "stdout",
     "output_type": "stream",
     "text": [
      "Finished: row 317 of 500\n",
      "{'ID': 317, 'Username': '1959_bruce22', 'Age': 37, 'Country': 'Japan', 'CreationDate': '02/05/2009 04:05 AM', 'Description': 'The first of the two new species of the genus _Cyn', 'FollowerCount': 21244, 'PostCount': 16, 'Language': 'JAP'}\n"
     ]
    },
    {
     "name": "stderr",
     "output_type": "stream",
     "text": [
      "The attention mask and the pad token id were not set. As a consequence, you may observe unexpected behavior. Please pass your input's `attention_mask` to obtain reliable results.\n",
      "Setting `pad_token_id` to `eos_token_id`:50256 for open-end generation.\n"
     ]
    },
    {
     "name": "stdout",
     "output_type": "stream",
     "text": [
      "Finished: row 318 of 500\n",
      "{'ID': 318, 'Username': 'melissaallen', 'Age': 23, 'Country': '', 'CreationDate': '03/13/2017 10:26 AM', 'Description': 'The University of Minnesota is a public research university located in the Twin Cities metropolitan', 'FollowerCount': 6170, 'PostCount': 10, 'Language': 'ENG'}\n"
     ]
    },
    {
     "name": "stderr",
     "output_type": "stream",
     "text": [
      "The attention mask and the pad token id were not set. As a consequence, you may observe unexpected behavior. Please pass your input's `attention_mask` to obtain reliable results.\n",
      "Setting `pad_token_id` to `eos_token_id`:50256 for open-end generation.\n"
     ]
    },
    {
     "name": "stdout",
     "output_type": "stream",
     "text": [
      "Finished: row 319 of 500\n",
      "{'ID': 319, 'Username': 'ryan14', 'Age': '', 'Country': 'USA', 'CreationDate': '02/22/2023 07:47 AM', 'Description': 'I am a business owner, entrepreneur, and a self-made man.', 'FollowerCount': 468, 'PostCount': 2, 'Language': 'ENG'}\n"
     ]
    },
    {
     "name": "stderr",
     "output_type": "stream",
     "text": [
      "The attention mask and the pad token id were not set. As a consequence, you may observe unexpected behavior. Please pass your input's `attention_mask` to obtain reliable results.\n",
      "Setting `pad_token_id` to `eos_token_id`:50256 for open-end generation.\n"
     ]
    },
    {
     "name": "stdout",
     "output_type": "stream",
     "text": [
      "Finished: row 320 of 500\n",
      "{'ID': 320, 'Username': '1996_aperry', 'Age': 39, 'Country': 'China', 'CreationDate': '01/08/2024 08:14 PM', 'Description': 'The annual conference of the Association for the Advancement of Artificial Intelligence', 'FollowerCount': 7, 'PostCount': 0, 'Language': 'MAN'}\n"
     ]
    },
    {
     "name": "stderr",
     "output_type": "stream",
     "text": [
      "The attention mask and the pad token id were not set. As a consequence, you may observe unexpected behavior. Please pass your input's `attention_mask` to obtain reliable results.\n",
      "Setting `pad_token_id` to `eos_token_id`:50256 for open-end generation.\n"
     ]
    },
    {
     "name": "stdout",
     "output_type": "stream",
     "text": [
      "Finished: row 321 of 500\n",
      "{'ID': 321, 'Username': 'jensengabriel_1996', 'Age': 50, 'Country': 'UK', 'CreationDate': '08/31/2011 10:27 AM', 'Description': 'The author is a professional writer and a sports journalist. He is a member', 'FollowerCount': 23301, 'PostCount': 72, 'Language': 'ENG'}\n"
     ]
    },
    {
     "name": "stderr",
     "output_type": "stream",
     "text": [
      "The attention mask and the pad token id were not set. As a consequence, you may observe unexpected behavior. Please pass your input's `attention_mask` to obtain reliable results.\n",
      "Setting `pad_token_id` to `eos_token_id`:50256 for open-end generation.\n"
     ]
    },
    {
     "name": "stdout",
     "output_type": "stream",
     "text": [
      "Finished: row 322 of 500\n",
      "{'ID': 322, 'Username': 'rblake_2003', 'Age': 39, 'Country': 'Italy', 'CreationDate': '11/19/2010 07:04 PM', 'Description': 'I am a freelance game developer and I am currently working on a', 'FollowerCount': 14653, 'PostCount': 54, 'Language': 'MAN'}\n"
     ]
    },
    {
     "name": "stderr",
     "output_type": "stream",
     "text": [
      "The attention mask and the pad token id were not set. As a consequence, you may observe unexpected behavior. Please pass your input's `attention_mask` to obtain reliable results.\n",
      "Setting `pad_token_id` to `eos_token_id`:50256 for open-end generation.\n"
     ]
    },
    {
     "name": "stdout",
     "output_type": "stream",
     "text": [
      "Finished: row 323 of 500\n",
      "{'ID': 323, 'Username': 'ericwhite_1956', 'Age': 32, 'Country': '', 'CreationDate': '08/29/2013 03:33 AM', 'Description': 'The game of chess is a game of strategy, and the game', 'FollowerCount': 1449, 'PostCount': 51, 'Language': 'ENG'}\n"
     ]
    },
    {
     "name": "stderr",
     "output_type": "stream",
     "text": [
      "The attention mask and the pad token id were not set. As a consequence, you may observe unexpected behavior. Please pass your input's `attention_mask` to obtain reliable results.\n",
      "Setting `pad_token_id` to `eos_token_id`:50256 for open-end generation.\n"
     ]
    },
    {
     "name": "stdout",
     "output_type": "stream",
     "text": [
      "Finished: row 324 of 500\n",
      "{'ID': 324, 'Username': 'zbrewer_1951', 'Age': 41, 'Country': 'Japan', 'CreationDate': '01/31/2022 01:22 AM', 'Description': 'The first of the two men to be killed in the World War II bombing', 'FollowerCount': 998, 'PostCount': 3, 'Language': 'JAP'}\n"
     ]
    },
    {
     "name": "stderr",
     "output_type": "stream",
     "text": [
      "The attention mask and the pad token id were not set. As a consequence, you may observe unexpected behavior. Please pass your input's `attention_mask` to obtain reliable results.\n",
      "Setting `pad_token_id` to `eos_token_id`:50256 for open-end generation.\n"
     ]
    },
    {
     "name": "stdout",
     "output_type": "stream",
     "text": [
      "Finished: row 325 of 500\n",
      "{'ID': 325, 'Username': 'scott07', 'Age': 58, 'Country': 'Italy', 'CreationDate': '04/10/2019 01:27 PM', 'Description': \"I'm a gamer, a photographer, and a writer. I'm a\", 'FollowerCount': 2707, 'PostCount': 0, 'Language': 'ITA'}\n"
     ]
    },
    {
     "name": "stderr",
     "output_type": "stream",
     "text": [
      "The attention mask and the pad token id were not set. As a consequence, you may observe unexpected behavior. Please pass your input's `attention_mask` to obtain reliable results.\n",
      "Setting `pad_token_id` to `eos_token_id`:50256 for open-end generation.\n"
     ]
    },
    {
     "name": "stdout",
     "output_type": "stream",
     "text": [
      "Finished: row 326 of 500\n",
      "{'ID': 326, 'Username': 'zwright', 'Age': 47, 'Country': 'France', 'CreationDate': '07/13/2013 06:42 AM', 'Description': 'The first ever “Wildlife Photography” workshop in the UK,', 'FollowerCount': 5421, 'PostCount': 52, 'Language': 'GER'}\n"
     ]
    },
    {
     "name": "stderr",
     "output_type": "stream",
     "text": [
      "The attention mask and the pad token id were not set. As a consequence, you may observe unexpected behavior. Please pass your input's `attention_mask` to obtain reliable results.\n",
      "Setting `pad_token_id` to `eos_token_id`:50256 for open-end generation.\n"
     ]
    },
    {
     "name": "stdout",
     "output_type": "stream",
     "text": [
      "Finished: row 327 of 500\n",
      "{'ID': 327, 'Username': 'gloria03_1959', 'Age': 59, 'Country': 'France', 'CreationDate': '07/15/2014 11:21 AM', 'Description': 'The first female president of the United States, the first woman to hold', 'FollowerCount': 12649, 'PostCount': 31, 'Language': 'FRE'}\n"
     ]
    },
    {
     "name": "stderr",
     "output_type": "stream",
     "text": [
      "The attention mask and the pad token id were not set. As a consequence, you may observe unexpected behavior. Please pass your input's `attention_mask` to obtain reliable results.\n",
      "Setting `pad_token_id` to `eos_token_id`:50256 for open-end generation.\n"
     ]
    },
    {
     "name": "stdout",
     "output_type": "stream",
     "text": [
      "Finished: row 328 of 500\n",
      "{'ID': 328, 'Username': 'gomezrachel', 'Age': '', 'Country': 'Italy', 'CreationDate': '07/22/2021 08:46 AM', 'Description': 'The event is a great opportunity to meet new people and get to know the', 'FollowerCount': 280, 'PostCount': 18, 'Language': 'NED'}\n"
     ]
    },
    {
     "name": "stderr",
     "output_type": "stream",
     "text": [
      "The attention mask and the pad token id were not set. As a consequence, you may observe unexpected behavior. Please pass your input's `attention_mask` to obtain reliable results.\n",
      "Setting `pad_token_id` to `eos_token_id`:50256 for open-end generation.\n"
     ]
    },
    {
     "name": "stdout",
     "output_type": "stream",
     "text": [
      "Finished: row 329 of 500\n",
      "{'ID': 329, 'Username': 'ddaniels', 'Age': 36, 'Country': 'Netherlands', 'CreationDate': '06/10/2010 09:11 AM', 'Description': 'I am a full time student at the University of South Florida.', 'FollowerCount': 12643, 'PostCount': 31, 'Language': 'MAN'}\n"
     ]
    },
    {
     "name": "stderr",
     "output_type": "stream",
     "text": [
      "The attention mask and the pad token id were not set. As a consequence, you may observe unexpected behavior. Please pass your input's `attention_mask` to obtain reliable results.\n",
      "Setting `pad_token_id` to `eos_token_id`:50256 for open-end generation.\n"
     ]
    },
    {
     "name": "stdout",
     "output_type": "stream",
     "text": [
      "Finished: row 330 of 500\n",
      "{'ID': 330, 'Username': 'mark84_1986', 'Age': 86, 'Country': 'China', 'CreationDate': '12/24/2009 05:30 AM', 'Description': \"The first of the two new series of the BBC's popular quiz show\", 'FollowerCount': 12001, 'PostCount': 76, 'Language': 'ENG'}\n"
     ]
    },
    {
     "name": "stderr",
     "output_type": "stream",
     "text": [
      "The attention mask and the pad token id were not set. As a consequence, you may observe unexpected behavior. Please pass your input's `attention_mask` to obtain reliable results.\n",
      "Setting `pad_token_id` to `eos_token_id`:50256 for open-end generation.\n"
     ]
    },
    {
     "name": "stdout",
     "output_type": "stream",
     "text": [
      "Finished: row 331 of 500\n",
      "{'ID': 331, 'Username': '1983_lopezbrent', 'Age': 64, 'Country': 'Japan', 'CreationDate': '07/22/2022 08:33 PM', 'Description': 'The game is a 2D platformer with a lot of action and', 'FollowerCount': 888, 'PostCount': 4, 'Language': 'JAP'}\n"
     ]
    },
    {
     "name": "stderr",
     "output_type": "stream",
     "text": [
      "The attention mask and the pad token id were not set. As a consequence, you may observe unexpected behavior. Please pass your input's `attention_mask` to obtain reliable results.\n",
      "Setting `pad_token_id` to `eos_token_id`:50256 for open-end generation.\n"
     ]
    },
    {
     "name": "stdout",
     "output_type": "stream",
     "text": [
      "Finished: row 332 of 500\n",
      "{'ID': 332, 'Username': 'megantaylor_1999', 'Age': 56, 'Country': 'USA', 'CreationDate': '10/14/2013 05:43 AM', 'Description': 'I am a gamer, and I love to play games.', 'FollowerCount': 15521, 'PostCount': 42, 'Language': 'ENG'}\n"
     ]
    },
    {
     "name": "stderr",
     "output_type": "stream",
     "text": [
      "The attention mask and the pad token id were not set. As a consequence, you may observe unexpected behavior. Please pass your input's `attention_mask` to obtain reliable results.\n",
      "Setting `pad_token_id` to `eos_token_id`:50256 for open-end generation.\n"
     ]
    },
    {
     "name": "stdout",
     "output_type": "stream",
     "text": [
      "Finished: row 333 of 500\n",
      "{'ID': 333, 'Username': 'amyfowler_1995', 'Age': 54, 'Country': 'China', 'CreationDate': '01/04/2023 07:47 PM', 'Description': 'The author is a freelance writer and editor. He has written for a variety', 'FollowerCount': 755, 'PostCount': 0, 'Language': 'MAN'}\n"
     ]
    },
    {
     "name": "stderr",
     "output_type": "stream",
     "text": [
      "The attention mask and the pad token id were not set. As a consequence, you may observe unexpected behavior. Please pass your input's `attention_mask` to obtain reliable results.\n",
      "Setting `pad_token_id` to `eos_token_id`:50256 for open-end generation.\n"
     ]
    },
    {
     "name": "stdout",
     "output_type": "stream",
     "text": [
      "Finished: row 334 of 500\n",
      "{'ID': 334, 'Username': 'qgardner_1956', 'Age': 32, 'Country': 'France', 'CreationDate': '11/17/2015 04:50 AM', 'Description': 'The author of this article is a professional photographer and a member of', 'FollowerCount': 5232, 'PostCount': 7, 'Language': 'FRE'}\n"
     ]
    },
    {
     "name": "stderr",
     "output_type": "stream",
     "text": [
      "The attention mask and the pad token id were not set. As a consequence, you may observe unexpected behavior. Please pass your input's `attention_mask` to obtain reliable results.\n",
      "Setting `pad_token_id` to `eos_token_id`:50256 for open-end generation.\n"
     ]
    },
    {
     "name": "stdout",
     "output_type": "stream",
     "text": [
      "Finished: row 335 of 500\n",
      "{'ID': 335, 'Username': 'barrdaniel_1952', 'Age': 49, 'Country': 'France', 'CreationDate': '02/23/2009 11:24 PM', 'Description': 'The first game I ever played was a game called The Game', 'FollowerCount': 8685, 'PostCount': 1, 'Language': 'FRE'}\n"
     ]
    },
    {
     "name": "stderr",
     "output_type": "stream",
     "text": [
      "The attention mask and the pad token id were not set. As a consequence, you may observe unexpected behavior. Please pass your input's `attention_mask` to obtain reliable results.\n",
      "Setting `pad_token_id` to `eos_token_id`:50256 for open-end generation.\n"
     ]
    },
    {
     "name": "stdout",
     "output_type": "stream",
     "text": [
      "Finished: row 336 of 500\n",
      "{'ID': 336, 'Username': 'timothyjackson', 'Age': 54, 'Country': 'Russia', 'CreationDate': '03/14/2008 08:39 AM', 'Description': 'I am a photographer, and I am a sports photographer. I am', 'FollowerCount': 2490, 'PostCount': 111, 'Language': 'RUS'}\n"
     ]
    },
    {
     "name": "stderr",
     "output_type": "stream",
     "text": [
      "The attention mask and the pad token id were not set. As a consequence, you may observe unexpected behavior. Please pass your input's `attention_mask` to obtain reliable results.\n",
      "Setting `pad_token_id` to `eos_token_id`:50256 for open-end generation.\n"
     ]
    },
    {
     "name": "stdout",
     "output_type": "stream",
     "text": [
      "Finished: row 337 of 500\n",
      "{'ID': 337, 'Username': 'ynorris', 'Age': 55, 'Country': 'Russia', 'CreationDate': '03/19/2011 11:59 AM', 'Description': 'The first thing that comes to mind when you think of the name', 'FollowerCount': 18572, 'PostCount': 111, 'Language': 'RUS'}\n"
     ]
    },
    {
     "name": "stderr",
     "output_type": "stream",
     "text": [
      "The attention mask and the pad token id were not set. As a consequence, you may observe unexpected behavior. Please pass your input's `attention_mask` to obtain reliable results.\n",
      "Setting `pad_token_id` to `eos_token_id`:50256 for open-end generation.\n"
     ]
    },
    {
     "name": "stdout",
     "output_type": "stream",
     "text": [
      "Finished: row 338 of 500\n",
      "{'ID': 338, 'Username': 'diaztony', 'Age': 26, 'Country': 'USA', 'CreationDate': '09/13/2019 10:46 PM', 'Description': 'The first ever online game of the year, the World Cup of Hockey,', 'FollowerCount': 936, 'PostCount': 11, 'Language': 'FRE'}\n"
     ]
    },
    {
     "name": "stderr",
     "output_type": "stream",
     "text": [
      "The attention mask and the pad token id were not set. As a consequence, you may observe unexpected behavior. Please pass your input's `attention_mask` to obtain reliable results.\n",
      "Setting `pad_token_id` to `eos_token_id`:50256 for open-end generation.\n"
     ]
    },
    {
     "name": "stdout",
     "output_type": "stream",
     "text": [
      "Finished: row 339 of 500\n",
      "{'ID': 339, 'Username': 'tina07', 'Age': 45, 'Country': 'France', 'CreationDate': '05/22/2014 03:06 AM', 'Description': 'The first ever “Festival of the Future” is', 'FollowerCount': 3351, 'PostCount': 23, 'Language': 'JAP'}\n"
     ]
    },
    {
     "name": "stderr",
     "output_type": "stream",
     "text": [
      "The attention mask and the pad token id were not set. As a consequence, you may observe unexpected behavior. Please pass your input's `attention_mask` to obtain reliable results.\n",
      "Setting `pad_token_id` to `eos_token_id`:50256 for open-end generation.\n"
     ]
    },
    {
     "name": "stdout",
     "output_type": "stream",
     "text": [
      "Finished: row 340 of 500\n",
      "{'ID': 340, 'Username': 'ccastaneda', 'Age': 33, 'Country': 'USA', 'CreationDate': '10/01/2014 08:37 AM', 'Description': 'The Republican Party is the party of the people, the party of the people', 'FollowerCount': 14543, 'PostCount': 12, 'Language': 'ENG'}\n"
     ]
    },
    {
     "name": "stderr",
     "output_type": "stream",
     "text": [
      "The attention mask and the pad token id were not set. As a consequence, you may observe unexpected behavior. Please pass your input's `attention_mask` to obtain reliable results.\n",
      "Setting `pad_token_id` to `eos_token_id`:50256 for open-end generation.\n"
     ]
    },
    {
     "name": "stdout",
     "output_type": "stream",
     "text": [
      "Finished: row 341 of 500\n",
      "{'ID': 341, 'Username': 'smathis_1950', 'Age': 73, 'Country': 'UK', 'CreationDate': '06/29/2009 11:54 PM', 'Description': 'The first of the two-part series on the history of the sport of', 'FollowerCount': 504, 'PostCount': 30, 'Language': 'ENG'}\n"
     ]
    },
    {
     "name": "stderr",
     "output_type": "stream",
     "text": [
      "The attention mask and the pad token id were not set. As a consequence, you may observe unexpected behavior. Please pass your input's `attention_mask` to obtain reliable results.\n",
      "Setting `pad_token_id` to `eos_token_id`:50256 for open-end generation.\n"
     ]
    },
    {
     "name": "stdout",
     "output_type": "stream",
     "text": [
      "Finished: row 342 of 500\n",
      "{'ID': 342, 'Username': 'kimberlyestes', 'Age': '', 'Country': 'UK', 'CreationDate': '04/11/2009 05:00 PM', 'Description': 'The Margin is a new business that is designed to help small businesses grow', 'FollowerCount': 937, 'PostCount': 55, 'Language': 'ENG'}\n"
     ]
    },
    {
     "name": "stderr",
     "output_type": "stream",
     "text": [
      "The attention mask and the pad token id were not set. As a consequence, you may observe unexpected behavior. Please pass your input's `attention_mask` to obtain reliable results.\n",
      "Setting `pad_token_id` to `eos_token_id`:50256 for open-end generation.\n"
     ]
    },
    {
     "name": "stdout",
     "output_type": "stream",
     "text": [
      "Finished: row 343 of 500\n",
      "{'ID': 343, 'Username': 'ehodges_1984', 'Age': 40, 'Country': 'France', 'CreationDate': '04/22/2020 12:04 PM', 'Description': 'The game is a game of strategy, and the player is the', 'FollowerCount': 1809, 'PostCount': 6, 'Language': 'FRE'}\n"
     ]
    },
    {
     "name": "stderr",
     "output_type": "stream",
     "text": [
      "The attention mask and the pad token id were not set. As a consequence, you may observe unexpected behavior. Please pass your input's `attention_mask` to obtain reliable results.\n",
      "Setting `pad_token_id` to `eos_token_id`:50256 for open-end generation.\n"
     ]
    },
    {
     "name": "stdout",
     "output_type": "stream",
     "text": [
      "Finished: row 344 of 500\n",
      "{'ID': 344, 'Username': 'anita03', 'Age': 17, 'Country': 'Russia', 'CreationDate': '11/14/2013 10:48 AM', 'Description': 'I am a young, energetic, and ambitious woman who is looking for a', 'FollowerCount': 3901, 'PostCount': 0, 'Language': 'MAN'}\n"
     ]
    },
    {
     "name": "stderr",
     "output_type": "stream",
     "text": [
      "The attention mask and the pad token id were not set. As a consequence, you may observe unexpected behavior. Please pass your input's `attention_mask` to obtain reliable results.\n",
      "Setting `pad_token_id` to `eos_token_id`:50256 for open-end generation.\n"
     ]
    },
    {
     "name": "stdout",
     "output_type": "stream",
     "text": [
      "Finished: row 345 of 500\n",
      "{'ID': 345, 'Username': 'vwilliams', 'Age': 18, 'Country': 'Russia', 'CreationDate': '01/19/2013 07:38 PM', 'Description': 'The Republican Party is the party of the people, the party of the people', 'FollowerCount': 5662, 'PostCount': 8, 'Language': 'RUS'}\n"
     ]
    },
    {
     "name": "stderr",
     "output_type": "stream",
     "text": [
      "The attention mask and the pad token id were not set. As a consequence, you may observe unexpected behavior. Please pass your input's `attention_mask` to obtain reliable results.\n",
      "Setting `pad_token_id` to `eos_token_id`:50256 for open-end generation.\n"
     ]
    },
    {
     "name": "stdout",
     "output_type": "stream",
     "text": [
      "Finished: row 346 of 500\n",
      "{'ID': 346, 'Username': 'oromero', 'Age': 36, 'Country': 'Russia', 'CreationDate': '06/02/2016 05:40 PM', 'Description': 'I am a travel blogger, and I love to share my experiences and knowledge', 'FollowerCount': 3231, 'PostCount': 31, 'Language': 'ITA'}\n"
     ]
    },
    {
     "name": "stderr",
     "output_type": "stream",
     "text": [
      "The attention mask and the pad token id were not set. As a consequence, you may observe unexpected behavior. Please pass your input's `attention_mask` to obtain reliable results.\n",
      "Setting `pad_token_id` to `eos_token_id`:50256 for open-end generation.\n"
     ]
    },
    {
     "name": "stdout",
     "output_type": "stream",
     "text": [
      "Finished: row 347 of 500\n",
      "{'ID': 347, 'Username': 'pattondean_1950', 'Age': '', 'Country': '', 'CreationDate': '06/25/2022 07:55 AM', 'Description': 'The job offer is for a position in the Finance Department. The', 'FollowerCount': 2011, 'PostCount': 9, 'Language': 'MAN'}\n"
     ]
    },
    {
     "name": "stderr",
     "output_type": "stream",
     "text": [
      "The attention mask and the pad token id were not set. As a consequence, you may observe unexpected behavior. Please pass your input's `attention_mask` to obtain reliable results.\n",
      "Setting `pad_token_id` to `eos_token_id`:50256 for open-end generation.\n"
     ]
    },
    {
     "name": "stdout",
     "output_type": "stream",
     "text": [
      "Finished: row 348 of 500\n",
      "{'ID': 348, 'Username': 'sabrina26_1988', 'Age': '', 'Country': 'Italy', 'CreationDate': '10/21/2016 09:57 AM', 'Description': 'The Republican Party is the party of the rich and the powerful. It is', 'FollowerCount': 6405, 'PostCount': 30, 'Language': 'ITA'}\n"
     ]
    },
    {
     "name": "stderr",
     "output_type": "stream",
     "text": [
      "The attention mask and the pad token id were not set. As a consequence, you may observe unexpected behavior. Please pass your input's `attention_mask` to obtain reliable results.\n",
      "Setting `pad_token_id` to `eos_token_id`:50256 for open-end generation.\n"
     ]
    },
    {
     "name": "stdout",
     "output_type": "stream",
     "text": [
      "Finished: row 349 of 500\n",
      "{'ID': 349, 'Username': 'cameronhurst', 'Age': 34, 'Country': 'UK', 'CreationDate': '08/05/2014 04:29 PM', 'Description': 'The first of the two new galleries in the new building of the Museum of', 'FollowerCount': 1648, 'PostCount': 88, 'Language': 'ENG'}\n"
     ]
    },
    {
     "name": "stderr",
     "output_type": "stream",
     "text": [
      "The attention mask and the pad token id were not set. As a consequence, you may observe unexpected behavior. Please pass your input's `attention_mask` to obtain reliable results.\n",
      "Setting `pad_token_id` to `eos_token_id`:50256 for open-end generation.\n"
     ]
    },
    {
     "name": "stdout",
     "output_type": "stream",
     "text": [
      "Finished: row 350 of 500\n",
      "{'ID': 350, 'Username': 'lawrence83', 'Age': 18, 'Country': 'USA', 'CreationDate': '02/24/2012 01:21 PM', 'Description': 'The most important thing is to be able to play the game. If', 'FollowerCount': 8014, 'PostCount': 17, 'Language': 'ITA'}\n"
     ]
    },
    {
     "name": "stderr",
     "output_type": "stream",
     "text": [
      "The attention mask and the pad token id were not set. As a consequence, you may observe unexpected behavior. Please pass your input's `attention_mask` to obtain reliable results.\n",
      "Setting `pad_token_id` to `eos_token_id`:50256 for open-end generation.\n"
     ]
    },
    {
     "name": "stdout",
     "output_type": "stream",
     "text": [
      "Finished: row 351 of 500\n",
      "{'ID': 351, 'Username': 'kimmiller', 'Age': 55, 'Country': 'Russia', 'CreationDate': '05/01/2017 10:44 AM', 'Description': 'The first ever event for the new game, The Game Awards,', 'FollowerCount': 491, 'PostCount': 2, 'Language': 'FRE'}\n"
     ]
    },
    {
     "name": "stderr",
     "output_type": "stream",
     "text": [
      "The attention mask and the pad token id were not set. As a consequence, you may observe unexpected behavior. Please pass your input's `attention_mask` to obtain reliable results.\n",
      "Setting `pad_token_id` to `eos_token_id`:50256 for open-end generation.\n"
     ]
    },
    {
     "name": "stdout",
     "output_type": "stream",
     "text": [
      "Finished: row 352 of 500\n",
      "{'ID': 352, 'Username': 'brownrobert_1968', 'Age': 29, 'Country': 'Netherlands', 'CreationDate': '07/05/2023 06:50 PM', 'Description': \"I'm a young, handsome, and very smart guy. I'm a\", 'FollowerCount': 24, 'PostCount': 1841, 'Language': 'ENG'}\n"
     ]
    },
    {
     "name": "stderr",
     "output_type": "stream",
     "text": [
      "The attention mask and the pad token id were not set. As a consequence, you may observe unexpected behavior. Please pass your input's `attention_mask` to obtain reliable results.\n",
      "Setting `pad_token_id` to `eos_token_id`:50256 for open-end generation.\n"
     ]
    },
    {
     "name": "stdout",
     "output_type": "stream",
     "text": [
      "Finished: row 353 of 500\n",
      "{'ID': 353, 'Username': 'james52', 'Age': 29, 'Country': 'China', 'CreationDate': '07/07/2010 06:11 PM', 'Description': 'The Republican Party is the party of the rich and the powerful. It', 'FollowerCount': 769, 'PostCount': 18, 'Language': 'GER'}\n"
     ]
    },
    {
     "name": "stderr",
     "output_type": "stream",
     "text": [
      "The attention mask and the pad token id were not set. As a consequence, you may observe unexpected behavior. Please pass your input's `attention_mask` to obtain reliable results.\n",
      "Setting `pad_token_id` to `eos_token_id`:50256 for open-end generation.\n"
     ]
    },
    {
     "name": "stdout",
     "output_type": "stream",
     "text": [
      "Finished: row 354 of 500\n",
      "{'ID': 354, 'Username': 'sprice', 'Age': 44, 'Country': 'Netherlands', 'CreationDate': '03/13/2021 04:23 PM', 'Description': 'The job of the President of the United States is to make sure that the', 'FollowerCount': 3061, 'PostCount': 3, 'Language': 'JAP'}\n"
     ]
    },
    {
     "name": "stderr",
     "output_type": "stream",
     "text": [
      "The attention mask and the pad token id were not set. As a consequence, you may observe unexpected behavior. Please pass your input's `attention_mask` to obtain reliable results.\n",
      "Setting `pad_token_id` to `eos_token_id`:50256 for open-end generation.\n"
     ]
    },
    {
     "name": "stdout",
     "output_type": "stream",
     "text": [
      "Finished: row 355 of 500\n",
      "{'ID': 355, 'Username': '1984_olsoncarol', 'Age': '', 'Country': 'China', 'CreationDate': '11/25/2014 04:16 AM', 'Description': 'The Republican Party is the party of the people, the party of the people', 'FollowerCount': 2428, 'PostCount': 68, 'Language': 'MAN'}\n"
     ]
    },
    {
     "name": "stderr",
     "output_type": "stream",
     "text": [
      "The attention mask and the pad token id were not set. As a consequence, you may observe unexpected behavior. Please pass your input's `attention_mask` to obtain reliable results.\n",
      "Setting `pad_token_id` to `eos_token_id`:50256 for open-end generation.\n"
     ]
    },
    {
     "name": "stdout",
     "output_type": "stream",
     "text": [
      "Finished: row 356 of 500\n",
      "{'ID': 356, 'Username': 'cjones_1957', 'Age': 16, 'Country': 'Russia', 'CreationDate': '08/25/2011 06:11 AM', 'Description': 'The first ever World Cup of Golf was held in the United States', 'FollowerCount': 1465, 'PostCount': 57, 'Language': 'RUS'}\n"
     ]
    },
    {
     "name": "stderr",
     "output_type": "stream",
     "text": [
      "The attention mask and the pad token id were not set. As a consequence, you may observe unexpected behavior. Please pass your input's `attention_mask` to obtain reliable results.\n",
      "Setting `pad_token_id` to `eos_token_id`:50256 for open-end generation.\n"
     ]
    },
    {
     "name": "stdout",
     "output_type": "stream",
     "text": [
      "Finished: row 357 of 500\n",
      "{'ID': 357, 'Username': 'susan86', 'Age': 24, 'Country': 'Italy', 'CreationDate': '02/26/2009 03:26 AM', 'Description': 'I am a photographer, I love to travel, I love to take pictures', 'FollowerCount': 21034, 'PostCount': 11, 'Language': 'ITA'}\n"
     ]
    },
    {
     "name": "stderr",
     "output_type": "stream",
     "text": [
      "The attention mask and the pad token id were not set. As a consequence, you may observe unexpected behavior. Please pass your input's `attention_mask` to obtain reliable results.\n",
      "Setting `pad_token_id` to `eos_token_id`:50256 for open-end generation.\n"
     ]
    },
    {
     "name": "stdout",
     "output_type": "stream",
     "text": [
      "Finished: row 358 of 500\n",
      "{'ID': 358, 'Username': '1989_acostakenneth', 'Age': 37, 'Country': 'Germany', 'CreationDate': '01/01/2017 07:59 AM', 'Description': 'The game is a game of survival, and the player is the hunter', 'FollowerCount': 11902, 'PostCount': 30, 'Language': 'JAP'}\n"
     ]
    },
    {
     "name": "stderr",
     "output_type": "stream",
     "text": [
      "The attention mask and the pad token id were not set. As a consequence, you may observe unexpected behavior. Please pass your input's `attention_mask` to obtain reliable results.\n",
      "Setting `pad_token_id` to `eos_token_id`:50256 for open-end generation.\n"
     ]
    },
    {
     "name": "stdout",
     "output_type": "stream",
     "text": [
      "Finished: row 359 of 500\n",
      "{'ID': 359, 'Username': 'samantha10', 'Age': 56, 'Country': 'Netherlands', 'CreationDate': '01/28/2020 07:55 PM', 'Description': 'I am a very active person, I love to travel, I love to', 'FollowerCount': 1597, 'PostCount': 15, 'Language': 'NED'}\n"
     ]
    },
    {
     "name": "stderr",
     "output_type": "stream",
     "text": [
      "The attention mask and the pad token id were not set. As a consequence, you may observe unexpected behavior. Please pass your input's `attention_mask` to obtain reliable results.\n",
      "Setting `pad_token_id` to `eos_token_id`:50256 for open-end generation.\n"
     ]
    },
    {
     "name": "stdout",
     "output_type": "stream",
     "text": [
      "Finished: row 360 of 500\n",
      "{'ID': 360, 'Username': 'bradleystephens_1975', 'Age': 30, 'Country': 'USA', 'CreationDate': '11/18/2023 10:56 AM', 'Description': 'A:I think you can use the following:', 'FollowerCount': 10, 'PostCount': 1, 'Language': 'ENG'}\n"
     ]
    },
    {
     "name": "stderr",
     "output_type": "stream",
     "text": [
      "The attention mask and the pad token id were not set. As a consequence, you may observe unexpected behavior. Please pass your input's `attention_mask` to obtain reliable results.\n",
      "Setting `pad_token_id` to `eos_token_id`:50256 for open-end generation.\n"
     ]
    },
    {
     "name": "stdout",
     "output_type": "stream",
     "text": [
      "Finished: row 361 of 500\n",
      "{'ID': 361, 'Username': 'jenkinsnancy_1964', 'Age': 46, 'Country': 'Italy', 'CreationDate': '05/09/2012 06:42 PM', 'Description': 'The event is a fun and educational way to learn about the history of the', 'FollowerCount': 3281, 'PostCount': 45, 'Language': 'GER'}\n"
     ]
    },
    {
     "name": "stderr",
     "output_type": "stream",
     "text": [
      "The attention mask and the pad token id were not set. As a consequence, you may observe unexpected behavior. Please pass your input's `attention_mask` to obtain reliable results.\n",
      "Setting `pad_token_id` to `eos_token_id`:50256 for open-end generation.\n"
     ]
    },
    {
     "name": "stdout",
     "output_type": "stream",
     "text": [
      "Finished: row 362 of 500\n",
      "{'ID': 362, 'Username': 'rodriguezchristina', 'Age': 23, 'Country': 'France', 'CreationDate': '07/17/2015 02:58 PM', 'Description': 'The first and only female president of the United States, Michelle Obama, has', 'FollowerCount': 3269, 'PostCount': 41, 'Language': 'ENG'}\n"
     ]
    },
    {
     "name": "stderr",
     "output_type": "stream",
     "text": [
      "The attention mask and the pad token id were not set. As a consequence, you may observe unexpected behavior. Please pass your input's `attention_mask` to obtain reliable results.\n",
      "Setting `pad_token_id` to `eos_token_id`:50256 for open-end generation.\n"
     ]
    },
    {
     "name": "stdout",
     "output_type": "stream",
     "text": [
      "Finished: row 363 of 500\n",
      "{'ID': 363, 'Username': 'andrea64_1980', 'Age': 35, 'Country': 'Netherlands', 'CreationDate': '07/25/2016 09:22 AM', 'Description': 'I am a travel writer and photographer. I have been traveling for', 'FollowerCount': 3918, 'PostCount': 28, 'Language': 'JAP'}\n"
     ]
    },
    {
     "name": "stderr",
     "output_type": "stream",
     "text": [
      "The attention mask and the pad token id were not set. As a consequence, you may observe unexpected behavior. Please pass your input's `attention_mask` to obtain reliable results.\n",
      "Setting `pad_token_id` to `eos_token_id`:50256 for open-end generation.\n"
     ]
    },
    {
     "name": "stdout",
     "output_type": "stream",
     "text": [
      "Finished: row 364 of 500\n",
      "{'ID': 364, 'Username': 'jacob02', 'Age': 63, 'Country': 'Germany', 'CreationDate': '05/28/2021 04:30 PM', 'Description': 'I am a very active member of the community, and I am', 'FollowerCount': 1580, 'PostCount': 11, 'Language': 'JAP'}\n"
     ]
    },
    {
     "name": "stderr",
     "output_type": "stream",
     "text": [
      "The attention mask and the pad token id were not set. As a consequence, you may observe unexpected behavior. Please pass your input's `attention_mask` to obtain reliable results.\n",
      "Setting `pad_token_id` to `eos_token_id`:50256 for open-end generation.\n"
     ]
    },
    {
     "name": "stdout",
     "output_type": "stream",
     "text": [
      "Finished: row 365 of 500\n",
      "{'ID': 365, 'Username': 'kyleadkins', 'Age': 22, 'Country': 'Russia', 'CreationDate': '02/07/2015 11:57 AM', 'Description': \"I'm a gamer, a traveler, and a writer. I'm a\", 'FollowerCount': 4322, 'PostCount': 11, 'Language': 'FRE'}\n"
     ]
    },
    {
     "name": "stderr",
     "output_type": "stream",
     "text": [
      "The attention mask and the pad token id were not set. As a consequence, you may observe unexpected behavior. Please pass your input's `attention_mask` to obtain reliable results.\n",
      "Setting `pad_token_id` to `eos_token_id`:50256 for open-end generation.\n"
     ]
    },
    {
     "name": "stdout",
     "output_type": "stream",
     "text": [
      "Finished: row 366 of 500\n",
      "{'ID': 366, 'Username': 'currystephen', 'Age': 28, 'Country': 'Japan', 'CreationDate': '09/13/2015 11:11 PM', 'Description': 'I am a full time student at the University of Toronto. I', 'FollowerCount': 4917, 'PostCount': 39, 'Language': 'JAP'}\n"
     ]
    },
    {
     "name": "stderr",
     "output_type": "stream",
     "text": [
      "The attention mask and the pad token id were not set. As a consequence, you may observe unexpected behavior. Please pass your input's `attention_mask` to obtain reliable results.\n",
      "Setting `pad_token_id` to `eos_token_id`:50256 for open-end generation.\n"
     ]
    },
    {
     "name": "stdout",
     "output_type": "stream",
     "text": [
      "Finished: row 367 of 500\n",
      "{'ID': 367, 'Username': 'kimderrick', 'Age': '', 'Country': 'UK', 'CreationDate': '11/03/2016 04:25 PM', 'Description': 'The Federal Reserve Bank of New York is the central bank of the United States', 'FollowerCount': 10890, 'PostCount': 4, 'Language': 'ENG'}\n"
     ]
    },
    {
     "name": "stderr",
     "output_type": "stream",
     "text": [
      "The attention mask and the pad token id were not set. As a consequence, you may observe unexpected behavior. Please pass your input's `attention_mask` to obtain reliable results.\n",
      "Setting `pad_token_id` to `eos_token_id`:50256 for open-end generation.\n"
     ]
    },
    {
     "name": "stdout",
     "output_type": "stream",
     "text": [
      "Finished: row 368 of 500\n",
      "{'ID': 368, 'Username': 'nicole94_1995', 'Age': 24, 'Country': 'Russia', 'CreationDate': '03/30/2015 12:09 PM', 'Description': 'The game is a game of strategy, and the players are the players', 'FollowerCount': 3925, 'PostCount': 56, 'Language': 'RUS'}\n"
     ]
    },
    {
     "name": "stderr",
     "output_type": "stream",
     "text": [
      "The attention mask and the pad token id were not set. As a consequence, you may observe unexpected behavior. Please pass your input's `attention_mask` to obtain reliable results.\n",
      "Setting `pad_token_id` to `eos_token_id`:50256 for open-end generation.\n"
     ]
    },
    {
     "name": "stdout",
     "output_type": "stream",
     "text": [
      "Finished: row 369 of 500\n",
      "{'ID': 369, 'Username': 'gpowers_1953', 'Age': 89, 'Country': '', 'CreationDate': '02/16/2023 07:24 PM', 'Description': 'The first ever World Cup of Golf was held in 1953. The', 'FollowerCount': 1026, 'PostCount': 1, 'Language': 'NED'}\n"
     ]
    },
    {
     "name": "stderr",
     "output_type": "stream",
     "text": [
      "The attention mask and the pad token id were not set. As a consequence, you may observe unexpected behavior. Please pass your input's `attention_mask` to obtain reliable results.\n",
      "Setting `pad_token_id` to `eos_token_id`:50256 for open-end generation.\n"
     ]
    },
    {
     "name": "stdout",
     "output_type": "stream",
     "text": [
      "Finished: row 370 of 500\n",
      "{'ID': 370, 'Username': 'ubyrd', 'Age': 70, 'Country': 'Germany', 'CreationDate': '05/04/2019 10:30 AM', 'Description': 'The first of the three great books of the Bible, the Book of', 'FollowerCount': 7712, 'PostCount': 34, 'Language': 'FRE'}\n"
     ]
    },
    {
     "name": "stderr",
     "output_type": "stream",
     "text": [
      "The attention mask and the pad token id were not set. As a consequence, you may observe unexpected behavior. Please pass your input's `attention_mask` to obtain reliable results.\n",
      "Setting `pad_token_id` to `eos_token_id`:50256 for open-end generation.\n"
     ]
    },
    {
     "name": "stdout",
     "output_type": "stream",
     "text": [
      "Finished: row 371 of 500\n",
      "{'ID': 371, 'Username': 'rachelrobinson', 'Age': 31, 'Country': 'Germany', 'CreationDate': '12/08/2021 03:00 PM', 'Description': 'The Republican Party is the party of the people, the party of the people', 'FollowerCount': 2143, 'PostCount': 1, 'Language': 'FRE'}\n"
     ]
    },
    {
     "name": "stderr",
     "output_type": "stream",
     "text": [
      "The attention mask and the pad token id were not set. As a consequence, you may observe unexpected behavior. Please pass your input's `attention_mask` to obtain reliable results.\n",
      "Setting `pad_token_id` to `eos_token_id`:50256 for open-end generation.\n"
     ]
    },
    {
     "name": "stdout",
     "output_type": "stream",
     "text": [
      "Finished: row 372 of 500\n",
      "{'ID': 372, 'Username': '1990_davissandra', 'Age': 24, 'Country': 'France', 'CreationDate': '09/27/2008 01:33 AM', 'Description': 'The Republican Party is the party of the people, the party of the', 'FollowerCount': 7249, 'PostCount': 13, 'Language': 'FRE'}\n"
     ]
    },
    {
     "name": "stderr",
     "output_type": "stream",
     "text": [
      "The attention mask and the pad token id were not set. As a consequence, you may observe unexpected behavior. Please pass your input's `attention_mask` to obtain reliable results.\n",
      "Setting `pad_token_id` to `eos_token_id`:50256 for open-end generation.\n"
     ]
    },
    {
     "name": "stdout",
     "output_type": "stream",
     "text": [
      "Finished: row 373 of 500\n",
      "{'ID': 373, 'Username': '1972_donnabryant', 'Age': 45, 'Country': 'China', 'CreationDate': '09/18/2014 12:15 AM', 'Description': \"'The author is a zoologist and a professor of zoology at the\", 'FollowerCount': 2728, 'PostCount': 10, 'Language': 'MAN'}\n"
     ]
    },
    {
     "name": "stderr",
     "output_type": "stream",
     "text": [
      "The attention mask and the pad token id were not set. As a consequence, you may observe unexpected behavior. Please pass your input's `attention_mask` to obtain reliable results.\n",
      "Setting `pad_token_id` to `eos_token_id`:50256 for open-end generation.\n"
     ]
    },
    {
     "name": "stdout",
     "output_type": "stream",
     "text": [
      "Finished: row 374 of 500\n",
      "{'ID': 374, 'Username': 'ericclark', 'Age': 37, 'Country': 'Russia', 'CreationDate': '12/05/2018 06:59 PM', 'Description': 'The first thing you should know about this site is that it is a photo', 'FollowerCount': 4121, 'PostCount': 3, 'Language': 'RUS'}\n"
     ]
    },
    {
     "name": "stderr",
     "output_type": "stream",
     "text": [
      "The attention mask and the pad token id were not set. As a consequence, you may observe unexpected behavior. Please pass your input's `attention_mask` to obtain reliable results.\n",
      "Setting `pad_token_id` to `eos_token_id`:50256 for open-end generation.\n"
     ]
    },
    {
     "name": "stdout",
     "output_type": "stream",
     "text": [
      "Finished: row 375 of 500\n",
      "{'ID': 375, 'Username': 'valerieglover', 'Age': '', 'Country': 'Netherlands', 'CreationDate': '09/17/2021 05:10 PM', 'Description': 'The event is a great opportunity to meet new people and get to know the', 'FollowerCount': 234, 'PostCount': 5, 'Language': 'FRE'}\n"
     ]
    },
    {
     "name": "stderr",
     "output_type": "stream",
     "text": [
      "The attention mask and the pad token id were not set. As a consequence, you may observe unexpected behavior. Please pass your input's `attention_mask` to obtain reliable results.\n",
      "Setting `pad_token_id` to `eos_token_id`:50256 for open-end generation.\n"
     ]
    },
    {
     "name": "stdout",
     "output_type": "stream",
     "text": [
      "Finished: row 376 of 500\n",
      "{'ID': 376, 'Username': 'cjohnson', 'Age': 31, 'Country': 'UK', 'CreationDate': '02/26/2016 03:39 AM', 'Description': 'The Republican Party is in a state of flux. The party is in', 'FollowerCount': 3004, 'PostCount': 5, 'Language': 'ENG'}\n"
     ]
    },
    {
     "name": "stderr",
     "output_type": "stream",
     "text": [
      "The attention mask and the pad token id were not set. As a consequence, you may observe unexpected behavior. Please pass your input's `attention_mask` to obtain reliable results.\n",
      "Setting `pad_token_id` to `eos_token_id`:50256 for open-end generation.\n"
     ]
    },
    {
     "name": "stdout",
     "output_type": "stream",
     "text": [
      "Finished: row 377 of 500\n",
      "{'ID': 377, 'Username': 'jennifer13_1976', 'Age': 32, 'Country': 'UK', 'CreationDate': '11/20/2022 09:35 PM', 'Description': 'The first of the two new images to be released by the National Geographic', 'FollowerCount': 725, 'PostCount': 11, 'Language': 'ENG'}\n"
     ]
    },
    {
     "name": "stderr",
     "output_type": "stream",
     "text": [
      "The attention mask and the pad token id were not set. As a consequence, you may observe unexpected behavior. Please pass your input's `attention_mask` to obtain reliable results.\n",
      "Setting `pad_token_id` to `eos_token_id`:50256 for open-end generation.\n"
     ]
    },
    {
     "name": "stdout",
     "output_type": "stream",
     "text": [
      "Finished: row 378 of 500\n",
      "{'ID': 378, 'Username': 'whitestephanie_1994', 'Age': '', 'Country': 'Germany', 'CreationDate': '12/18/2016 06:18 AM', 'Description': 'The first thing I noticed about this picture was the fact that it', 'FollowerCount': 11294, 'PostCount': 9, 'Language': 'GER'}\n"
     ]
    },
    {
     "name": "stderr",
     "output_type": "stream",
     "text": [
      "The attention mask and the pad token id were not set. As a consequence, you may observe unexpected behavior. Please pass your input's `attention_mask` to obtain reliable results.\n",
      "Setting `pad_token_id` to `eos_token_id`:50256 for open-end generation.\n"
     ]
    },
    {
     "name": "stdout",
     "output_type": "stream",
     "text": [
      "Finished: row 379 of 500\n",
      "{'ID': 379, 'Username': '2002_kevinmatthews', 'Age': 36, 'Country': 'UK', 'CreationDate': '11/14/2016 07:02 PM', 'Description': 'The author is a retired U.S. Air Force officer and a', 'FollowerCount': 3854, 'PostCount': 31, 'Language': 'ENG'}\n"
     ]
    },
    {
     "name": "stderr",
     "output_type": "stream",
     "text": [
      "The attention mask and the pad token id were not set. As a consequence, you may observe unexpected behavior. Please pass your input's `attention_mask` to obtain reliable results.\n",
      "Setting `pad_token_id` to `eos_token_id`:50256 for open-end generation.\n"
     ]
    },
    {
     "name": "stdout",
     "output_type": "stream",
     "text": [
      "Finished: row 380 of 500\n",
      "{'ID': 380, 'Username': 'zgarcia', 'Age': 56, 'Country': 'Netherlands', 'CreationDate': '11/24/2019 03:04 PM', 'Description': 'The game is a real-time strategy game, where you have to build', 'FollowerCount': 1225, 'PostCount': 17, 'Language': 'NED'}\n"
     ]
    },
    {
     "name": "stderr",
     "output_type": "stream",
     "text": [
      "The attention mask and the pad token id were not set. As a consequence, you may observe unexpected behavior. Please pass your input's `attention_mask` to obtain reliable results.\n",
      "Setting `pad_token_id` to `eos_token_id`:50256 for open-end generation.\n"
     ]
    },
    {
     "name": "stdout",
     "output_type": "stream",
     "text": [
      "Finished: row 381 of 500\n",
      "{'ID': 381, 'Username': 'jacqueline18', 'Age': 32, 'Country': 'Germany', 'CreationDate': '01/09/2017 10:25 PM', 'Description': 'I am a very active person, I love to travel, I love to', 'FollowerCount': 6950, 'PostCount': 7, 'Language': 'ITA'}\n"
     ]
    },
    {
     "name": "stderr",
     "output_type": "stream",
     "text": [
      "The attention mask and the pad token id were not set. As a consequence, you may observe unexpected behavior. Please pass your input's `attention_mask` to obtain reliable results.\n",
      "Setting `pad_token_id` to `eos_token_id`:50256 for open-end generation.\n"
     ]
    },
    {
     "name": "stdout",
     "output_type": "stream",
     "text": [
      "Finished: row 382 of 500\n",
      "{'ID': 382, 'Username': 'jwade', 'Age': 58, 'Country': 'Germany', 'CreationDate': '08/24/2016 04:51 PM', 'Description': 'I am a sports journalist and photographer. I have been working in', 'FollowerCount': 6788, 'PostCount': 19, 'Language': 'GER'}\n"
     ]
    },
    {
     "name": "stderr",
     "output_type": "stream",
     "text": [
      "The attention mask and the pad token id were not set. As a consequence, you may observe unexpected behavior. Please pass your input's `attention_mask` to obtain reliable results.\n",
      "Setting `pad_token_id` to `eos_token_id`:50256 for open-end generation.\n"
     ]
    },
    {
     "name": "stdout",
     "output_type": "stream",
     "text": [
      "Finished: row 383 of 500\n",
      "{'ID': 383, 'Username': 'goodwinpatricia', 'Age': '', 'Country': 'Russia', 'CreationDate': '09/17/2015 07:58 PM', 'Description': 'The event is a great opportunity to meet other members of the community and get', 'FollowerCount': 1336, 'PostCount': 21, 'Language': 'FRE'}\n"
     ]
    },
    {
     "name": "stderr",
     "output_type": "stream",
     "text": [
      "The attention mask and the pad token id were not set. As a consequence, you may observe unexpected behavior. Please pass your input's `attention_mask` to obtain reliable results.\n",
      "Setting `pad_token_id` to `eos_token_id`:50256 for open-end generation.\n"
     ]
    },
    {
     "name": "stdout",
     "output_type": "stream",
     "text": [
      "Finished: row 384 of 500\n",
      "{'ID': 384, 'Username': '1957_darrell57', 'Age': 45, 'Country': 'USA', 'CreationDate': '04/05/2015 11:04 AM', 'Description': 'The first of the two-part series on the life and times of', 'FollowerCount': 9881, 'PostCount': 50, 'Language': 'MAN'}\n"
     ]
    },
    {
     "name": "stderr",
     "output_type": "stream",
     "text": [
      "The attention mask and the pad token id were not set. As a consequence, you may observe unexpected behavior. Please pass your input's `attention_mask` to obtain reliable results.\n",
      "Setting `pad_token_id` to `eos_token_id`:50256 for open-end generation.\n"
     ]
    },
    {
     "name": "stdout",
     "output_type": "stream",
     "text": [
      "Finished: row 385 of 500\n",
      "{'ID': 385, 'Username': 'melissa04_2004', 'Age': 37, 'Country': 'Netherlands', 'CreationDate': '06/06/2015 10:08 AM', 'Description': \"I'm a girl who loves to play games, and I'm\", 'FollowerCount': 513, 'PostCount': 40, 'Language': 'NED'}\n"
     ]
    },
    {
     "name": "stderr",
     "output_type": "stream",
     "text": [
      "The attention mask and the pad token id were not set. As a consequence, you may observe unexpected behavior. Please pass your input's `attention_mask` to obtain reliable results.\n",
      "Setting `pad_token_id` to `eos_token_id`:50256 for open-end generation.\n"
     ]
    },
    {
     "name": "stdout",
     "output_type": "stream",
     "text": [
      "Finished: row 386 of 500\n",
      "{'ID': 386, 'Username': '1961_gravesjohn', 'Age': 52, 'Country': 'UK', 'CreationDate': '09/16/2008 02:35 PM', 'Description': 'The game is a game of strategy, and the player is the', 'FollowerCount': 4819, 'PostCount': 12, 'Language': 'NED'}\n"
     ]
    },
    {
     "name": "stderr",
     "output_type": "stream",
     "text": [
      "The attention mask and the pad token id were not set. As a consequence, you may observe unexpected behavior. Please pass your input's `attention_mask` to obtain reliable results.\n",
      "Setting `pad_token_id` to `eos_token_id`:50256 for open-end generation.\n"
     ]
    },
    {
     "name": "stdout",
     "output_type": "stream",
     "text": [
      "Finished: row 387 of 500\n",
      "{'ID': 387, 'Username': 'richardsonmatthew_1970', 'Age': 45, 'Country': 'UK', 'CreationDate': '07/04/2016 02:27 AM', 'Description': 'The first ever British team to win the World Cup in the 50s,', 'FollowerCount': 4918, 'PostCount': 24, 'Language': 'ENG'}\n"
     ]
    },
    {
     "name": "stderr",
     "output_type": "stream",
     "text": [
      "The attention mask and the pad token id were not set. As a consequence, you may observe unexpected behavior. Please pass your input's `attention_mask` to obtain reliable results.\n",
      "Setting `pad_token_id` to `eos_token_id`:50256 for open-end generation.\n"
     ]
    },
    {
     "name": "stdout",
     "output_type": "stream",
     "text": [
      "Finished: row 388 of 500\n",
      "{'ID': 388, 'Username': 'andrea89', 'Age': 73, 'Country': 'Italy', 'CreationDate': '09/22/2014 12:22 AM', 'Description': 'I am a professional photographer and I am looking for a job in the field', 'FollowerCount': 2112, 'PostCount': 9, 'Language': 'NED'}\n"
     ]
    },
    {
     "name": "stderr",
     "output_type": "stream",
     "text": [
      "The attention mask and the pad token id were not set. As a consequence, you may observe unexpected behavior. Please pass your input's `attention_mask` to obtain reliable results.\n",
      "Setting `pad_token_id` to `eos_token_id`:50256 for open-end generation.\n"
     ]
    },
    {
     "name": "stdout",
     "output_type": "stream",
     "text": [
      "Finished: row 389 of 500\n",
      "{'ID': 389, 'Username': 'sandersjohn', 'Age': 59, 'Country': 'UK', 'CreationDate': '12/06/2014 07:43 AM', 'Description': 'I am a professional photographer and I have been shooting for over 10', 'FollowerCount': 3995, 'PostCount': 84, 'Language': 'ENG'}\n"
     ]
    },
    {
     "name": "stderr",
     "output_type": "stream",
     "text": [
      "The attention mask and the pad token id were not set. As a consequence, you may observe unexpected behavior. Please pass your input's `attention_mask` to obtain reliable results.\n",
      "Setting `pad_token_id` to `eos_token_id`:50256 for open-end generation.\n"
     ]
    },
    {
     "name": "stdout",
     "output_type": "stream",
     "text": [
      "Finished: row 390 of 500\n",
      "{'ID': 390, 'Username': '1965_hespinoza', 'Age': 19, 'Country': 'China', 'CreationDate': '03/08/2013 11:29 PM', 'Description': 'The Italian government has been trying to get the Italian people to travel more,', 'FollowerCount': 1520, 'PostCount': 76, 'Language': 'JAP'}\n"
     ]
    },
    {
     "name": "stderr",
     "output_type": "stream",
     "text": [
      "The attention mask and the pad token id were not set. As a consequence, you may observe unexpected behavior. Please pass your input's `attention_mask` to obtain reliable results.\n",
      "Setting `pad_token_id` to `eos_token_id`:50256 for open-end generation.\n"
     ]
    },
    {
     "name": "stdout",
     "output_type": "stream",
     "text": [
      "Finished: row 391 of 500\n",
      "{'ID': 391, 'Username': 'ureynolds', 'Age': 28, 'Country': 'Italy', 'CreationDate': '03/29/2012 02:38 PM', 'Description': 'The event is a fun and interactive workshop that will introduce you to', 'FollowerCount': 3707, 'PostCount': 9, 'Language': 'ITA'}\n"
     ]
    },
    {
     "name": "stderr",
     "output_type": "stream",
     "text": [
      "The attention mask and the pad token id were not set. As a consequence, you may observe unexpected behavior. Please pass your input's `attention_mask` to obtain reliable results.\n",
      "Setting `pad_token_id` to `eos_token_id`:50256 for open-end generation.\n"
     ]
    },
    {
     "name": "stdout",
     "output_type": "stream",
     "text": [
      "Finished: row 392 of 500\n",
      "{'ID': 392, 'Username': 'eshelton', 'Age': 24, 'Country': 'Germany', 'CreationDate': '05/26/2012 09:33 AM', 'Description': 'The University of South Carolina is a public research university located in Columbia, South', 'FollowerCount': 993, 'PostCount': 64, 'Language': 'JAP'}\n"
     ]
    },
    {
     "name": "stderr",
     "output_type": "stream",
     "text": [
      "The attention mask and the pad token id were not set. As a consequence, you may observe unexpected behavior. Please pass your input's `attention_mask` to obtain reliable results.\n",
      "Setting `pad_token_id` to `eos_token_id`:50256 for open-end generation.\n"
     ]
    },
    {
     "name": "stdout",
     "output_type": "stream",
     "text": [
      "Finished: row 393 of 500\n",
      "{'ID': 393, 'Username': 'hillkaitlyn', 'Age': 28, 'Country': 'Japan', 'CreationDate': '05/01/2021 02:53 AM', 'Description': 'The Republican Party is the party of the people, the party of the people', 'FollowerCount': 336, 'PostCount': 20, 'Language': 'JAP'}\n"
     ]
    },
    {
     "name": "stderr",
     "output_type": "stream",
     "text": [
      "The attention mask and the pad token id were not set. As a consequence, you may observe unexpected behavior. Please pass your input's `attention_mask` to obtain reliable results.\n",
      "Setting `pad_token_id` to `eos_token_id`:50256 for open-end generation.\n"
     ]
    },
    {
     "name": "stdout",
     "output_type": "stream",
     "text": [
      "Finished: row 394 of 500\n",
      "{'ID': 394, 'Username': 'millsnicholas_1974', 'Age': 21, 'Country': 'France', 'CreationDate': '02/24/2014 09:34 PM', 'Description': 'The author is a former Republican member of the U.S. House', 'FollowerCount': 3061, 'PostCount': 25, 'Language': 'FRE'}\n"
     ]
    },
    {
     "name": "stderr",
     "output_type": "stream",
     "text": [
      "The attention mask and the pad token id were not set. As a consequence, you may observe unexpected behavior. Please pass your input's `attention_mask` to obtain reliable results.\n",
      "Setting `pad_token_id` to `eos_token_id`:50256 for open-end generation.\n"
     ]
    },
    {
     "name": "stdout",
     "output_type": "stream",
     "text": [
      "Finished: row 395 of 500\n",
      "{'ID': 395, 'Username': 'hendersonjenna', 'Age': 31, 'Country': 'Russia', 'CreationDate': '11/14/2017 07:32 AM', 'Description': \"The best place to see the world's most beautiful animals is in the wild\", 'FollowerCount': 2222, 'PostCount': 17, 'Language': 'RUS'}\n"
     ]
    },
    {
     "name": "stderr",
     "output_type": "stream",
     "text": [
      "The attention mask and the pad token id were not set. As a consequence, you may observe unexpected behavior. Please pass your input's `attention_mask` to obtain reliable results.\n",
      "Setting `pad_token_id` to `eos_token_id`:50256 for open-end generation.\n"
     ]
    },
    {
     "name": "stdout",
     "output_type": "stream",
     "text": [
      "Finished: row 396 of 500\n",
      "{'ID': 396, 'Username': '1962_katieestrada', 'Age': 22, 'Country': 'Italy', 'CreationDate': '07/01/2021 02:23 AM', 'Description': 'The Republican Party is the party of the people, the party of the people', 'FollowerCount': 1731, 'PostCount': 2, 'Language': 'ITA'}\n"
     ]
    },
    {
     "name": "stderr",
     "output_type": "stream",
     "text": [
      "The attention mask and the pad token id were not set. As a consequence, you may observe unexpected behavior. Please pass your input's `attention_mask` to obtain reliable results.\n",
      "Setting `pad_token_id` to `eos_token_id`:50256 for open-end generation.\n"
     ]
    },
    {
     "name": "stdout",
     "output_type": "stream",
     "text": [
      "Finished: row 397 of 500\n",
      "{'ID': 397, 'Username': 'katie19', 'Age': 29, 'Country': 'Germany', 'CreationDate': '08/19/2012 08:02 AM', 'Description': 'I am a full time student at the University of Toronto, studying', 'FollowerCount': 3805, 'PostCount': 156, 'Language': 'GER'}\n"
     ]
    },
    {
     "name": "stderr",
     "output_type": "stream",
     "text": [
      "The attention mask and the pad token id were not set. As a consequence, you may observe unexpected behavior. Please pass your input's `attention_mask` to obtain reliable results.\n",
      "Setting `pad_token_id` to `eos_token_id`:50256 for open-end generation.\n"
     ]
    },
    {
     "name": "stdout",
     "output_type": "stream",
     "text": [
      "Finished: row 398 of 500\n",
      "{'ID': 398, 'Username': 'katherinenolan', 'Age': 44, 'Country': 'UK', 'CreationDate': '10/29/2022 09:52 AM', 'Description': 'The event is about the Republican Party and the future of the Republican Party.', 'FollowerCount': 398, 'PostCount': 2, 'Language': 'ENG'}\n"
     ]
    },
    {
     "name": "stderr",
     "output_type": "stream",
     "text": [
      "The attention mask and the pad token id were not set. As a consequence, you may observe unexpected behavior. Please pass your input's `attention_mask` to obtain reliable results.\n",
      "Setting `pad_token_id` to `eos_token_id`:50256 for open-end generation.\n"
     ]
    },
    {
     "name": "stdout",
     "output_type": "stream",
     "text": [
      "Finished: row 399 of 500\n",
      "{'ID': 399, 'Username': 'earnold_1969', 'Age': '', 'Country': 'Italy', 'CreationDate': '03/02/2023 04:38 PM', 'Description': 'The job offer is for a position in the Finance Department. The position is', 'FollowerCount': 582, 'PostCount': 1, 'Language': 'ITA'}\n"
     ]
    },
    {
     "name": "stderr",
     "output_type": "stream",
     "text": [
      "The attention mask and the pad token id were not set. As a consequence, you may observe unexpected behavior. Please pass your input's `attention_mask` to obtain reliable results.\n",
      "Setting `pad_token_id` to `eos_token_id`:50256 for open-end generation.\n"
     ]
    },
    {
     "name": "stdout",
     "output_type": "stream",
     "text": [
      "Finished: row 400 of 500\n",
      "{'ID': 400, 'Username': 'rhodesderek', 'Age': 51, 'Country': 'Japan', 'CreationDate': '04/28/2020 06:16 AM', 'Description': 'I am a Ukrainian journalist, writer, and blogger. I am', 'FollowerCount': 133, 'PostCount': 30418, 'Language': 'ENG'}\n"
     ]
    },
    {
     "name": "stderr",
     "output_type": "stream",
     "text": [
      "The attention mask and the pad token id were not set. As a consequence, you may observe unexpected behavior. Please pass your input's `attention_mask` to obtain reliable results.\n",
      "Setting `pad_token_id` to `eos_token_id`:50256 for open-end generation.\n"
     ]
    },
    {
     "name": "stdout",
     "output_type": "stream",
     "text": [
      "Finished: row 401 of 500\n",
      "{'ID': 401, 'Username': 'wandagross_1993', 'Age': '', 'Country': 'UK', 'CreationDate': '11/24/2022 05:11 AM', 'Description': 'The company is a global provider of software and services for the financial services industry', 'FollowerCount': 569, 'PostCount': 5, 'Language': 'NED'}\n"
     ]
    },
    {
     "name": "stderr",
     "output_type": "stream",
     "text": [
      "The attention mask and the pad token id were not set. As a consequence, you may observe unexpected behavior. Please pass your input's `attention_mask` to obtain reliable results.\n",
      "Setting `pad_token_id` to `eos_token_id`:50256 for open-end generation.\n"
     ]
    },
    {
     "name": "stdout",
     "output_type": "stream",
     "text": [
      "Finished: row 402 of 500\n",
      "{'ID': 402, 'Username': 'nicolepatterson_1995', 'Age': '', 'Country': 'Italy', 'CreationDate': '10/21/2018 07:20 AM', 'Description': 'The author is a professor of economics at the University of California, Berkeley', 'FollowerCount': 718, 'PostCount': 1, 'Language': 'ITA'}\n"
     ]
    },
    {
     "name": "stderr",
     "output_type": "stream",
     "text": [
      "The attention mask and the pad token id were not set. As a consequence, you may observe unexpected behavior. Please pass your input's `attention_mask` to obtain reliable results.\n",
      "Setting `pad_token_id` to `eos_token_id`:50256 for open-end generation.\n"
     ]
    },
    {
     "name": "stdout",
     "output_type": "stream",
     "text": [
      "Finished: row 403 of 500\n",
      "{'ID': 403, 'Username': 'kanesean_2000', 'Age': 51, 'Country': 'Japan', 'CreationDate': '06/05/2021 10:39 AM', 'Description': 'The first of the two-part series on the history of the Japanese', 'FollowerCount': 1230, 'PostCount': 2, 'Language': 'FRE'}\n"
     ]
    },
    {
     "name": "stderr",
     "output_type": "stream",
     "text": [
      "The attention mask and the pad token id were not set. As a consequence, you may observe unexpected behavior. Please pass your input's `attention_mask` to obtain reliable results.\n",
      "Setting `pad_token_id` to `eos_token_id`:50256 for open-end generation.\n"
     ]
    },
    {
     "name": "stdout",
     "output_type": "stream",
     "text": [
      "Finished: row 404 of 500\n",
      "{'ID': 404, 'Username': 'peter16', 'Age': 44, 'Country': 'Germany', 'CreationDate': '12/08/2023 08:37 PM', 'Description': 'I am a fun loving, creative, and creative person. I', 'FollowerCount': 172, 'PostCount': 1, 'Language': 'GER'}\n"
     ]
    },
    {
     "name": "stderr",
     "output_type": "stream",
     "text": [
      "The attention mask and the pad token id were not set. As a consequence, you may observe unexpected behavior. Please pass your input's `attention_mask` to obtain reliable results.\n",
      "Setting `pad_token_id` to `eos_token_id`:50256 for open-end generation.\n"
     ]
    },
    {
     "name": "stdout",
     "output_type": "stream",
     "text": [
      "Finished: row 405 of 500\n",
      "{'ID': 405, 'Username': 'kevinalvarez', 'Age': 36, 'Country': 'Italy', 'CreationDate': '08/11/2011 08:29 PM', 'Description': 'The most important thing to remember is that the game is not about', 'FollowerCount': 16232, 'PostCount': 72, 'Language': 'ITA'}\n"
     ]
    },
    {
     "name": "stderr",
     "output_type": "stream",
     "text": [
      "The attention mask and the pad token id were not set. As a consequence, you may observe unexpected behavior. Please pass your input's `attention_mask` to obtain reliable results.\n",
      "Setting `pad_token_id` to `eos_token_id`:50256 for open-end generation.\n"
     ]
    },
    {
     "name": "stdout",
     "output_type": "stream",
     "text": [
      "Finished: row 406 of 500\n",
      "{'ID': 406, 'Username': 'lking', 'Age': 31, 'Country': 'UK', 'CreationDate': '12/16/2011 10:18 AM', 'Description': 'The best place to find out about the latest news, events, and happen', 'FollowerCount': 7799, 'PostCount': 41, 'Language': 'GER'}\n"
     ]
    },
    {
     "name": "stderr",
     "output_type": "stream",
     "text": [
      "The attention mask and the pad token id were not set. As a consequence, you may observe unexpected behavior. Please pass your input's `attention_mask` to obtain reliable results.\n",
      "Setting `pad_token_id` to `eos_token_id`:50256 for open-end generation.\n"
     ]
    },
    {
     "name": "stdout",
     "output_type": "stream",
     "text": [
      "Finished: row 407 of 500\n",
      "{'ID': 407, 'Username': 'akelly_2001', 'Age': 18, 'Country': 'France', 'CreationDate': '01/04/2016 05:36 PM', 'Description': 'The author is a political scientist and a political commentator.**_', 'FollowerCount': 4424, 'PostCount': 26, 'Language': 'FRE'}\n"
     ]
    },
    {
     "name": "stderr",
     "output_type": "stream",
     "text": [
      "The attention mask and the pad token id were not set. As a consequence, you may observe unexpected behavior. Please pass your input's `attention_mask` to obtain reliable results.\n",
      "Setting `pad_token_id` to `eos_token_id`:50256 for open-end generation.\n"
     ]
    },
    {
     "name": "stdout",
     "output_type": "stream",
     "text": [
      "Finished: row 408 of 500\n",
      "{'ID': 408, 'Username': 'matthew41', 'Age': 49, 'Country': 'UK', 'CreationDate': '05/29/2023 04:38 PM', 'Description': 'Job:Job Description:Job Description:', 'FollowerCount': 188, 'PostCount': 3, 'Language': 'ENG'}\n"
     ]
    },
    {
     "name": "stderr",
     "output_type": "stream",
     "text": [
      "The attention mask and the pad token id were not set. As a consequence, you may observe unexpected behavior. Please pass your input's `attention_mask` to obtain reliable results.\n",
      "Setting `pad_token_id` to `eos_token_id`:50256 for open-end generation.\n"
     ]
    },
    {
     "name": "stdout",
     "output_type": "stream",
     "text": [
      "Finished: row 409 of 500\n",
      "{'ID': 409, 'Username': '1967_wstevenson', 'Age': 63, 'Country': 'Germany', 'CreationDate': '12/07/2011 11:22 PM', 'Description': 'The game is a game of skill, and the player is the master', 'FollowerCount': 15011, 'PostCount': 4, 'Language': 'GER'}\n"
     ]
    },
    {
     "name": "stderr",
     "output_type": "stream",
     "text": [
      "The attention mask and the pad token id were not set. As a consequence, you may observe unexpected behavior. Please pass your input's `attention_mask` to obtain reliable results.\n",
      "Setting `pad_token_id` to `eos_token_id`:50256 for open-end generation.\n"
     ]
    },
    {
     "name": "stdout",
     "output_type": "stream",
     "text": [
      "Finished: row 410 of 500\n",
      "{'ID': 410, 'Username': 'melanie07_1965', 'Age': 21, 'Country': 'France', 'CreationDate': '12/05/2014 10:59 PM', 'Description': 'The Republican Party is the party of the people. It is the party of', 'FollowerCount': 2857, 'PostCount': 40, 'Language': 'GER'}\n"
     ]
    },
    {
     "name": "stderr",
     "output_type": "stream",
     "text": [
      "The attention mask and the pad token id were not set. As a consequence, you may observe unexpected behavior. Please pass your input's `attention_mask` to obtain reliable results.\n",
      "Setting `pad_token_id` to `eos_token_id`:50256 for open-end generation.\n"
     ]
    },
    {
     "name": "stdout",
     "output_type": "stream",
     "text": [
      "Finished: row 411 of 500\n",
      "{'ID': 411, 'Username': 'noliver_1975', 'Age': '', 'Country': 'Netherlands', 'CreationDate': '07/27/2015 04:23 PM', 'Description': 'The author is a member of the faculty of the University of California, Santa', 'FollowerCount': 4718, 'PostCount': 61, 'Language': 'RUS'}\n"
     ]
    },
    {
     "name": "stderr",
     "output_type": "stream",
     "text": [
      "The attention mask and the pad token id were not set. As a consequence, you may observe unexpected behavior. Please pass your input's `attention_mask` to obtain reliable results.\n",
      "Setting `pad_token_id` to `eos_token_id`:50256 for open-end generation.\n"
     ]
    },
    {
     "name": "stdout",
     "output_type": "stream",
     "text": [
      "Finished: row 412 of 500\n",
      "{'ID': 412, 'Username': '1964_daniellepeterson', 'Age': 29, 'Country': 'Germany', 'CreationDate': '03/24/2017 06:14 PM', 'Description': 'I am a photographer, and I am also a gamer. I love', 'FollowerCount': 7294, 'PostCount': 16, 'Language': 'ENG'}\n"
     ]
    },
    {
     "name": "stderr",
     "output_type": "stream",
     "text": [
      "The attention mask and the pad token id were not set. As a consequence, you may observe unexpected behavior. Please pass your input's `attention_mask` to obtain reliable results.\n",
      "Setting `pad_token_id` to `eos_token_id`:50256 for open-end generation.\n"
     ]
    },
    {
     "name": "stdout",
     "output_type": "stream",
     "text": [
      "Finished: row 413 of 500\n",
      "{'ID': 413, 'Username': 'amywright_1995', 'Age': 35, 'Country': 'UK', 'CreationDate': '04/15/2021 11:11 AM', 'Description': 'The author is a British writer and journalist. He has written for the', 'FollowerCount': 1760, 'PostCount': 7, 'Language': 'ENG'}\n"
     ]
    },
    {
     "name": "stderr",
     "output_type": "stream",
     "text": [
      "The attention mask and the pad token id were not set. As a consequence, you may observe unexpected behavior. Please pass your input's `attention_mask` to obtain reliable results.\n",
      "Setting `pad_token_id` to `eos_token_id`:50256 for open-end generation.\n"
     ]
    },
    {
     "name": "stdout",
     "output_type": "stream",
     "text": [
      "Finished: row 414 of 500\n",
      "{'ID': 414, 'Username': 'tylergarcia', 'Age': 39, 'Country': 'Russia', 'CreationDate': '03/05/2019 06:45 AM', 'Description': 'The best of the best in the world of football.The best', 'FollowerCount': 6266, 'PostCount': 25, 'Language': 'RUS'}\n"
     ]
    },
    {
     "name": "stderr",
     "output_type": "stream",
     "text": [
      "The attention mask and the pad token id were not set. As a consequence, you may observe unexpected behavior. Please pass your input's `attention_mask` to obtain reliable results.\n",
      "Setting `pad_token_id` to `eos_token_id`:50256 for open-end generation.\n"
     ]
    },
    {
     "name": "stdout",
     "output_type": "stream",
     "text": [
      "Finished: row 415 of 500\n",
      "{'ID': 415, 'Username': 'tstone', 'Age': '', 'Country': 'USA', 'CreationDate': '05/09/2012 08:15 AM', 'Description': 'The event is a great opportunity to meet new people and get to', 'FollowerCount': 14784, 'PostCount': 39, 'Language': 'ENG'}\n"
     ]
    },
    {
     "name": "stderr",
     "output_type": "stream",
     "text": [
      "The attention mask and the pad token id were not set. As a consequence, you may observe unexpected behavior. Please pass your input's `attention_mask` to obtain reliable results.\n",
      "Setting `pad_token_id` to `eos_token_id`:50256 for open-end generation.\n"
     ]
    },
    {
     "name": "stdout",
     "output_type": "stream",
     "text": [
      "Finished: row 416 of 500\n",
      "{'ID': 416, 'Username': 'sue57_1965', 'Age': 22, 'Country': 'Italy', 'CreationDate': '09/26/2010 06:45 PM', 'Description': 'The first ever event for the new game, the first ever event', 'FollowerCount': 5154, 'PostCount': 28, 'Language': 'ITA'}\n"
     ]
    },
    {
     "name": "stderr",
     "output_type": "stream",
     "text": [
      "The attention mask and the pad token id were not set. As a consequence, you may observe unexpected behavior. Please pass your input's `attention_mask` to obtain reliable results.\n",
      "Setting `pad_token_id` to `eos_token_id`:50256 for open-end generation.\n"
     ]
    },
    {
     "name": "stdout",
     "output_type": "stream",
     "text": [
      "Finished: row 417 of 500\n",
      "{'ID': 417, 'Username': '1987_awilcox', 'Age': 71, 'Country': 'Germany', 'CreationDate': '05/27/2015 06:35 AM', 'Description': 'The first of the two-part series on the life and times of', 'FollowerCount': 8270, 'PostCount': 1, 'Language': 'GER'}\n"
     ]
    },
    {
     "name": "stderr",
     "output_type": "stream",
     "text": [
      "The attention mask and the pad token id were not set. As a consequence, you may observe unexpected behavior. Please pass your input's `attention_mask` to obtain reliable results.\n",
      "Setting `pad_token_id` to `eos_token_id`:50256 for open-end generation.\n"
     ]
    },
    {
     "name": "stdout",
     "output_type": "stream",
     "text": [
      "Finished: row 418 of 500\n",
      "{'ID': 418, 'Username': 'melissagutierrez', 'Age': 23, 'Country': '', 'CreationDate': '02/23/2013 10:26 AM', 'Description': 'The first time I saw the movie The Matrix I was like', 'FollowerCount': 1139, 'PostCount': 22, 'Language': 'FRE'}\n"
     ]
    },
    {
     "name": "stderr",
     "output_type": "stream",
     "text": [
      "The attention mask and the pad token id were not set. As a consequence, you may observe unexpected behavior. Please pass your input's `attention_mask` to obtain reliable results.\n",
      "Setting `pad_token_id` to `eos_token_id`:50256 for open-end generation.\n"
     ]
    },
    {
     "name": "stdout",
     "output_type": "stream",
     "text": [
      "Finished: row 419 of 500\n",
      "{'ID': 419, 'Username': 'john05', 'Age': 35, 'Country': 'Netherlands', 'CreationDate': '12/01/2018 11:43 AM', 'Description': 'I am a senior at the University of Michigan, and I am a member', 'FollowerCount': 6561, 'PostCount': 21, 'Language': 'NED'}\n"
     ]
    },
    {
     "name": "stderr",
     "output_type": "stream",
     "text": [
      "The attention mask and the pad token id were not set. As a consequence, you may observe unexpected behavior. Please pass your input's `attention_mask` to obtain reliable results.\n",
      "Setting `pad_token_id` to `eos_token_id`:50256 for open-end generation.\n"
     ]
    },
    {
     "name": "stdout",
     "output_type": "stream",
     "text": [
      "Finished: row 420 of 500\n",
      "{'ID': 420, 'Username': 'richard72_1988', 'Age': '', 'Country': 'France', 'CreationDate': '08/28/2020 06:08 AM', 'Description': 'The game of poker is a game of skill, and the best players', 'FollowerCount': 18, 'PostCount': 19, 'Language': 'FRE'}\n"
     ]
    },
    {
     "name": "stderr",
     "output_type": "stream",
     "text": [
      "The attention mask and the pad token id were not set. As a consequence, you may observe unexpected behavior. Please pass your input's `attention_mask` to obtain reliable results.\n",
      "Setting `pad_token_id` to `eos_token_id`:50256 for open-end generation.\n"
     ]
    },
    {
     "name": "stdout",
     "output_type": "stream",
     "text": [
      "Finished: row 421 of 500\n",
      "{'ID': 421, 'Username': 'briancobb', 'Age': 22, 'Country': 'China', 'CreationDate': '03/15/2019 02:05 AM', 'Description': 'I am a professional photographer, I have been working in the field', 'FollowerCount': 4606, 'PostCount': 22, 'Language': 'MAN'}\n"
     ]
    },
    {
     "name": "stderr",
     "output_type": "stream",
     "text": [
      "The attention mask and the pad token id were not set. As a consequence, you may observe unexpected behavior. Please pass your input's `attention_mask` to obtain reliable results.\n",
      "Setting `pad_token_id` to `eos_token_id`:50256 for open-end generation.\n"
     ]
    },
    {
     "name": "stdout",
     "output_type": "stream",
     "text": [
      "Finished: row 422 of 500\n",
      "{'ID': 422, 'Username': '1997_carlnash', 'Age': 29, 'Country': 'Italy', 'CreationDate': '05/13/2010 02:55 AM', 'Description': 'The first of the two-part series on the life and work of', 'FollowerCount': 14043, 'PostCount': 70, 'Language': 'ITA'}\n"
     ]
    },
    {
     "name": "stderr",
     "output_type": "stream",
     "text": [
      "The attention mask and the pad token id were not set. As a consequence, you may observe unexpected behavior. Please pass your input's `attention_mask` to obtain reliable results.\n",
      "Setting `pad_token_id` to `eos_token_id`:50256 for open-end generation.\n"
     ]
    },
    {
     "name": "stdout",
     "output_type": "stream",
     "text": [
      "Finished: row 423 of 500\n",
      "{'ID': 423, 'Username': '1956_heatherbright', 'Age': 72, 'Country': 'USA', 'CreationDate': '08/21/2022 10:39 PM', 'Description': \"The first ever women's rugby union international was played between England and Scotland on\", 'FollowerCount': 569, 'PostCount': 1, 'Language': 'ENG'}\n"
     ]
    },
    {
     "name": "stderr",
     "output_type": "stream",
     "text": [
      "The attention mask and the pad token id were not set. As a consequence, you may observe unexpected behavior. Please pass your input's `attention_mask` to obtain reliable results.\n",
      "Setting `pad_token_id` to `eos_token_id`:50256 for open-end generation.\n"
     ]
    },
    {
     "name": "stdout",
     "output_type": "stream",
     "text": [
      "Finished: row 424 of 500\n",
      "{'ID': 424, 'Username': 'brianolson', 'Age': 45, 'Country': 'Italy', 'CreationDate': '08/16/2012 04:43 AM', 'Description': \"I'm a gamer, a traveler, and a lover of all\", 'FollowerCount': 6581, 'PostCount': 14, 'Language': 'ITA'}\n"
     ]
    },
    {
     "name": "stderr",
     "output_type": "stream",
     "text": [
      "The attention mask and the pad token id were not set. As a consequence, you may observe unexpected behavior. Please pass your input's `attention_mask` to obtain reliable results.\n",
      "Setting `pad_token_id` to `eos_token_id`:50256 for open-end generation.\n"
     ]
    },
    {
     "name": "stdout",
     "output_type": "stream",
     "text": [
      "Finished: row 425 of 500\n",
      "{'ID': 425, 'Username': 'brittanywalker', 'Age': 29, 'Country': 'Japan', 'CreationDate': '12/10/2009 12:02 AM', 'Description': \"I'm a freelance writer and editor, and I'm currently working on a\", 'FollowerCount': 9430, 'PostCount': 36, 'Language': 'FRE'}\n"
     ]
    },
    {
     "name": "stderr",
     "output_type": "stream",
     "text": [
      "The attention mask and the pad token id were not set. As a consequence, you may observe unexpected behavior. Please pass your input's `attention_mask` to obtain reliable results.\n",
      "Setting `pad_token_id` to `eos_token_id`:50256 for open-end generation.\n"
     ]
    },
    {
     "name": "stdout",
     "output_type": "stream",
     "text": [
      "Finished: row 426 of 500\n",
      "{'ID': 426, 'Username': '1970_maryedwards', 'Age': 39, 'Country': 'Germany', 'CreationDate': '01/31/2012 08:33 PM', 'Description': 'The first of the two new books in the series, _The Photographer', 'FollowerCount': 1603, 'PostCount': 46, 'Language': 'ENG'}\n"
     ]
    },
    {
     "name": "stderr",
     "output_type": "stream",
     "text": [
      "The attention mask and the pad token id were not set. As a consequence, you may observe unexpected behavior. Please pass your input's `attention_mask` to obtain reliable results.\n",
      "Setting `pad_token_id` to `eos_token_id`:50256 for open-end generation.\n"
     ]
    },
    {
     "name": "stdout",
     "output_type": "stream",
     "text": [
      "Finished: row 427 of 500\n",
      "{'ID': 427, 'Username': 'dholder_1998', 'Age': 34, 'Country': 'China', 'CreationDate': '06/25/2022 04:52 PM', 'Description': 'The first thing I noticed was the lack of a proper name for', 'FollowerCount': 235, 'PostCount': 8, 'Language': 'ENG'}\n"
     ]
    },
    {
     "name": "stderr",
     "output_type": "stream",
     "text": [
      "The attention mask and the pad token id were not set. As a consequence, you may observe unexpected behavior. Please pass your input's `attention_mask` to obtain reliable results.\n",
      "Setting `pad_token_id` to `eos_token_id`:50256 for open-end generation.\n"
     ]
    },
    {
     "name": "stdout",
     "output_type": "stream",
     "text": [
      "Finished: row 428 of 500\n",
      "{'ID': 428, 'Username': 'sonyasimon_1982', 'Age': 29, 'Country': 'France', 'CreationDate': '03/03/2013 03:25 PM', 'Description': 'The game is a fun and easy to play game. The game', 'FollowerCount': 3111, 'PostCount': 4, 'Language': 'FRE'}\n"
     ]
    },
    {
     "name": "stderr",
     "output_type": "stream",
     "text": [
      "The attention mask and the pad token id were not set. As a consequence, you may observe unexpected behavior. Please pass your input's `attention_mask` to obtain reliable results.\n",
      "Setting `pad_token_id` to `eos_token_id`:50256 for open-end generation.\n"
     ]
    },
    {
     "name": "stdout",
     "output_type": "stream",
     "text": [
      "Finished: row 429 of 500\n",
      "{'ID': 429, 'Username': '1971_zdaniel', 'Age': 64, 'Country': 'UK', 'CreationDate': '10/13/2010 05:15 PM', 'Description': 'The first part of this article is a short profile of the artist Daniel', 'FollowerCount': 3129, 'PostCount': 74, 'Language': 'ENG'}\n",
      "Finished: row 430 of 500\n",
      "{'ID': 430, 'Username': 'brendawarner', 'Age': 29, 'Country': 'Netherlands', 'CreationDate': '11/02/2010 09:20 AM', 'Description': 'The author is a former professional athlete and a former professional wrestler. He is', 'FollowerCount': 8601, 'PostCount': 44, 'Language': 'ITA'}\n"
     ]
    },
    {
     "name": "stderr",
     "output_type": "stream",
     "text": [
      "The attention mask and the pad token id were not set. As a consequence, you may observe unexpected behavior. Please pass your input's `attention_mask` to obtain reliable results.\n",
      "Setting `pad_token_id` to `eos_token_id`:50256 for open-end generation.\n",
      "The attention mask and the pad token id were not set. As a consequence, you may observe unexpected behavior. Please pass your input's `attention_mask` to obtain reliable results.\n",
      "Setting `pad_token_id` to `eos_token_id`:50256 for open-end generation.\n"
     ]
    },
    {
     "name": "stdout",
     "output_type": "stream",
     "text": [
      "Finished: row 431 of 500\n",
      "{'ID': 431, 'Username': 'qnixon_1961', 'Age': '', 'Country': 'Netherlands', 'CreationDate': '06/06/2012 04:46 PM', 'Description': 'The first of the two photographs of the famous American artist, John Singer', 'FollowerCount': 12307, 'PostCount': 7, 'Language': 'NED'}\n"
     ]
    },
    {
     "name": "stderr",
     "output_type": "stream",
     "text": [
      "The attention mask and the pad token id were not set. As a consequence, you may observe unexpected behavior. Please pass your input's `attention_mask` to obtain reliable results.\n",
      "Setting `pad_token_id` to `eos_token_id`:50256 for open-end generation.\n"
     ]
    },
    {
     "name": "stdout",
     "output_type": "stream",
     "text": [
      "Finished: row 432 of 500\n",
      "{'ID': 432, 'Username': 'lisahayes', 'Age': '', 'Country': 'UK', 'CreationDate': '12/29/2019 03:28 PM', 'Description': 'The event is about the history of the city of Tijuana,', 'FollowerCount': 4675, 'PostCount': 7, 'Language': 'ENG'}\n"
     ]
    },
    {
     "name": "stderr",
     "output_type": "stream",
     "text": [
      "The attention mask and the pad token id were not set. As a consequence, you may observe unexpected behavior. Please pass your input's `attention_mask` to obtain reliable results.\n",
      "Setting `pad_token_id` to `eos_token_id`:50256 for open-end generation.\n"
     ]
    },
    {
     "name": "stdout",
     "output_type": "stream",
     "text": [
      "Finished: row 433 of 500\n",
      "{'ID': 433, 'Username': 'gpetty', 'Age': '', 'Country': 'Netherlands', 'CreationDate': '01/22/2015 10:11 PM', 'Description': 'The Republican Party is the party of the people, the party of the people', 'FollowerCount': 3356, 'PostCount': 34, 'Language': 'GER'}\n"
     ]
    },
    {
     "name": "stderr",
     "output_type": "stream",
     "text": [
      "The attention mask and the pad token id were not set. As a consequence, you may observe unexpected behavior. Please pass your input's `attention_mask` to obtain reliable results.\n",
      "Setting `pad_token_id` to `eos_token_id`:50256 for open-end generation.\n"
     ]
    },
    {
     "name": "stdout",
     "output_type": "stream",
     "text": [
      "Finished: row 434 of 500\n",
      "{'ID': 434, 'Username': 'ashleyjohnson', 'Age': 64, 'Country': 'China', 'CreationDate': '08/27/2016 08:46 PM', 'Description': 'I am a gamer, and I love to play games. I', 'FollowerCount': 36, 'PostCount': 32, 'Language': 'JAP'}\n"
     ]
    },
    {
     "name": "stderr",
     "output_type": "stream",
     "text": [
      "The attention mask and the pad token id were not set. As a consequence, you may observe unexpected behavior. Please pass your input's `attention_mask` to obtain reliable results.\n",
      "Setting `pad_token_id` to `eos_token_id`:50256 for open-end generation.\n"
     ]
    },
    {
     "name": "stdout",
     "output_type": "stream",
     "text": [
      "Finished: row 435 of 500\n",
      "{'ID': 435, 'Username': 'qward', 'Age': 49, 'Country': 'France', 'CreationDate': '03/26/2016 08:17 AM', 'Description': 'The best place to find the best of the best in the world of sports', 'FollowerCount': 10150, 'PostCount': 13, 'Language': 'FRE'}\n"
     ]
    },
    {
     "name": "stderr",
     "output_type": "stream",
     "text": [
      "The attention mask and the pad token id were not set. As a consequence, you may observe unexpected behavior. Please pass your input's `attention_mask` to obtain reliable results.\n",
      "Setting `pad_token_id` to `eos_token_id`:50256 for open-end generation.\n"
     ]
    },
    {
     "name": "stdout",
     "output_type": "stream",
     "text": [
      "Finished: row 436 of 500\n",
      "{'ID': 436, 'Username': 'flowersjulie', 'Age': 54, 'Country': 'Italy', 'CreationDate': '03/02/2021 11:54 AM', 'Description': 'I am a professional photographer, I have been working in the field', 'FollowerCount': 2500, 'PostCount': 4, 'Language': 'ITA'}\n"
     ]
    },
    {
     "name": "stderr",
     "output_type": "stream",
     "text": [
      "The attention mask and the pad token id were not set. As a consequence, you may observe unexpected behavior. Please pass your input's `attention_mask` to obtain reliable results.\n",
      "Setting `pad_token_id` to `eos_token_id`:50256 for open-end generation.\n"
     ]
    },
    {
     "name": "stdout",
     "output_type": "stream",
     "text": [
      "Finished: row 437 of 500\n",
      "{'ID': 437, 'Username': 'michaelavila_2002', 'Age': 44, 'Country': 'UK', 'CreationDate': '11/17/2016 06:04 PM', 'Description': 'Michael Avila, a.k.a. The Godfather of', 'FollowerCount': 5391, 'PostCount': 25, 'Language': 'ENG'}\n"
     ]
    },
    {
     "name": "stderr",
     "output_type": "stream",
     "text": [
      "The attention mask and the pad token id were not set. As a consequence, you may observe unexpected behavior. Please pass your input's `attention_mask` to obtain reliable results.\n",
      "Setting `pad_token_id` to `eos_token_id`:50256 for open-end generation.\n"
     ]
    },
    {
     "name": "stdout",
     "output_type": "stream",
     "text": [
      "Finished: row 438 of 500\n",
      "{'ID': 438, 'Username': '1985_michael23', 'Age': 51, 'Country': 'China', 'CreationDate': '10/29/2019 02:24 AM', 'Description': 'Michael is a photographer who has been working in the field of photography for over', 'FollowerCount': 3663, 'PostCount': 17, 'Language': 'RUS'}\n"
     ]
    },
    {
     "name": "stderr",
     "output_type": "stream",
     "text": [
      "The attention mask and the pad token id were not set. As a consequence, you may observe unexpected behavior. Please pass your input's `attention_mask` to obtain reliable results.\n",
      "Setting `pad_token_id` to `eos_token_id`:50256 for open-end generation.\n"
     ]
    },
    {
     "name": "stdout",
     "output_type": "stream",
     "text": [
      "Finished: row 439 of 500\n",
      "{'ID': 439, 'Username': 'zbrown', 'Age': 36, 'Country': 'Japan', 'CreationDate': '10/21/2021 03:19 PM', 'Description': 'The event is a fun, casual, and social event for all ages.', 'FollowerCount': 544, 'PostCount': 12, 'Language': 'ITA'}\n"
     ]
    },
    {
     "name": "stderr",
     "output_type": "stream",
     "text": [
      "The attention mask and the pad token id were not set. As a consequence, you may observe unexpected behavior. Please pass your input's `attention_mask` to obtain reliable results.\n",
      "Setting `pad_token_id` to `eos_token_id`:50256 for open-end generation.\n"
     ]
    },
    {
     "name": "stdout",
     "output_type": "stream",
     "text": [
      "Finished: row 440 of 500\n",
      "{'ID': 440, 'Username': 'samuel88', 'Age': 26, 'Country': 'Germany', 'CreationDate': '12/17/2012 02:30 PM', 'Description': 'The Republican Party is the party of the people, the party of the people', 'FollowerCount': 4933, 'PostCount': 48, 'Language': 'MAN'}\n"
     ]
    },
    {
     "name": "stderr",
     "output_type": "stream",
     "text": [
      "The attention mask and the pad token id were not set. As a consequence, you may observe unexpected behavior. Please pass your input's `attention_mask` to obtain reliable results.\n",
      "Setting `pad_token_id` to `eos_token_id`:50256 for open-end generation.\n"
     ]
    },
    {
     "name": "stdout",
     "output_type": "stream",
     "text": [
      "Finished: row 441 of 500\n",
      "{'ID': 441, 'Username': 'craig28_1973', 'Age': 46, 'Country': 'USA', 'CreationDate': '11/08/2009 03:37 PM', 'Description': 'The first ever full-length documentary on the life and times of the legendary', 'FollowerCount': 8950, 'PostCount': 78, 'Language': 'ENG'}\n"
     ]
    },
    {
     "name": "stderr",
     "output_type": "stream",
     "text": [
      "The attention mask and the pad token id were not set. As a consequence, you may observe unexpected behavior. Please pass your input's `attention_mask` to obtain reliable results.\n",
      "Setting `pad_token_id` to `eos_token_id`:50256 for open-end generation.\n"
     ]
    },
    {
     "name": "stdout",
     "output_type": "stream",
     "text": [
      "Finished: row 442 of 500\n",
      "{'ID': 442, 'Username': 'michellejohnson', 'Age': 60, 'Country': 'Germany', 'CreationDate': '09/26/2011 02:28 PM', 'Description': 'The first woman to be elected to the U.S. Senate,', 'FollowerCount': 12319, 'PostCount': 52, 'Language': 'GER'}\n"
     ]
    },
    {
     "name": "stderr",
     "output_type": "stream",
     "text": [
      "The attention mask and the pad token id were not set. As a consequence, you may observe unexpected behavior. Please pass your input's `attention_mask` to obtain reliable results.\n",
      "Setting `pad_token_id` to `eos_token_id`:50256 for open-end generation.\n"
     ]
    },
    {
     "name": "stdout",
     "output_type": "stream",
     "text": [
      "Finished: row 443 of 500\n",
      "{'ID': 443, 'Username': 'lindseybennett', 'Age': 50, 'Country': 'Germany', 'CreationDate': '01/17/2013 09:39 PM', 'Description': 'The first thing you notice about the new season is the new uniforms. The', 'FollowerCount': 952, 'PostCount': 28, 'Language': 'GER'}\n"
     ]
    },
    {
     "name": "stderr",
     "output_type": "stream",
     "text": [
      "The attention mask and the pad token id were not set. As a consequence, you may observe unexpected behavior. Please pass your input's `attention_mask` to obtain reliable results.\n",
      "Setting `pad_token_id` to `eos_token_id`:50256 for open-end generation.\n"
     ]
    },
    {
     "name": "stdout",
     "output_type": "stream",
     "text": [
      "Finished: row 444 of 500\n",
      "{'ID': 444, 'Username': 'micheal91_1987', 'Age': 16, 'Country': 'Japan', 'CreationDate': '10/24/2015 12:11 PM', 'Description': 'The Republican Party is the party of the people, the party of the', 'FollowerCount': 3667, 'PostCount': 45, 'Language': 'ENG'}\n"
     ]
    },
    {
     "name": "stderr",
     "output_type": "stream",
     "text": [
      "The attention mask and the pad token id were not set. As a consequence, you may observe unexpected behavior. Please pass your input's `attention_mask` to obtain reliable results.\n",
      "Setting `pad_token_id` to `eos_token_id`:50256 for open-end generation.\n"
     ]
    },
    {
     "name": "stdout",
     "output_type": "stream",
     "text": [
      "Finished: row 445 of 500\n",
      "{'ID': 445, 'Username': 'rrodriguez_1995', 'Age': 76, 'Country': 'China', 'CreationDate': '06/29/2022 06:37 PM', 'Description': 'The game is a strategy game in which the player controls a small', 'FollowerCount': 267, 'PostCount': 4, 'Language': 'MAN'}\n"
     ]
    },
    {
     "name": "stderr",
     "output_type": "stream",
     "text": [
      "The attention mask and the pad token id were not set. As a consequence, you may observe unexpected behavior. Please pass your input's `attention_mask` to obtain reliable results.\n",
      "Setting `pad_token_id` to `eos_token_id`:50256 for open-end generation.\n"
     ]
    },
    {
     "name": "stdout",
     "output_type": "stream",
     "text": [
      "Finished: row 446 of 500\n",
      "{'ID': 446, 'Username': 'barkerdavid_1995', 'Age': 39, 'Country': 'USA', 'CreationDate': '04/06/2013 03:12 PM', 'Description': 'The author is a professor of English at the University of California, Santa Barbara', 'FollowerCount': 301, 'PostCount': 40, 'Language': 'MAN'}\n"
     ]
    },
    {
     "name": "stderr",
     "output_type": "stream",
     "text": [
      "The attention mask and the pad token id were not set. As a consequence, you may observe unexpected behavior. Please pass your input's `attention_mask` to obtain reliable results.\n",
      "Setting `pad_token_id` to `eos_token_id`:50256 for open-end generation.\n"
     ]
    },
    {
     "name": "stdout",
     "output_type": "stream",
     "text": [
      "Finished: row 447 of 500\n",
      "{'ID': 447, 'Username': 'jeremy61', 'Age': 34, 'Country': 'UK', 'CreationDate': '06/06/2018 08:20 AM', 'Description': 'I am a very friendly, outgoing, and fun person. I am a', 'FollowerCount': 686, 'PostCount': 28, 'Language': 'ENG'}\n"
     ]
    },
    {
     "name": "stderr",
     "output_type": "stream",
     "text": [
      "The attention mask and the pad token id were not set. As a consequence, you may observe unexpected behavior. Please pass your input's `attention_mask` to obtain reliable results.\n",
      "Setting `pad_token_id` to `eos_token_id`:50256 for open-end generation.\n"
     ]
    },
    {
     "name": "stdout",
     "output_type": "stream",
     "text": [
      "Finished: row 448 of 500\n",
      "{'ID': 448, 'Username': 'kenneth25', 'Age': '', 'Country': 'Italy', 'CreationDate': '12/30/2017 08:15 PM', 'Description': 'The Good Vibes is a weekly podcast that explores the best of the', 'FollowerCount': 2927, 'PostCount': 17, 'Language': 'ENG'}\n"
     ]
    },
    {
     "name": "stderr",
     "output_type": "stream",
     "text": [
      "The attention mask and the pad token id were not set. As a consequence, you may observe unexpected behavior. Please pass your input's `attention_mask` to obtain reliable results.\n",
      "Setting `pad_token_id` to `eos_token_id`:50256 for open-end generation.\n"
     ]
    },
    {
     "name": "stdout",
     "output_type": "stream",
     "text": [
      "Finished: row 449 of 500\n",
      "{'ID': 449, 'Username': 'melissamartin', 'Age': 50, 'Country': 'Japan', 'CreationDate': '12/17/2020 12:47 AM', 'Description': \"I'm a gamer, a gamer, a gamer, a\", 'FollowerCount': 1792, 'PostCount': 5, 'Language': 'JAP'}\n"
     ]
    },
    {
     "name": "stderr",
     "output_type": "stream",
     "text": [
      "The attention mask and the pad token id were not set. As a consequence, you may observe unexpected behavior. Please pass your input's `attention_mask` to obtain reliable results.\n",
      "Setting `pad_token_id` to `eos_token_id`:50256 for open-end generation.\n"
     ]
    },
    {
     "name": "stdout",
     "output_type": "stream",
     "text": [
      "Finished: row 450 of 500\n",
      "{'ID': 450, 'Username': 'cynthiawells_1973', 'Age': 47, 'Country': 'Japan', 'CreationDate': '01/05/2013 01:23 PM', 'Description': 'The author of this book is a professional photographer. She has been a professional', 'FollowerCount': 5478, 'PostCount': 16, 'Language': 'JAP'}\n"
     ]
    },
    {
     "name": "stderr",
     "output_type": "stream",
     "text": [
      "The attention mask and the pad token id were not set. As a consequence, you may observe unexpected behavior. Please pass your input's `attention_mask` to obtain reliable results.\n",
      "Setting `pad_token_id` to `eos_token_id`:50256 for open-end generation.\n"
     ]
    },
    {
     "name": "stdout",
     "output_type": "stream",
     "text": [
      "Finished: row 451 of 500\n",
      "{'ID': 451, 'Username': '1987_fernando89', 'Age': 85, 'Country': 'USA', 'CreationDate': '07/22/2018 08:01 AM', 'Description': \"The first time I saw the movie, I was like, 'Oh\", 'FollowerCount': 1250, 'PostCount': 8, 'Language': 'ENG'}\n"
     ]
    },
    {
     "name": "stderr",
     "output_type": "stream",
     "text": [
      "The attention mask and the pad token id were not set. As a consequence, you may observe unexpected behavior. Please pass your input's `attention_mask` to obtain reliable results.\n",
      "Setting `pad_token_id` to `eos_token_id`:50256 for open-end generation.\n"
     ]
    },
    {
     "name": "stdout",
     "output_type": "stream",
     "text": [
      "Finished: row 452 of 500\n",
      "{'ID': 452, 'Username': '1990_wilsonrobert', 'Age': '', 'Country': 'Japan', 'CreationDate': '02/27/2013 07:46 PM', 'Description': 'The author is a writer, editor, and publisher. He is the author', 'FollowerCount': 3202, 'PostCount': 16, 'Language': 'ENG'}\n"
     ]
    },
    {
     "name": "stderr",
     "output_type": "stream",
     "text": [
      "The attention mask and the pad token id were not set. As a consequence, you may observe unexpected behavior. Please pass your input's `attention_mask` to obtain reliable results.\n",
      "Setting `pad_token_id` to `eos_token_id`:50256 for open-end generation.\n"
     ]
    },
    {
     "name": "stdout",
     "output_type": "stream",
     "text": [
      "Finished: row 453 of 500\n",
      "{'ID': 453, 'Username': 'longallison', 'Age': 61, 'Country': 'Germany', 'CreationDate': '11/01/2017 06:19 AM', 'Description': \"'A photographer, writer, and travel writer, who has been travelling the\", 'FollowerCount': 1519, 'PostCount': 6, 'Language': 'JAP'}\n"
     ]
    },
    {
     "name": "stderr",
     "output_type": "stream",
     "text": [
      "The attention mask and the pad token id were not set. As a consequence, you may observe unexpected behavior. Please pass your input's `attention_mask` to obtain reliable results.\n",
      "Setting `pad_token_id` to `eos_token_id`:50256 for open-end generation.\n"
     ]
    },
    {
     "name": "stdout",
     "output_type": "stream",
     "text": [
      "Finished: row 454 of 500\n",
      "{'ID': 454, 'Username': 'davilagary_1954', 'Age': 53, 'Country': 'France', 'CreationDate': '05/19/2012 06:05 PM', 'Description': 'The first ever international sports festival in the city of Kolkata, the', 'FollowerCount': 11365, 'PostCount': 6, 'Language': 'FRE'}\n"
     ]
    },
    {
     "name": "stderr",
     "output_type": "stream",
     "text": [
      "The attention mask and the pad token id were not set. As a consequence, you may observe unexpected behavior. Please pass your input's `attention_mask` to obtain reliable results.\n",
      "Setting `pad_token_id` to `eos_token_id`:50256 for open-end generation.\n"
     ]
    },
    {
     "name": "stdout",
     "output_type": "stream",
     "text": [
      "Finished: row 455 of 500\n",
      "{'ID': 455, 'Username': 'jonweaver', 'Age': 22, 'Country': 'Germany', 'CreationDate': '09/12/2022 02:55 AM', 'Description': 'The best of the best in the world of sports.The best', 'FollowerCount': 539, 'PostCount': 4, 'Language': 'GER'}\n"
     ]
    },
    {
     "name": "stderr",
     "output_type": "stream",
     "text": [
      "The attention mask and the pad token id were not set. As a consequence, you may observe unexpected behavior. Please pass your input's `attention_mask` to obtain reliable results.\n",
      "Setting `pad_token_id` to `eos_token_id`:50256 for open-end generation.\n"
     ]
    },
    {
     "name": "stdout",
     "output_type": "stream",
     "text": [
      "Finished: row 456 of 500\n",
      "{'ID': 456, 'Username': '1960_juliejohnson', 'Age': '', 'Country': 'USA', 'CreationDate': '11/07/2014 03:51 PM', 'Description': 'The Fiscal Year of 1953-1954 was the first year of the', 'FollowerCount': 1702, 'PostCount': 16, 'Language': 'RUS'}\n"
     ]
    },
    {
     "name": "stderr",
     "output_type": "stream",
     "text": [
      "The attention mask and the pad token id were not set. As a consequence, you may observe unexpected behavior. Please pass your input's `attention_mask` to obtain reliable results.\n",
      "Setting `pad_token_id` to `eos_token_id`:50256 for open-end generation.\n"
     ]
    },
    {
     "name": "stdout",
     "output_type": "stream",
     "text": [
      "Finished: row 457 of 500\n",
      "{'ID': 457, 'Username': '1994_julie22', 'Age': '', 'Country': 'Russia', 'CreationDate': '05/21/2010 09:41 AM', 'Description': 'The first ever international conference on the conservation of endangered species and their habitats,', 'FollowerCount': 17903, 'PostCount': 23, 'Language': 'RUS'}\n"
     ]
    },
    {
     "name": "stderr",
     "output_type": "stream",
     "text": [
      "The attention mask and the pad token id were not set. As a consequence, you may observe unexpected behavior. Please pass your input's `attention_mask` to obtain reliable results.\n",
      "Setting `pad_token_id` to `eos_token_id`:50256 for open-end generation.\n"
     ]
    },
    {
     "name": "stdout",
     "output_type": "stream",
     "text": [
      "Finished: row 458 of 500\n",
      "{'ID': 458, 'Username': 'xjohnson', 'Age': 41, 'Country': 'USA', 'CreationDate': '12/10/2008 12:50 PM', 'Description': 'Job Description:Job Description:Job Description:', 'FollowerCount': 6498, 'PostCount': 44, 'Language': 'ENG'}\n"
     ]
    },
    {
     "name": "stderr",
     "output_type": "stream",
     "text": [
      "The attention mask and the pad token id were not set. As a consequence, you may observe unexpected behavior. Please pass your input's `attention_mask` to obtain reliable results.\n",
      "Setting `pad_token_id` to `eos_token_id`:50256 for open-end generation.\n"
     ]
    },
    {
     "name": "stdout",
     "output_type": "stream",
     "text": [
      "Finished: row 459 of 500\n",
      "{'ID': 459, 'Username': 'wandamitchell_1954', 'Age': 43, 'Country': 'France', 'CreationDate': '12/27/2016 05:55 PM', 'Description': 'The species is endemic to the island of Mauritius. It is', 'FollowerCount': 3348, 'PostCount': 34, 'Language': 'FRE'}\n"
     ]
    },
    {
     "name": "stderr",
     "output_type": "stream",
     "text": [
      "The attention mask and the pad token id were not set. As a consequence, you may observe unexpected behavior. Please pass your input's `attention_mask` to obtain reliable results.\n",
      "Setting `pad_token_id` to `eos_token_id`:50256 for open-end generation.\n"
     ]
    },
    {
     "name": "stdout",
     "output_type": "stream",
     "text": [
      "Finished: row 460 of 500\n",
      "{'ID': 460, 'Username': 'scott20', 'Age': '', 'Country': 'France', 'CreationDate': '05/29/2021 05:27 AM', 'Description': 'I am a full time student at the University of California, Berkeley. I', 'FollowerCount': 806, 'PostCount': 3, 'Language': 'RUS'}\n"
     ]
    },
    {
     "name": "stderr",
     "output_type": "stream",
     "text": [
      "The attention mask and the pad token id were not set. As a consequence, you may observe unexpected behavior. Please pass your input's `attention_mask` to obtain reliable results.\n",
      "Setting `pad_token_id` to `eos_token_id`:50256 for open-end generation.\n"
     ]
    },
    {
     "name": "stdout",
     "output_type": "stream",
     "text": [
      "Finished: row 461 of 500\n",
      "{'ID': 461, 'Username': 'uroberts', 'Age': 52, 'Country': 'Netherlands', 'CreationDate': '03/15/2016 08:44 PM', 'Description': 'The game is a real-time strategy game, where you have', 'FollowerCount': 2090, 'PostCount': 47, 'Language': 'JAP'}\n"
     ]
    },
    {
     "name": "stderr",
     "output_type": "stream",
     "text": [
      "The attention mask and the pad token id were not set. As a consequence, you may observe unexpected behavior. Please pass your input's `attention_mask` to obtain reliable results.\n",
      "Setting `pad_token_id` to `eos_token_id`:50256 for open-end generation.\n"
     ]
    },
    {
     "name": "stdout",
     "output_type": "stream",
     "text": [
      "Finished: row 462 of 500\n",
      "{'ID': 462, 'Username': 'bonniegonzalez', 'Age': 24, 'Country': 'France', 'CreationDate': '06/05/2009 01:19 PM', 'Description': 'The author is a writer and a gamer. He is currently working on a', 'FollowerCount': 9047, 'PostCount': 5, 'Language': 'FRE'}\n"
     ]
    },
    {
     "name": "stderr",
     "output_type": "stream",
     "text": [
      "The attention mask and the pad token id were not set. As a consequence, you may observe unexpected behavior. Please pass your input's `attention_mask` to obtain reliable results.\n",
      "Setting `pad_token_id` to `eos_token_id`:50256 for open-end generation.\n"
     ]
    },
    {
     "name": "stdout",
     "output_type": "stream",
     "text": [
      "Finished: row 463 of 500\n",
      "{'ID': 463, 'Username': 'mathiscaitlin', 'Age': 110, 'Country': 'UK', 'CreationDate': '03/28/2023 12:15 PM', 'Description': 'The author is a biologist and a political scientist. He is a member of', 'FollowerCount': 348, 'PostCount': 0, 'Language': 'ENG'}\n"
     ]
    },
    {
     "name": "stderr",
     "output_type": "stream",
     "text": [
      "The attention mask and the pad token id were not set. As a consequence, you may observe unexpected behavior. Please pass your input's `attention_mask` to obtain reliable results.\n",
      "Setting `pad_token_id` to `eos_token_id`:50256 for open-end generation.\n"
     ]
    },
    {
     "name": "stdout",
     "output_type": "stream",
     "text": [
      "Finished: row 464 of 500\n",
      "{'ID': 464, 'Username': '1976_mrobinson', 'Age': 24, 'Country': 'USA', 'CreationDate': '03/10/2019 02:20 PM', 'Description': 'The first ever conference on the history of the sport of rugby union was held', 'FollowerCount': 3342, 'PostCount': 5, 'Language': 'ENG'}\n"
     ]
    },
    {
     "name": "stderr",
     "output_type": "stream",
     "text": [
      "The attention mask and the pad token id were not set. As a consequence, you may observe unexpected behavior. Please pass your input's `attention_mask` to obtain reliable results.\n",
      "Setting `pad_token_id` to `eos_token_id`:50256 for open-end generation.\n"
     ]
    },
    {
     "name": "stdout",
     "output_type": "stream",
     "text": [
      "Finished: row 465 of 500\n",
      "{'ID': 465, 'Username': 'john99', 'Age': 30, 'Country': 'Russia', 'CreationDate': '06/06/2010 11:16 AM', 'Description': 'The game is a real-time strategy game, where you control', 'FollowerCount': 2121, 'PostCount': 69, 'Language': 'RUS'}\n"
     ]
    },
    {
     "name": "stderr",
     "output_type": "stream",
     "text": [
      "The attention mask and the pad token id were not set. As a consequence, you may observe unexpected behavior. Please pass your input's `attention_mask` to obtain reliable results.\n",
      "Setting `pad_token_id` to `eos_token_id`:50256 for open-end generation.\n"
     ]
    },
    {
     "name": "stdout",
     "output_type": "stream",
     "text": [
      "Finished: row 466 of 500\n",
      "{'ID': 466, 'Username': 'scott01', 'Age': 51, 'Country': 'France', 'CreationDate': '04/21/2020 05:30 PM', 'Description': 'I am a photographer, I am a photographer, I am a photographer,', 'FollowerCount': 1017, 'PostCount': 12, 'Language': 'ITA'}\n"
     ]
    },
    {
     "name": "stderr",
     "output_type": "stream",
     "text": [
      "The attention mask and the pad token id were not set. As a consequence, you may observe unexpected behavior. Please pass your input's `attention_mask` to obtain reliable results.\n",
      "Setting `pad_token_id` to `eos_token_id`:50256 for open-end generation.\n"
     ]
    },
    {
     "name": "stdout",
     "output_type": "stream",
     "text": [
      "Finished: row 467 of 500\n",
      "{'ID': 467, 'Username': '1964_lmarshall', 'Age': '', 'Country': 'Japan', 'CreationDate': '01/02/2011 05:50 AM', 'Description': 'The L.M. Marshall Company, Inc. is a manufacturer of', 'FollowerCount': 6370, 'PostCount': 26, 'Language': 'JAP'}\n"
     ]
    },
    {
     "name": "stderr",
     "output_type": "stream",
     "text": [
      "The attention mask and the pad token id were not set. As a consequence, you may observe unexpected behavior. Please pass your input's `attention_mask` to obtain reliable results.\n",
      "Setting `pad_token_id` to `eos_token_id`:50256 for open-end generation.\n"
     ]
    },
    {
     "name": "stdout",
     "output_type": "stream",
     "text": [
      "Finished: row 468 of 500\n",
      "{'ID': 468, 'Username': 'shannon02', 'Age': 89, 'Country': 'Netherlands', 'CreationDate': '11/10/2010 03:20 PM', 'Description': 'The Republican Party is the party of the people, the party of the people', 'FollowerCount': 4669, 'PostCount': 0, 'Language': 'ENG'}\n"
     ]
    },
    {
     "name": "stderr",
     "output_type": "stream",
     "text": [
      "The attention mask and the pad token id were not set. As a consequence, you may observe unexpected behavior. Please pass your input's `attention_mask` to obtain reliable results.\n",
      "Setting `pad_token_id` to `eos_token_id`:50256 for open-end generation.\n"
     ]
    },
    {
     "name": "stdout",
     "output_type": "stream",
     "text": [
      "Finished: row 469 of 500\n",
      "{'ID': 469, 'Username': 'john32', 'Age': 48, 'Country': 'UK', 'CreationDate': '10/12/2014 09:16 AM', 'Description': 'The Republican Party is the party of the people, the party of', 'FollowerCount': 13676, 'PostCount': 26, 'Language': 'ENG'}\n"
     ]
    },
    {
     "name": "stderr",
     "output_type": "stream",
     "text": [
      "The attention mask and the pad token id were not set. As a consequence, you may observe unexpected behavior. Please pass your input's `attention_mask` to obtain reliable results.\n",
      "Setting `pad_token_id` to `eos_token_id`:50256 for open-end generation.\n"
     ]
    },
    {
     "name": "stdout",
     "output_type": "stream",
     "text": [
      "Finished: row 470 of 500\n",
      "{'ID': 470, 'Username': 'judy04_1996', 'Age': 89, 'Country': 'Netherlands', 'CreationDate': '02/20/2010 09:56 PM', 'Description': ':,', 'FollowerCount': 8388, 'PostCount': 14, 'Language': 'NED'}\n"
     ]
    },
    {
     "name": "stderr",
     "output_type": "stream",
     "text": [
      "The attention mask and the pad token id were not set. As a consequence, you may observe unexpected behavior. Please pass your input's `attention_mask` to obtain reliable results.\n"
     ]
    },
    {
     "name": "stdout",
     "output_type": "stream",
     "text": [
      "Finished: row 471 of 500\n",
      "{'ID': 471, 'Username': 'melissaking', 'Age': 73, 'Country': 'Germany', 'CreationDate': '07/03/2019 10:09 PM', 'Description': \"I'm a girl who likes to play games, and I'm a\", 'FollowerCount': 5218, 'PostCount': 21, 'Language': 'GER'}\n"
     ]
    },
    {
     "name": "stderr",
     "output_type": "stream",
     "text": [
      "Setting `pad_token_id` to `eos_token_id`:50256 for open-end generation.\n",
      "The attention mask and the pad token id were not set. As a consequence, you may observe unexpected behavior. Please pass your input's `attention_mask` to obtain reliable results.\n",
      "Setting `pad_token_id` to `eos_token_id`:50256 for open-end generation.\n"
     ]
    },
    {
     "name": "stdout",
     "output_type": "stream",
     "text": [
      "Finished: row 472 of 500\n",
      "{'ID': 472, 'Username': 'christopher14', 'Age': 34, 'Country': 'China', 'CreationDate': '09/18/2023 02:11 PM', 'Description': 'I am a Republican, and I am a Trump supporter. I am a', 'FollowerCount': 15, 'PostCount': 501, 'Language': 'MAN'}\n"
     ]
    },
    {
     "name": "stderr",
     "output_type": "stream",
     "text": [
      "The attention mask and the pad token id were not set. As a consequence, you may observe unexpected behavior. Please pass your input's `attention_mask` to obtain reliable results.\n",
      "Setting `pad_token_id` to `eos_token_id`:50256 for open-end generation.\n"
     ]
    },
    {
     "name": "stdout",
     "output_type": "stream",
     "text": [
      "Finished: row 473 of 500\n",
      "{'ID': 473, 'Username': 'georgejames', 'Age': 45, 'Country': 'UK', 'CreationDate': '04/29/2010 07:27 PM', 'Description': 'The George Washington University is a public research university located in Washington, DC.', 'FollowerCount': 163, 'PostCount': 139, 'Language': 'JAP'}\n"
     ]
    },
    {
     "name": "stderr",
     "output_type": "stream",
     "text": [
      "The attention mask and the pad token id were not set. As a consequence, you may observe unexpected behavior. Please pass your input's `attention_mask` to obtain reliable results.\n",
      "Setting `pad_token_id` to `eos_token_id`:50256 for open-end generation.\n"
     ]
    },
    {
     "name": "stdout",
     "output_type": "stream",
     "text": [
      "Finished: row 474 of 500\n",
      "{'ID': 474, 'Username': '1953_timothy29', 'Age': 30, 'Country': 'Germany', 'CreationDate': '06/03/2021 05:35 PM', 'Description': 'The first time I saw the president of the United States was in the', 'FollowerCount': 7, 'PostCount': 617, 'Language': 'GER'}\n"
     ]
    },
    {
     "name": "stderr",
     "output_type": "stream",
     "text": [
      "The attention mask and the pad token id were not set. As a consequence, you may observe unexpected behavior. Please pass your input's `attention_mask` to obtain reliable results.\n",
      "Setting `pad_token_id` to `eos_token_id`:50256 for open-end generation.\n"
     ]
    },
    {
     "name": "stdout",
     "output_type": "stream",
     "text": [
      "Finished: row 475 of 500\n",
      "{'ID': 475, 'Username': 'ryanbennett', 'Age': 23, 'Country': 'Germany', 'CreationDate': '11/08/2021 09:23 PM', 'Description': 'The author is a former senior adviser to President Donald Trump. He is the', 'FollowerCount': 79, 'PostCount': 2662, 'Language': 'GER'}\n"
     ]
    },
    {
     "name": "stderr",
     "output_type": "stream",
     "text": [
      "The attention mask and the pad token id were not set. As a consequence, you may observe unexpected behavior. Please pass your input's `attention_mask` to obtain reliable results.\n",
      "Setting `pad_token_id` to `eos_token_id`:50256 for open-end generation.\n"
     ]
    },
    {
     "name": "stdout",
     "output_type": "stream",
     "text": [
      "Finished: row 476 of 500\n",
      "{'ID': 476, 'Username': '1999_williamsjose', 'Age': 69, 'Country': 'UK', 'CreationDate': '10/14/2015 06:47 AM', 'Description': 'The author, a former Republican, is a former member of the U', 'FollowerCount': 5523, 'PostCount': 22, 'Language': 'ENG'}\n"
     ]
    },
    {
     "name": "stderr",
     "output_type": "stream",
     "text": [
      "The attention mask and the pad token id were not set. As a consequence, you may observe unexpected behavior. Please pass your input's `attention_mask` to obtain reliable results.\n",
      "Setting `pad_token_id` to `eos_token_id`:50256 for open-end generation.\n"
     ]
    },
    {
     "name": "stdout",
     "output_type": "stream",
     "text": [
      "Finished: row 477 of 500\n",
      "{'ID': 477, 'Username': 'qmorales', 'Age': 38, 'Country': 'Netherlands', 'CreationDate': '08/13/2011 01:04 PM', 'Description': 'The first ever online game to be developed by a woman, the game is', 'FollowerCount': 1113, 'PostCount': 2, 'Language': 'GER'}\n"
     ]
    },
    {
     "name": "stderr",
     "output_type": "stream",
     "text": [
      "The attention mask and the pad token id were not set. As a consequence, you may observe unexpected behavior. Please pass your input's `attention_mask` to obtain reliable results.\n",
      "Setting `pad_token_id` to `eos_token_id`:50256 for open-end generation.\n"
     ]
    },
    {
     "name": "stdout",
     "output_type": "stream",
     "text": [
      "Finished: row 478 of 500\n",
      "{'ID': 478, 'Username': 'wsmith_1972', 'Age': 30, 'Country': 'Germany', 'CreationDate': '08/06/2017 01:33 PM', 'Description': 'The Republican Party is in a state of flux. The party is in a', 'FollowerCount': 5429, 'PostCount': 55, 'Language': 'GER'}\n"
     ]
    },
    {
     "name": "stderr",
     "output_type": "stream",
     "text": [
      "The attention mask and the pad token id were not set. As a consequence, you may observe unexpected behavior. Please pass your input's `attention_mask` to obtain reliable results.\n",
      "Setting `pad_token_id` to `eos_token_id`:50256 for open-end generation.\n"
     ]
    },
    {
     "name": "stdout",
     "output_type": "stream",
     "text": [
      "Finished: row 479 of 500\n",
      "{'ID': 479, 'Username': '1959_nhuang', 'Age': 65, 'Country': 'USA', 'CreationDate': '07/13/2021 07:26 PM', 'Description': 'The following is a short profile of the author of the book ', 'FollowerCount': 1317, 'PostCount': 33, 'Language': 'ENG'}\n",
      "Finished: row 480 of 500\n",
      "{'ID': 480, 'Username': 'mccoykimberly', 'Age': 66, 'Country': 'Germany', 'CreationDate': '01/02/2022 03:23 PM', 'Description': 'I am a full time student at the University of Maryland, College Park.', 'FollowerCount': 1828, 'PostCount': 4, 'Language': 'GER'}\n"
     ]
    },
    {
     "name": "stderr",
     "output_type": "stream",
     "text": [
      "The attention mask and the pad token id were not set. As a consequence, you may observe unexpected behavior. Please pass your input's `attention_mask` to obtain reliable results.\n",
      "Setting `pad_token_id` to `eos_token_id`:50256 for open-end generation.\n",
      "The attention mask and the pad token id were not set. As a consequence, you may observe unexpected behavior. Please pass your input's `attention_mask` to obtain reliable results.\n",
      "Setting `pad_token_id` to `eos_token_id`:50256 for open-end generation.\n"
     ]
    },
    {
     "name": "stdout",
     "output_type": "stream",
     "text": [
      "Finished: row 481 of 500\n",
      "{'ID': 481, 'Username': '1989_anthonybell', 'Age': 66, 'Country': 'USA', 'CreationDate': '12/09/2016 05:56 PM', 'Description': 'The first of the two-part series on the life and work of', 'FollowerCount': 2457, 'PostCount': 4, 'Language': 'ENG'}\n"
     ]
    },
    {
     "name": "stderr",
     "output_type": "stream",
     "text": [
      "The attention mask and the pad token id were not set. As a consequence, you may observe unexpected behavior. Please pass your input's `attention_mask` to obtain reliable results.\n",
      "Setting `pad_token_id` to `eos_token_id`:50256 for open-end generation.\n"
     ]
    },
    {
     "name": "stdout",
     "output_type": "stream",
     "text": [
      "Finished: row 482 of 500\n",
      "{'ID': 482, 'Username': '1992_ugaines', 'Age': 50, 'Country': 'USA', 'CreationDate': '09/19/2013 02:23 AM', 'Description': 'The first of the two-day events, the annual meeting of the', 'FollowerCount': 1033, 'PostCount': 31, 'Language': 'ENG'}\n"
     ]
    },
    {
     "name": "stderr",
     "output_type": "stream",
     "text": [
      "The attention mask and the pad token id were not set. As a consequence, you may observe unexpected behavior. Please pass your input's `attention_mask` to obtain reliable results.\n",
      "Setting `pad_token_id` to `eos_token_id`:50256 for open-end generation.\n"
     ]
    },
    {
     "name": "stdout",
     "output_type": "stream",
     "text": [
      "Finished: row 483 of 500\n",
      "{'ID': 483, 'Username': 'brookeharper', 'Age': 56, 'Country': 'UK', 'CreationDate': '02/19/2023 01:19 AM', 'Description': 'The author is a former senior adviser to the U.S. State Department', 'FollowerCount': 41, 'PostCount': 2274, 'Language': 'ENG'}\n"
     ]
    },
    {
     "name": "stderr",
     "output_type": "stream",
     "text": [
      "The attention mask and the pad token id were not set. As a consequence, you may observe unexpected behavior. Please pass your input's `attention_mask` to obtain reliable results.\n",
      "Setting `pad_token_id` to `eos_token_id`:50256 for open-end generation.\n"
     ]
    },
    {
     "name": "stdout",
     "output_type": "stream",
     "text": [
      "Finished: row 484 of 500\n",
      "{'ID': 484, 'Username': '1972_cameron13', 'Age': '', 'Country': 'Germany', 'CreationDate': '09/16/2017 10:46 AM', 'Description': \"The first ever event in the history of the world's largest and most successful\", 'FollowerCount': 251, 'PostCount': 69, 'Language': 'GER'}\n"
     ]
    },
    {
     "name": "stderr",
     "output_type": "stream",
     "text": [
      "The attention mask and the pad token id were not set. As a consequence, you may observe unexpected behavior. Please pass your input's `attention_mask` to obtain reliable results.\n",
      "Setting `pad_token_id` to `eos_token_id`:50256 for open-end generation.\n"
     ]
    },
    {
     "name": "stdout",
     "output_type": "stream",
     "text": [
      "Finished: row 485 of 500\n",
      "{'ID': 485, 'Username': 'robertsweeney_1964', 'Age': '', 'Country': 'Italy', 'CreationDate': '08/03/2018 08:18 AM', 'Description': 'The author, a former U.S. Marine, is a former', 'FollowerCount': 2862, 'PostCount': 43, 'Language': 'ENG'}\n"
     ]
    },
    {
     "name": "stderr",
     "output_type": "stream",
     "text": [
      "The attention mask and the pad token id were not set. As a consequence, you may observe unexpected behavior. Please pass your input's `attention_mask` to obtain reliable results.\n",
      "Setting `pad_token_id` to `eos_token_id`:50256 for open-end generation.\n"
     ]
    },
    {
     "name": "stdout",
     "output_type": "stream",
     "text": [
      "Finished: row 486 of 500\n",
      "{'ID': 486, 'Username': '1962_millerleslie', 'Age': 59, 'Country': 'USA', 'CreationDate': '02/14/2014 02:20 PM', 'Description': 'The Miller-Lewis-Lane (MLL is a small', 'FollowerCount': 3879, 'PostCount': 74, 'Language': 'ITA'}\n"
     ]
    },
    {
     "name": "stderr",
     "output_type": "stream",
     "text": [
      "The attention mask and the pad token id were not set. As a consequence, you may observe unexpected behavior. Please pass your input's `attention_mask` to obtain reliable results.\n",
      "Setting `pad_token_id` to `eos_token_id`:50256 for open-end generation.\n"
     ]
    },
    {
     "name": "stdout",
     "output_type": "stream",
     "text": [
      "Finished: row 487 of 500\n",
      "{'ID': 487, 'Username': 'mortonalan_1989', 'Age': 33, 'Country': 'China', 'CreationDate': '02/05/2009 07:38 PM', 'Description': 'The author, who is a photographer, has been working in the field of', 'FollowerCount': 8581, 'PostCount': 52, 'Language': 'GER'}\n"
     ]
    },
    {
     "name": "stderr",
     "output_type": "stream",
     "text": [
      "The attention mask and the pad token id were not set. As a consequence, you may observe unexpected behavior. Please pass your input's `attention_mask` to obtain reliable results.\n",
      "Setting `pad_token_id` to `eos_token_id`:50256 for open-end generation.\n"
     ]
    },
    {
     "name": "stdout",
     "output_type": "stream",
     "text": [
      "Finished: row 488 of 500\n",
      "{'ID': 488, 'Username': 'wrodriguez', 'Age': 59, 'Country': '', 'CreationDate': '04/10/2011 07:43 PM', 'Description': 'The author is a veterinarian and a professor of veterinary medicine at the University of', 'FollowerCount': 3337, 'PostCount': 33, 'Language': 'ENG'}\n"
     ]
    },
    {
     "name": "stderr",
     "output_type": "stream",
     "text": [
      "The attention mask and the pad token id were not set. As a consequence, you may observe unexpected behavior. Please pass your input's `attention_mask` to obtain reliable results.\n",
      "Setting `pad_token_id` to `eos_token_id`:50256 for open-end generation.\n"
     ]
    },
    {
     "name": "stdout",
     "output_type": "stream",
     "text": [
      "Finished: row 489 of 500\n",
      "{'ID': 489, 'Username': 'jacksontracey', 'Age': 43, 'Country': 'China', 'CreationDate': '10/27/2014 06:34 PM', 'Description': 'The first ever, and only, fully-automated, fully-', 'FollowerCount': 1357, 'PostCount': 18, 'Language': 'RUS'}\n"
     ]
    },
    {
     "name": "stderr",
     "output_type": "stream",
     "text": [
      "The attention mask and the pad token id were not set. As a consequence, you may observe unexpected behavior. Please pass your input's `attention_mask` to obtain reliable results.\n",
      "Setting `pad_token_id` to `eos_token_id`:50256 for open-end generation.\n"
     ]
    },
    {
     "name": "stdout",
     "output_type": "stream",
     "text": [
      "Finished: row 490 of 500\n",
      "{'ID': 490, 'Username': 'tyrone68', 'Age': 40, 'Country': '', 'CreationDate': '08/30/2012 08:17 AM', 'Description': 'I am a professional photographer and I love to take pictures of people and places', 'FollowerCount': 4312, 'PostCount': 38, 'Language': 'ENG'}\n"
     ]
    },
    {
     "name": "stderr",
     "output_type": "stream",
     "text": [
      "The attention mask and the pad token id were not set. As a consequence, you may observe unexpected behavior. Please pass your input's `attention_mask` to obtain reliable results.\n",
      "Setting `pad_token_id` to `eos_token_id`:50256 for open-end generation.\n"
     ]
    },
    {
     "name": "stdout",
     "output_type": "stream",
     "text": [
      "Finished: row 491 of 500\n",
      "{'ID': 491, 'Username': 'ryanleon_1983', 'Age': 38, 'Country': 'Japan', 'CreationDate': '10/06/2010 09:16 AM', 'Description': 'The most famous and influential of the early American political cartoonists, Charles', 'FollowerCount': 4740, 'PostCount': 12, 'Language': 'JAP'}\n"
     ]
    },
    {
     "name": "stderr",
     "output_type": "stream",
     "text": [
      "The attention mask and the pad token id were not set. As a consequence, you may observe unexpected behavior. Please pass your input's `attention_mask` to obtain reliable results.\n",
      "Setting `pad_token_id` to `eos_token_id`:50256 for open-end generation.\n"
     ]
    },
    {
     "name": "stdout",
     "output_type": "stream",
     "text": [
      "Finished: row 492 of 500\n",
      "{'ID': 492, 'Username': 'lopezkatherine_1964', 'Age': 24, 'Country': 'Germany', 'CreationDate': '01/26/2011 05:00 PM', 'Description': 'The author is a professional writer and a professional photographer. She has been a', 'FollowerCount': 5347, 'PostCount': 53, 'Language': 'GER'}\n"
     ]
    },
    {
     "name": "stderr",
     "output_type": "stream",
     "text": [
      "The attention mask and the pad token id were not set. As a consequence, you may observe unexpected behavior. Please pass your input's `attention_mask` to obtain reliable results.\n",
      "Setting `pad_token_id` to `eos_token_id`:50256 for open-end generation.\n"
     ]
    },
    {
     "name": "stdout",
     "output_type": "stream",
     "text": [
      "Finished: row 493 of 500\n",
      "{'ID': 493, 'Username': 'david04', 'Age': 19, 'Country': 'Germany', 'CreationDate': '02/26/2008 06:58 PM', 'Description': 'I am a very active person, I love to travel, I love to', 'FollowerCount': 17550, 'PostCount': 7, 'Language': 'ITA'}\n"
     ]
    },
    {
     "name": "stderr",
     "output_type": "stream",
     "text": [
      "The attention mask and the pad token id were not set. As a consequence, you may observe unexpected behavior. Please pass your input's `attention_mask` to obtain reliable results.\n",
      "Setting `pad_token_id` to `eos_token_id`:50256 for open-end generation.\n"
     ]
    },
    {
     "name": "stdout",
     "output_type": "stream",
     "text": [
      "Finished: row 494 of 500\n",
      "{'ID': 494, 'Username': '1989_lcarter', 'Age': 23, 'Country': 'Germany', 'CreationDate': '06/16/2018 03:41 AM', 'Description': 'The first woman to be elected to the U.S. House of', 'FollowerCount': 10267, 'PostCount': 7, 'Language': 'GER'}\n"
     ]
    },
    {
     "name": "stderr",
     "output_type": "stream",
     "text": [
      "The attention mask and the pad token id were not set. As a consequence, you may observe unexpected behavior. Please pass your input's `attention_mask` to obtain reliable results.\n",
      "Setting `pad_token_id` to `eos_token_id`:50256 for open-end generation.\n"
     ]
    },
    {
     "name": "stdout",
     "output_type": "stream",
     "text": [
      "Finished: row 495 of 500\n",
      "{'ID': 495, 'Username': 'chloe56_1969', 'Age': '', 'Country': 'China', 'CreationDate': '02/09/2023 11:42 AM', 'Description': 'The best of the best, the most popular, the most popular, the', 'FollowerCount': 1002, 'PostCount': 8, 'Language': 'MAN'}\n"
     ]
    },
    {
     "name": "stderr",
     "output_type": "stream",
     "text": [
      "The attention mask and the pad token id were not set. As a consequence, you may observe unexpected behavior. Please pass your input's `attention_mask` to obtain reliable results.\n",
      "Setting `pad_token_id` to `eos_token_id`:50256 for open-end generation.\n"
     ]
    },
    {
     "name": "stdout",
     "output_type": "stream",
     "text": [
      "Finished: row 496 of 500\n",
      "{'ID': 496, 'Username': '2004_donnarobinson', 'Age': '', 'Country': 'Netherlands', 'CreationDate': '10/29/2022 11:55 PM', 'Description': 'The job offer is for a position in the Sales Department. The position is', 'FollowerCount': 581, 'PostCount': 3, 'Language': 'NED'}\n"
     ]
    },
    {
     "name": "stderr",
     "output_type": "stream",
     "text": [
      "The attention mask and the pad token id were not set. As a consequence, you may observe unexpected behavior. Please pass your input's `attention_mask` to obtain reliable results.\n",
      "Setting `pad_token_id` to `eos_token_id`:50256 for open-end generation.\n"
     ]
    },
    {
     "name": "stdout",
     "output_type": "stream",
     "text": [
      "Finished: row 497 of 500\n",
      "{'ID': 497, 'Username': 'baileysandra', 'Age': 41, 'Country': 'China', 'CreationDate': '06/05/2022 02:26 AM', 'Description': 'I am a full time student at the University of Toronto. I am a', 'FollowerCount': 1561, 'PostCount': 3, 'Language': 'ENG'}\n"
     ]
    },
    {
     "name": "stderr",
     "output_type": "stream",
     "text": [
      "The attention mask and the pad token id were not set. As a consequence, you may observe unexpected behavior. Please pass your input's `attention_mask` to obtain reliable results.\n",
      "Setting `pad_token_id` to `eos_token_id`:50256 for open-end generation.\n"
     ]
    },
    {
     "name": "stdout",
     "output_type": "stream",
     "text": [
      "Finished: row 498 of 500\n",
      "{'ID': 498, 'Username': 'floresbeth_1975', 'Age': 84, 'Country': 'China', 'CreationDate': '07/21/2015 09:20 AM', 'Description': 'I am a young, single, and very ambitious woman.', 'FollowerCount': 5259, 'PostCount': 58, 'Language': 'MAN'}\n"
     ]
    },
    {
     "name": "stderr",
     "output_type": "stream",
     "text": [
      "The attention mask and the pad token id were not set. As a consequence, you may observe unexpected behavior. Please pass your input's `attention_mask` to obtain reliable results.\n",
      "Setting `pad_token_id` to `eos_token_id`:50256 for open-end generation.\n"
     ]
    },
    {
     "name": "stdout",
     "output_type": "stream",
     "text": [
      "Finished: row 499 of 500\n",
      "{'ID': 499, 'Username': 'henglish', 'Age': '', 'Country': 'UK', 'CreationDate': '03/08/2015 01:56 AM', 'Description': 'The first Chinese-language newspaper in the United States, the People', 'FollowerCount': 5053, 'PostCount': 58, 'Language': 'ENG'}\n",
      "Finished: row 500 of 500\n",
      "{'ID': 500, 'Username': 'pspencer_1969', 'Age': 44, 'Country': 'Japan', 'CreationDate': '12/20/2022 11:37 AM', 'Description': 'The first ever World Cup of Golf was held in the United States in 1969', 'FollowerCount': 228, 'PostCount': 1, 'Language': 'JAP'}\n"
     ]
    }
   ],
   "source": [
    "# Main loop executing all creations and generating data for the final dataset\n",
    "for i in range(1, OutputCount + 1):\n",
    "    row = {\n",
    "        \"ID\": \"\",\n",
    "        \"Username\": \"\",\n",
    "        \"Age\": \"\",\n",
    "        \"Country\": \"\",\n",
    "        \"CreationDate\": \"\",\n",
    "        \"Description\": \"\",\n",
    "        \"FollowerCount\": \"\",\n",
    "        \"PostCount\": \"\",\n",
    "        \"Language\": \"\",\n",
    "    }\n",
    "    row[\"ID\"] = i\n",
    "    bot = False\n",
    "    company = False\n",
    "    Topicslist = []\n",
    "    \n",
    "    bot, company, Topicslist = decide_account_type(bot, company, Topicslist) # Helpers\n",
    "\n",
    "    row[\"Age\"] = set_age(company)\n",
    "    \n",
    "    creation_date = set_creation_date(bot)\n",
    "    row[\"CreationDate\"] = creation_date\n",
    "    \n",
    "    row[\"Country\"], row[\"Language\"] = set_country_language()\n",
    "    \n",
    "    account_age = calculate_account_age(creation_date)\n",
    "    \n",
    "    row[\"FollowerCount\"], row[\"PostCount\"] = calculate_followers_posts(bot, account_age)\n",
    "    \n",
    "    username = generate_username()\n",
    "    row[\"Username\"] = username\n",
    "    \n",
    "    row[\"Description\"] = generate_description(\n",
    "        bot,\n",
    "        company,\n",
    "        Topicslist,\n",
    "        username,\n",
    "        BotDesc,\n",
    "        CompanyDesc,\n",
    "        NormalDesc,\n",
    "        model,\n",
    "        tokenizer,\n",
    "    )\n",
    "\n",
    "    print(f\"Finished: row {row['ID']} of {OutputCount}\")\n",
    "    print(row)\n",
    "    \n",
    "    df.loc[len(df)] = row"
   ]
  },
  {
   "cell_type": "markdown",
   "id": "f5144677",
   "metadata": {},
   "source": [
    "### Output Documentation\n",
    "\n",
    "- ID: ID of the entry, i.e., to keep track of the accounts in the dataset\n",
    "- Username: username of the user, i.e., the account in focus\n",
    "- Age: age of the user, may contain NAs\n",
    "- Country: country of the user\n",
    "- CreationDate: date and time when the account was created\n",
    "- Description: textual description that is displayed on the account\n",
    "- FollowerCount: number of users that follow the account in focus\n",
    "- PostCount: number of posts that were uploaded on the account in focus\n",
    "- Language: language of the user"
   ]
  },
  {
   "cell_type": "code",
   "execution_count": 9,
   "id": "315f444f",
   "metadata": {},
   "outputs": [],
   "source": [
    "df.to_csv('data_example.csv', index=False)\n",
    "\n",
    "# display(df['Description'])"
   ]
  }
 ],
 "metadata": {
  "kernelspec": {
   "display_name": "Python 3 (ipykernel)",
   "language": "python",
   "name": "python3"
  },
  "language_info": {
   "codemirror_mode": {
    "name": "ipython",
    "version": 3
   },
   "file_extension": ".py",
   "mimetype": "text/x-python",
   "name": "python",
   "nbconvert_exporter": "python",
   "pygments_lexer": "ipython3",
   "version": "3.11.5"
  }
 },
 "nbformat": 4,
 "nbformat_minor": 5
}
